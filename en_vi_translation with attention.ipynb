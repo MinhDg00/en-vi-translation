{
  "nbformat": 4,
  "nbformat_minor": 0,
  "metadata": {
    "kernelspec": {
      "name": "python3",
      "display_name": "Python 3"
    },
    "language_info": {
      "codemirror_mode": {
        "name": "ipython",
        "version": 3
      },
      "file_extension": ".py",
      "mimetype": "text/x-python",
      "name": "python",
      "nbconvert_exporter": "python",
      "pygments_lexer": "ipython3",
      "version": "3.7.3"
    },
    "colab": {
      "name": "en-vi translation.ipynb",
      "provenance": [],
      "toc_visible": true,
      "include_colab_link": true
    },
    "accelerator": "GPU"
  },
  "cells": [
    {
      "cell_type": "markdown",
      "metadata": {
        "id": "view-in-github",
        "colab_type": "text"
      },
      "source": [
        "<a href=\"https://colab.research.google.com/github/MinhDg00/en-vi-translation/blob/master/en_vi_translation%20with%20attention.ipynb\" target=\"_parent\"><img src=\"https://colab.research.google.com/assets/colab-badge.svg\" alt=\"Open In Colab\"/></a>"
      ]
    },
    {
      "cell_type": "markdown",
      "metadata": {
        "id": "Pp_ZaSpIyq3F",
        "colab_type": "text"
      },
      "source": [
        "# Machine Translation Eng-Viet"
      ]
    },
    {
      "cell_type": "markdown",
      "metadata": {
        "id": "D4GPfMSlyq3L",
        "colab_type": "text"
      },
      "source": [
        "The Project uses the EVBCorpus - a English and Vietnamese parallel translations and bitexts \n",
        "\n",
        "More information about the data can be found [here](https://github.com/qhungngo/EVBCorpus)"
      ]
    },
    {
      "cell_type": "markdown",
      "metadata": {
        "id": "NpK94oZeyq3M",
        "colab_type": "text"
      },
      "source": [
        "### Load Files and Create Dataset"
      ]
    },
    {
      "cell_type": "code",
      "metadata": {
        "id": "CMllmeOa3dkc",
        "colab_type": "code",
        "outputId": "7c2b6b2e-2ee6-4b12-a4ff-68d3e022ec33",
        "colab": {
          "base_uri": "https://localhost:8080/",
          "height": 35
        }
      },
      "source": [
        "!pwd"
      ],
      "execution_count": 1,
      "outputs": [
        {
          "output_type": "stream",
          "text": [
            "/content\n"
          ],
          "name": "stdout"
        }
      ]
    },
    {
      "cell_type": "code",
      "metadata": {
        "id": "ZyxSr5UKyq3N",
        "colab_type": "code",
        "colab": {}
      },
      "source": [
        "# Packages for loading file\n",
        "import os\n",
        "from zipfile import ZipFile\n",
        "from bs4 import BeautifulSoup\n",
        "import re\n",
        "import glob\n",
        "import warnings\n",
        "warnings.filterwarnings('ignore')"
      ],
      "execution_count": 0,
      "outputs": []
    },
    {
      "cell_type": "code",
      "metadata": {
        "id": "zlUcSaGlyq3S",
        "colab_type": "code",
        "colab": {}
      },
      "source": [
        "# Set seed\n",
        "import numpy as np\n",
        "import random\n",
        "SEED = 46\n",
        "np.random.seed(SEED)\n",
        "random.seed(SEED)"
      ],
      "execution_count": 0,
      "outputs": []
    },
    {
      "cell_type": "code",
      "metadata": {
        "id": "tUQqFBr-2K0M",
        "colab_type": "code",
        "colab": {}
      },
      "source": [
        "with ZipFile('data.zip', 'r') as data:\n",
        "   # Extract all the contents of zip file in current directory\n",
        "   data.extractall()"
      ],
      "execution_count": 0,
      "outputs": []
    },
    {
      "cell_type": "code",
      "metadata": {
        "id": "C6XYTLQnyq3X",
        "colab_type": "code",
        "colab": {}
      },
      "source": [
        "data = []\n",
        "path = 'data/*.sgml'\n",
        "files = glob.glob(path)\n",
        "for file in files:\n",
        "    data.append(BeautifulSoup(open(file), 'lxml'))"
      ],
      "execution_count": 0,
      "outputs": []
    },
    {
      "cell_type": "code",
      "metadata": {
        "id": "0k46Py9kyq3d",
        "colab_type": "code",
        "colab": {}
      },
      "source": [
        "# Create 2 list contains english and vietnamese texts\n",
        "english_sentences = []\n",
        "vietnamese_sentences = []\n",
        "for d in data:\n",
        "    i = 0\n",
        "    for text in d.find_all('s'):\n",
        "        if i%2 == 0:\n",
        "            english_sentences.append(text.text)\n",
        "        else:\n",
        "            vietnamese_sentences.append(text.text)\n",
        "        i += 1 "
      ],
      "execution_count": 0,
      "outputs": []
    },
    {
      "cell_type": "code",
      "metadata": {
        "id": "UKcRCH4yyq3h",
        "colab_type": "code",
        "outputId": "1b661e93-5f67-49b3-cf48-f7ffa1654bae",
        "colab": {
          "base_uri": "https://localhost:8080/",
          "height": 52
        }
      },
      "source": [
        "print(vietnamese_sentences[0])\n",
        "print(english_sentences[0])"
      ],
      "execution_count": 8,
      "outputs": [
        {
          "output_type": "stream",
          "text": [
            "ADN của ông Dominique Strauss-Kahn \" có dính líu đến cô phục vụ phòng \"\n",
            "Dominique Strauss-Kahn DNA \" linked to maid \"\n"
          ],
          "name": "stdout"
        }
      ]
    },
    {
      "cell_type": "markdown",
      "metadata": {
        "id": "2FTegguKyq3n",
        "colab_type": "text"
      },
      "source": [
        "### Vocabulary"
      ]
    },
    {
      "cell_type": "code",
      "metadata": {
        "id": "69D_78WMyq3p",
        "colab_type": "code",
        "colab": {}
      },
      "source": [
        "# Create a counter\n",
        "import collections\n",
        "\n",
        "english_words_counter = collections.Counter([word for sentence in english_sentences for word in sentence.split()])\n",
        "vietnamese_words_counter = collections.Counter([word for sentence in vietnamese_sentences for word in sentence.split()])"
      ],
      "execution_count": 0,
      "outputs": []
    },
    {
      "cell_type": "code",
      "metadata": {
        "id": "fdDLRiDoyq3u",
        "colab_type": "code",
        "outputId": "2f68d5ab-e3dd-4bdc-8156-0d40fa3cf46b",
        "colab": {
          "base_uri": "https://localhost:8080/",
          "height": 87
        }
      },
      "source": [
        "# Inverstigate unique and most common words in both texts\n",
        "print('{} English words.'.format(len([word for sentence in english_sentences for word in sentence.split()])))\n",
        "print('{} unique English words.'.format(len(english_words_counter)))\n",
        "print('10 Most common words in the English dataset:')\n",
        "print('\"' + '\" \"'.join(list(zip(*english_words_counter.most_common(10)))[0]) + '\"')\n"
      ],
      "execution_count": 10,
      "outputs": [
        {
          "output_type": "stream",
          "text": [
            "880216 English words.\n",
            "40903 unique English words.\n",
            "10 Most common words in the English dataset:\n",
            "\".\" \",\" \"the\" \"to\" \"of\" \"and\" \"a\" \"in\" \"\"\" \"is\"\n"
          ],
          "name": "stdout"
        }
      ]
    },
    {
      "cell_type": "code",
      "metadata": {
        "id": "uuAOLl-1yq3y",
        "colab_type": "code",
        "outputId": "32d76f52-ead5-4a4c-efeb-03709c3c97de",
        "colab": {
          "base_uri": "https://localhost:8080/",
          "height": 87
        }
      },
      "source": [
        "print('{} Vietnamese words.'.format(len([word for sentence in vietnamese_sentences for word in sentence.split()])))\n",
        "print('{} unique Vietnamese words.'.format(len(vietnamese_sentences)))\n",
        "print('10 Most common words in the Vietnamese dataset:')\n",
        "print('\"' + '\" \"'.join(list(zip(*vietnamese_words_counter.most_common(10)))[0]) + '\"')"
      ],
      "execution_count": 11,
      "outputs": [
        {
          "output_type": "stream",
          "text": [
            "1201737 Vietnamese words.\n",
            "45308 unique Vietnamese words.\n",
            "10 Most common words in the Vietnamese dataset:\n",
            "\".\" \",\" \"và\" \"có\" \"của\" \"là\" \"một\" \"\"\" \"cho\" \"các\"\n"
          ],
          "name": "stdout"
        }
      ]
    },
    {
      "cell_type": "markdown",
      "metadata": {
        "id": "IQFFT8G12fa-",
        "colab_type": "text"
      },
      "source": [
        "###Sentiment Classification\n"
      ]
    },
    {
      "cell_type": "code",
      "metadata": {
        "id": "g6-rkFFUocSY",
        "colab_type": "code",
        "colab": {
          "base_uri": "https://localhost:8080/",
          "height": 1000
        },
        "outputId": "550cbc81-e1c6-43fb-fd16-02588d66366b"
      },
      "source": [
        "# install if not\n",
        "!pip install spacy\n",
        "!pip install transformers==2.3.0\n",
        "!pip install tensorflow==2.1.0"
      ],
      "execution_count": 11,
      "outputs": [
        {
          "output_type": "stream",
          "text": [
            "Requirement already satisfied: spacy in /usr/local/lib/python3.6/dist-packages (2.2.3)\n",
            "Requirement already satisfied: numpy>=1.15.0 in /usr/local/lib/python3.6/dist-packages (from spacy) (1.17.5)\n",
            "Requirement already satisfied: cymem<2.1.0,>=2.0.2 in /usr/local/lib/python3.6/dist-packages (from spacy) (2.0.3)\n",
            "Requirement already satisfied: requests<3.0.0,>=2.13.0 in /usr/local/lib/python3.6/dist-packages (from spacy) (2.21.0)\n",
            "Requirement already satisfied: blis<0.5.0,>=0.4.0 in /usr/local/lib/python3.6/dist-packages (from spacy) (0.4.1)\n",
            "Requirement already satisfied: catalogue<1.1.0,>=0.0.7 in /usr/local/lib/python3.6/dist-packages (from spacy) (1.0.0)\n",
            "Requirement already satisfied: plac<1.2.0,>=0.9.6 in /usr/local/lib/python3.6/dist-packages (from spacy) (0.9.6)\n",
            "Requirement already satisfied: thinc<7.4.0,>=7.3.0 in /usr/local/lib/python3.6/dist-packages (from spacy) (7.3.1)\n",
            "Requirement already satisfied: setuptools in /usr/local/lib/python3.6/dist-packages (from spacy) (45.2.0)\n",
            "Requirement already satisfied: preshed<3.1.0,>=3.0.2 in /usr/local/lib/python3.6/dist-packages (from spacy) (3.0.2)\n",
            "Requirement already satisfied: murmurhash<1.1.0,>=0.28.0 in /usr/local/lib/python3.6/dist-packages (from spacy) (1.0.2)\n",
            "Requirement already satisfied: wasabi<1.1.0,>=0.4.0 in /usr/local/lib/python3.6/dist-packages (from spacy) (0.6.0)\n",
            "Requirement already satisfied: srsly<1.1.0,>=0.1.0 in /usr/local/lib/python3.6/dist-packages (from spacy) (1.0.1)\n",
            "Requirement already satisfied: certifi>=2017.4.17 in /usr/local/lib/python3.6/dist-packages (from requests<3.0.0,>=2.13.0->spacy) (2019.11.28)\n",
            "Requirement already satisfied: urllib3<1.25,>=1.21.1 in /usr/local/lib/python3.6/dist-packages (from requests<3.0.0,>=2.13.0->spacy) (1.24.3)\n",
            "Requirement already satisfied: chardet<3.1.0,>=3.0.2 in /usr/local/lib/python3.6/dist-packages (from requests<3.0.0,>=2.13.0->spacy) (3.0.4)\n",
            "Requirement already satisfied: idna<2.9,>=2.5 in /usr/local/lib/python3.6/dist-packages (from requests<3.0.0,>=2.13.0->spacy) (2.8)\n",
            "Requirement already satisfied: importlib-metadata>=0.20; python_version < \"3.8\" in /usr/local/lib/python3.6/dist-packages (from catalogue<1.1.0,>=0.0.7->spacy) (1.5.0)\n",
            "Requirement already satisfied: tqdm<5.0.0,>=4.10.0 in /usr/local/lib/python3.6/dist-packages (from thinc<7.4.0,>=7.3.0->spacy) (4.28.1)\n",
            "Requirement already satisfied: zipp>=0.5 in /usr/local/lib/python3.6/dist-packages (from importlib-metadata>=0.20; python_version < \"3.8\"->catalogue<1.1.0,>=0.0.7->spacy) (3.1.0)\n",
            "Collecting transformers==2.3.0\n",
            "  Using cached https://files.pythonhosted.org/packages/50/10/aeefced99c8a59d828a92cc11d213e2743212d3641c87c82d61b035a7d5c/transformers-2.3.0-py3-none-any.whl\n",
            "Requirement already satisfied: boto3 in /usr/local/lib/python3.6/dist-packages (from transformers==2.3.0) (1.11.15)\n",
            "Requirement already satisfied: regex!=2019.12.17 in /usr/local/lib/python3.6/dist-packages (from transformers==2.3.0) (2019.12.20)\n",
            "Requirement already satisfied: requests in /usr/local/lib/python3.6/dist-packages (from transformers==2.3.0) (2.21.0)\n",
            "Requirement already satisfied: numpy in /usr/local/lib/python3.6/dist-packages (from transformers==2.3.0) (1.17.5)\n",
            "Requirement already satisfied: tqdm in /usr/local/lib/python3.6/dist-packages (from transformers==2.3.0) (4.28.1)\n",
            "Requirement already satisfied: sentencepiece in /usr/local/lib/python3.6/dist-packages (from transformers==2.3.0) (0.1.85)\n",
            "Requirement already satisfied: sacremoses in /usr/local/lib/python3.6/dist-packages (from transformers==2.3.0) (0.0.38)\n",
            "Requirement already satisfied: botocore<1.15.0,>=1.14.15 in /usr/local/lib/python3.6/dist-packages (from boto3->transformers==2.3.0) (1.14.15)\n",
            "Requirement already satisfied: s3transfer<0.4.0,>=0.3.0 in /usr/local/lib/python3.6/dist-packages (from boto3->transformers==2.3.0) (0.3.3)\n",
            "Requirement already satisfied: jmespath<1.0.0,>=0.7.1 in /usr/local/lib/python3.6/dist-packages (from boto3->transformers==2.3.0) (0.9.4)\n",
            "Requirement already satisfied: certifi>=2017.4.17 in /usr/local/lib/python3.6/dist-packages (from requests->transformers==2.3.0) (2019.11.28)\n",
            "Requirement already satisfied: urllib3<1.25,>=1.21.1 in /usr/local/lib/python3.6/dist-packages (from requests->transformers==2.3.0) (1.24.3)\n",
            "Requirement already satisfied: idna<2.9,>=2.5 in /usr/local/lib/python3.6/dist-packages (from requests->transformers==2.3.0) (2.8)\n",
            "Requirement already satisfied: chardet<3.1.0,>=3.0.2 in /usr/local/lib/python3.6/dist-packages (from requests->transformers==2.3.0) (3.0.4)\n",
            "Requirement already satisfied: click in /usr/local/lib/python3.6/dist-packages (from sacremoses->transformers==2.3.0) (7.0)\n",
            "Requirement already satisfied: six in /usr/local/lib/python3.6/dist-packages (from sacremoses->transformers==2.3.0) (1.12.0)\n",
            "Requirement already satisfied: joblib in /usr/local/lib/python3.6/dist-packages (from sacremoses->transformers==2.3.0) (0.14.1)\n",
            "Requirement already satisfied: python-dateutil<3.0.0,>=2.1 in /usr/local/lib/python3.6/dist-packages (from botocore<1.15.0,>=1.14.15->boto3->transformers==2.3.0) (2.6.1)\n",
            "Requirement already satisfied: docutils<0.16,>=0.10 in /usr/local/lib/python3.6/dist-packages (from botocore<1.15.0,>=1.14.15->boto3->transformers==2.3.0) (0.15.2)\n",
            "\u001b[31mERROR: spacy-transformers 0.5.1 has requirement transformers<2.1.0,>=2.0.0, but you'll have transformers 2.3.0 which is incompatible.\u001b[0m\n",
            "Installing collected packages: transformers\n",
            "  Found existing installation: transformers 2.0.0\n",
            "    Uninstalling transformers-2.0.0:\n",
            "      Successfully uninstalled transformers-2.0.0\n",
            "Successfully installed transformers-2.3.0\n",
            "Requirement already satisfied: tensorflow==2.1.0 in /usr/local/lib/python3.6/dist-packages (2.1.0)\n",
            "Requirement already satisfied: keras-applications>=1.0.8 in /usr/local/lib/python3.6/dist-packages (from tensorflow==2.1.0) (1.0.8)\n",
            "Requirement already satisfied: gast==0.2.2 in /usr/local/lib/python3.6/dist-packages (from tensorflow==2.1.0) (0.2.2)\n",
            "Requirement already satisfied: opt-einsum>=2.3.2 in /usr/local/lib/python3.6/dist-packages (from tensorflow==2.1.0) (3.1.0)\n",
            "Requirement already satisfied: tensorboard<2.2.0,>=2.1.0 in /usr/local/lib/python3.6/dist-packages (from tensorflow==2.1.0) (2.1.1)\n",
            "Requirement already satisfied: grpcio>=1.8.6 in /usr/local/lib/python3.6/dist-packages (from tensorflow==2.1.0) (1.27.1)\n",
            "Requirement already satisfied: absl-py>=0.7.0 in /usr/local/lib/python3.6/dist-packages (from tensorflow==2.1.0) (0.9.0)\n",
            "Requirement already satisfied: google-pasta>=0.1.6 in /usr/local/lib/python3.6/dist-packages (from tensorflow==2.1.0) (0.1.8)\n",
            "Requirement already satisfied: astor>=0.6.0 in /usr/local/lib/python3.6/dist-packages (from tensorflow==2.1.0) (0.8.1)\n",
            "Requirement already satisfied: keras-preprocessing>=1.1.0 in /usr/local/lib/python3.6/dist-packages (from tensorflow==2.1.0) (1.1.0)\n",
            "Requirement already satisfied: protobuf>=3.8.0 in /usr/local/lib/python3.6/dist-packages (from tensorflow==2.1.0) (3.10.0)\n",
            "Requirement already satisfied: termcolor>=1.1.0 in /usr/local/lib/python3.6/dist-packages (from tensorflow==2.1.0) (1.1.0)\n",
            "Requirement already satisfied: tensorflow-estimator<2.2.0,>=2.1.0rc0 in /usr/local/lib/python3.6/dist-packages (from tensorflow==2.1.0) (2.1.0)\n",
            "Requirement already satisfied: numpy<2.0,>=1.16.0 in /usr/local/lib/python3.6/dist-packages (from tensorflow==2.1.0) (1.17.5)\n",
            "Requirement already satisfied: six>=1.12.0 in /usr/local/lib/python3.6/dist-packages (from tensorflow==2.1.0) (1.12.0)\n",
            "Requirement already satisfied: wrapt>=1.11.1 in /usr/local/lib/python3.6/dist-packages (from tensorflow==2.1.0) (1.11.2)\n",
            "Requirement already satisfied: wheel>=0.26; python_version >= \"3\" in /usr/local/lib/python3.6/dist-packages (from tensorflow==2.1.0) (0.34.2)\n",
            "Requirement already satisfied: scipy==1.4.1; python_version >= \"3\" in /usr/local/lib/python3.6/dist-packages (from tensorflow==2.1.0) (1.4.1)\n",
            "Requirement already satisfied: h5py in /usr/local/lib/python3.6/dist-packages (from keras-applications>=1.0.8->tensorflow==2.1.0) (2.8.0)\n",
            "Requirement already satisfied: google-auth<2,>=1.6.3 in /usr/local/lib/python3.6/dist-packages (from tensorboard<2.2.0,>=2.1.0->tensorflow==2.1.0) (1.7.2)\n",
            "Requirement already satisfied: werkzeug>=0.11.15 in /usr/local/lib/python3.6/dist-packages (from tensorboard<2.2.0,>=2.1.0->tensorflow==2.1.0) (1.0.0)\n",
            "Requirement already satisfied: markdown>=2.6.8 in /usr/local/lib/python3.6/dist-packages (from tensorboard<2.2.0,>=2.1.0->tensorflow==2.1.0) (3.2.1)\n",
            "Requirement already satisfied: google-auth-oauthlib<0.5,>=0.4.1 in /usr/local/lib/python3.6/dist-packages (from tensorboard<2.2.0,>=2.1.0->tensorflow==2.1.0) (0.4.1)\n",
            "Requirement already satisfied: setuptools>=41.0.0 in /usr/local/lib/python3.6/dist-packages (from tensorboard<2.2.0,>=2.1.0->tensorflow==2.1.0) (45.2.0)\n",
            "Requirement already satisfied: requests<3,>=2.21.0 in /usr/local/lib/python3.6/dist-packages (from tensorboard<2.2.0,>=2.1.0->tensorflow==2.1.0) (2.21.0)\n",
            "Requirement already satisfied: rsa<4.1,>=3.1.4 in /usr/local/lib/python3.6/dist-packages (from google-auth<2,>=1.6.3->tensorboard<2.2.0,>=2.1.0->tensorflow==2.1.0) (4.0)\n",
            "Requirement already satisfied: pyasn1-modules>=0.2.1 in /usr/local/lib/python3.6/dist-packages (from google-auth<2,>=1.6.3->tensorboard<2.2.0,>=2.1.0->tensorflow==2.1.0) (0.2.8)\n",
            "Requirement already satisfied: cachetools<3.2,>=2.0.0 in /usr/local/lib/python3.6/dist-packages (from google-auth<2,>=1.6.3->tensorboard<2.2.0,>=2.1.0->tensorflow==2.1.0) (3.1.1)\n",
            "Requirement already satisfied: requests-oauthlib>=0.7.0 in /usr/local/lib/python3.6/dist-packages (from google-auth-oauthlib<0.5,>=0.4.1->tensorboard<2.2.0,>=2.1.0->tensorflow==2.1.0) (1.3.0)\n",
            "Requirement already satisfied: chardet<3.1.0,>=3.0.2 in /usr/local/lib/python3.6/dist-packages (from requests<3,>=2.21.0->tensorboard<2.2.0,>=2.1.0->tensorflow==2.1.0) (3.0.4)\n",
            "Requirement already satisfied: idna<2.9,>=2.5 in /usr/local/lib/python3.6/dist-packages (from requests<3,>=2.21.0->tensorboard<2.2.0,>=2.1.0->tensorflow==2.1.0) (2.8)\n",
            "Requirement already satisfied: certifi>=2017.4.17 in /usr/local/lib/python3.6/dist-packages (from requests<3,>=2.21.0->tensorboard<2.2.0,>=2.1.0->tensorflow==2.1.0) (2019.11.28)\n",
            "Requirement already satisfied: urllib3<1.25,>=1.21.1 in /usr/local/lib/python3.6/dist-packages (from requests<3,>=2.21.0->tensorboard<2.2.0,>=2.1.0->tensorflow==2.1.0) (1.24.3)\n",
            "Requirement already satisfied: pyasn1>=0.1.3 in /usr/local/lib/python3.6/dist-packages (from rsa<4.1,>=3.1.4->google-auth<2,>=1.6.3->tensorboard<2.2.0,>=2.1.0->tensorflow==2.1.0) (0.4.8)\n",
            "Requirement already satisfied: oauthlib>=3.0.0 in /usr/local/lib/python3.6/dist-packages (from requests-oauthlib>=0.7.0->google-auth-oauthlib<0.5,>=0.4.1->tensorboard<2.2.0,>=2.1.0->tensorflow==2.1.0) (3.1.0)\n"
          ],
          "name": "stdout"
        }
      ]
    },
    {
      "cell_type": "code",
      "metadata": {
        "id": "Cg3p7f8T2X9M",
        "colab_type": "code",
        "colab": {}
      },
      "source": [
        "from transformers import pipeline\n",
        "import pandas as pd"
      ],
      "execution_count": 0,
      "outputs": []
    },
    {
      "cell_type": "code",
      "metadata": {
        "id": "7o8JU_7G2vkJ",
        "colab_type": "code",
        "colab": {}
      },
      "source": [
        "sentiment_classifier = pipeline('sentiment-analysis')"
      ],
      "execution_count": 0,
      "outputs": []
    },
    {
      "cell_type": "markdown",
      "metadata": {
        "id": "5qWht4LJKxBf",
        "colab_type": "text"
      },
      "source": [
        "We will only investigate the first 100 english texts"
      ]
    },
    {
      "cell_type": "code",
      "metadata": {
        "id": "SION08LI3Nhn",
        "colab_type": "code",
        "colab": {}
      },
      "source": [
        "s = ([sentiment_classifier(sentence) for sentence in english_sentences[:100]])"
      ],
      "execution_count": 0,
      "outputs": []
    },
    {
      "cell_type": "code",
      "metadata": {
        "id": "xaTLxqIvK_qS",
        "colab_type": "code",
        "colab": {}
      },
      "source": [
        "sentiment_df = pd.DataFrame({'English_text':english_sentences[:100], 'Sentiment': s}, index = range(1,101))"
      ],
      "execution_count": 0,
      "outputs": []
    },
    {
      "cell_type": "code",
      "metadata": {
        "id": "cVQY7SYFNeP8",
        "colab_type": "code",
        "outputId": "5d501782-3845-4168-9ba5-613517a3a09f",
        "colab": {
          "base_uri": "https://localhost:8080/",
          "height": 202
        }
      },
      "source": [
        "sentiment_df.head()"
      ],
      "execution_count": 16,
      "outputs": [
        {
          "output_type": "execute_result",
          "data": {
            "text/html": [
              "<div>\n",
              "<style scoped>\n",
              "    .dataframe tbody tr th:only-of-type {\n",
              "        vertical-align: middle;\n",
              "    }\n",
              "\n",
              "    .dataframe tbody tr th {\n",
              "        vertical-align: top;\n",
              "    }\n",
              "\n",
              "    .dataframe thead th {\n",
              "        text-align: right;\n",
              "    }\n",
              "</style>\n",
              "<table border=\"1\" class=\"dataframe\">\n",
              "  <thead>\n",
              "    <tr style=\"text-align: right;\">\n",
              "      <th></th>\n",
              "      <th>English_text</th>\n",
              "      <th>Sentiment</th>\n",
              "    </tr>\n",
              "  </thead>\n",
              "  <tbody>\n",
              "    <tr>\n",
              "      <th>1</th>\n",
              "      <td>Dominique Strauss-Kahn DNA \" linked to maid \"</td>\n",
              "      <td>[{'label': 'POSITIVE', 'score': 0.6252788}]</td>\n",
              "    </tr>\n",
              "    <tr>\n",
              "      <th>2</th>\n",
              "      <td>Dominique Strauss-Kahn is being held under hou...</td>\n",
              "      <td>[{'label': 'NEGATIVE', 'score': 0.9738129}]</td>\n",
              "    </tr>\n",
              "    <tr>\n",
              "      <th>3</th>\n",
              "      <td>DNA found on the clothes of a New York hotel m...</td>\n",
              "      <td>[{'label': 'NEGATIVE', 'score': 0.98521155}]</td>\n",
              "    </tr>\n",
              "    <tr>\n",
              "      <th>4</th>\n",
              "      <td>These unconfirmed reports cited sources close ...</td>\n",
              "      <td>[{'label': 'NEGATIVE', 'score': 0.8924382}]</td>\n",
              "    </tr>\n",
              "    <tr>\n",
              "      <th>5</th>\n",
              "      <td>More tests from the room where the alleged att...</td>\n",
              "      <td>[{'label': 'NEGATIVE', 'score': 0.99367356}]</td>\n",
              "    </tr>\n",
              "  </tbody>\n",
              "</table>\n",
              "</div>"
            ],
            "text/plain": [
              "                                        English_text                                     Sentiment\n",
              "1      Dominique Strauss-Kahn DNA \" linked to maid \"   [{'label': 'POSITIVE', 'score': 0.6252788}]\n",
              "2  Dominique Strauss-Kahn is being held under hou...   [{'label': 'NEGATIVE', 'score': 0.9738129}]\n",
              "3  DNA found on the clothes of a New York hotel m...  [{'label': 'NEGATIVE', 'score': 0.98521155}]\n",
              "4  These unconfirmed reports cited sources close ...   [{'label': 'NEGATIVE', 'score': 0.8924382}]\n",
              "5  More tests from the room where the alleged att...  [{'label': 'NEGATIVE', 'score': 0.99367356}]"
            ]
          },
          "metadata": {
            "tags": []
          },
          "execution_count": 16
        }
      ]
    },
    {
      "cell_type": "markdown",
      "metadata": {
        "id": "IDwN2KkpMhNl",
        "colab_type": "text"
      },
      "source": [
        "### Named Entity Recognition\n",
        "For performance sake, I will only investigate the first 100 english sentences"
      ]
    },
    {
      "cell_type": "code",
      "metadata": {
        "id": "qwy_4G_DkMyL",
        "colab_type": "code",
        "colab": {}
      },
      "source": [
        "import spacy"
      ],
      "execution_count": 0,
      "outputs": []
    },
    {
      "cell_type": "code",
      "metadata": {
        "id": "aMOC8A5vMuWd",
        "colab_type": "code",
        "colab": {}
      },
      "source": [
        "tag = spacy.load('en_core_web_sm') "
      ],
      "execution_count": 0,
      "outputs": []
    },
    {
      "cell_type": "code",
      "metadata": {
        "id": "9vRX8XP1Rbz-",
        "colab_type": "code",
        "colab": {}
      },
      "source": [
        "tag = ([tag(sentence) for sentence in english_sentences[:100]])"
      ],
      "execution_count": 0,
      "outputs": []
    },
    {
      "cell_type": "code",
      "metadata": {
        "id": "sWZjHr-PSvSf",
        "colab_type": "code",
        "outputId": "c390ac03-3434-45fd-f1e8-f8b9559076d8",
        "colab": {
          "base_uri": "https://localhost:8080/",
          "height": 121
        }
      },
      "source": [
        "print('\\nNamed Entity recognized from the text 1 to 3\\n')\n",
        "for ent in tag[2].ents:\n",
        "  print(ent.text, ent.label_)"
      ],
      "execution_count": 20,
      "outputs": [
        {
          "output_type": "stream",
          "text": [
            "\n",
            "Named Entity recognized from the text 1 to 3\n",
            "\n",
            "New York GPE\n",
            "Dominique Strauss-Kahn PERSON\n",
            "US GPE\n"
          ],
          "name": "stdout"
        }
      ]
    },
    {
      "cell_type": "markdown",
      "metadata": {
        "id": "fjaOok4tyq4A",
        "colab_type": "text"
      },
      "source": [
        "### Preprocess\n"
      ]
    },
    {
      "cell_type": "code",
      "metadata": {
        "id": "nDQDUdekHkB6",
        "colab_type": "code",
        "colab": {}
      },
      "source": [
        "from __future__ import absolute_import, division, print_function\n",
        "import tensorflow as tf\n",
        "import time\n",
        "import os \n",
        "import io\n",
        "from sklearn.model_selection import train_test_split\n",
        "from keras.preprocessing.text import Tokenizer\n",
        "from keras.preprocessing.sequence import pad_sequences\n"
      ],
      "execution_count": 0,
      "outputs": []
    },
    {
      "cell_type": "code",
      "metadata": {
        "id": "Cr4QNUjDBs9Y",
        "colab_type": "code",
        "colab": {}
      },
      "source": [
        "# Lowercase, trim and remove non-letter characters\n",
        "def normalizeString(s):\n",
        "    s = s.lower().strip()\n",
        "    s = re.sub(r\"([.!?])\", r\" \\1\", s)\n",
        "    s = re.sub(r'[\" \"]+', \" \", s)\n",
        "    s = re.sub(r'[-]+', \" \", s)\n",
        "    #s = re.sub(r\"[^a-zA-Z.!?]+\", r\" \", s)\n",
        "    s = s.rstrip().strip()\n",
        "    s = '<sos> ' + s + ' <eos>'\n",
        "    \n",
        "    return s"
      ],
      "execution_count": 0,
      "outputs": []
    },
    {
      "cell_type": "code",
      "metadata": {
        "id": "9dRok6Sk7X0m",
        "colab_type": "code",
        "colab": {
          "base_uri": "https://localhost:8080/",
          "height": 35
        },
        "outputId": "40992a76-a00d-4b4f-c6ea-60f7a679715f"
      },
      "source": [
        "english_sentences[13]"
      ],
      "execution_count": 101,
      "outputs": [
        {
          "output_type": "execute_result",
          "data": {
            "text/plain": [
              "'Guinea , told authorities that Mr Strauss-Kahn had accosted her after she entered his hotel room to clean it .'"
            ]
          },
          "metadata": {
            "tags": []
          },
          "execution_count": 101
        }
      ]
    },
    {
      "cell_type": "code",
      "metadata": {
        "id": "TMf-IDDTDgLJ",
        "colab_type": "code",
        "colab": {}
      },
      "source": [
        "# Normalize both english and vietnamese texts\n",
        "eng_text = []\n",
        "viet_text = []\n",
        "for (eng, viet) in zip(english_sentences, vietnamese_sentences):\n",
        "  eng_text.append(normalizeString(eng))\n",
        "  viet_text.append(normalizeString(viet))"
      ],
      "execution_count": 0,
      "outputs": []
    },
    {
      "cell_type": "code",
      "metadata": {
        "id": "uEGZhiBfyq4F",
        "colab_type": "code",
        "colab": {}
      },
      "source": [
        "def tokenize(x):\n",
        "    x_tk = Tokenizer(filters = '')\n",
        "    x_tk.fit_on_texts(x)\n",
        "    \n",
        "    return x_tk.texts_to_sequences(x), x_tk"
      ],
      "execution_count": 0,
      "outputs": []
    },
    {
      "cell_type": "code",
      "metadata": {
        "id": "8bkFyRVwyq4J",
        "colab_type": "code",
        "colab": {}
      },
      "source": [
        "def pad(x, length = None):\n",
        "\n",
        "    if length is None:\n",
        "        length = max([len(sentence) for sentence in x])\n",
        "    \n",
        "    return pad_sequences(x, maxlen = length, padding = 'post')  # maxlen = length"
      ],
      "execution_count": 0,
      "outputs": []
    },
    {
      "cell_type": "code",
      "metadata": {
        "id": "JdTBmrN6yq4N",
        "colab_type": "code",
        "colab": {}
      },
      "source": [
        "def preprocess(x, y):\n",
        "    preprocess_x, x_tk = tokenize(x)\n",
        "    preprocess_y, y_tk = tokenize(y)\n",
        "\n",
        "    preprocess_x = pad(preprocess_x, 15)\n",
        "    preprocess_y = pad(preprocess_y, 20)\n",
        "\n",
        "    # Keras's sparse_categorical_crossentropy function requires the labels to be in 3 dimensions\n",
        "    # preprocess_y = preprocess_y.reshape(*preprocess_y.shape)\n",
        "\n",
        "    return preprocess_x, preprocess_y, x_tk, y_tk"
      ],
      "execution_count": 0,
      "outputs": []
    },
    {
      "cell_type": "code",
      "metadata": {
        "id": "qbpsFaw9ssX8",
        "colab_type": "code",
        "colab": {}
      },
      "source": [
        "# Reduce the data size to speed up training\n",
        "eng_text = eng_text\n",
        "viet_text = viet_text"
      ],
      "execution_count": 0,
      "outputs": []
    },
    {
      "cell_type": "code",
      "metadata": {
        "id": "wpIUPGAO_zC0",
        "colab_type": "code",
        "colab": {
          "base_uri": "https://localhost:8080/",
          "height": 55
        },
        "outputId": "3dc9b4bf-7eb5-461d-db64-0233fc057416"
      },
      "source": [
        "eng_text[13]"
      ],
      "execution_count": 30,
      "outputs": [
        {
          "output_type": "execute_result",
          "data": {
            "text/plain": [
              "'<sos> guinea , told authorities that mr strauss kahn had accosted her after she entered his hotel room to clean it . <eos>'"
            ]
          },
          "metadata": {
            "tags": []
          },
          "execution_count": 30
        }
      ]
    },
    {
      "cell_type": "code",
      "metadata": {
        "id": "zc-0gsYEyq4Q",
        "colab_type": "code",
        "colab": {}
      },
      "source": [
        "preproc_english_sentences, preproc_vietnamese_sentences, english_tokenizer, vietnamese_tokenizer =\\\n",
        "    preprocess(eng_text, viet_text)\n",
        "    \n",
        "max_english_sequence_length = preproc_english_sentences.shape[1]\n",
        "max_vietnamese_sequence_length = preproc_vietnamese_sentences.shape[1]\n",
        "english_vocab_size = len(english_tokenizer.word_index)\n",
        "vietnamese_vocab_size = len(vietnamese_tokenizer.word_index)"
      ],
      "execution_count": 0,
      "outputs": []
    },
    {
      "cell_type": "code",
      "metadata": {
        "id": "3z6As-Gdyq4V",
        "colab_type": "code",
        "outputId": "9cd1f0b9-8d76-4e79-c8dd-a5b7a61bdc95",
        "colab": {
          "base_uri": "https://localhost:8080/",
          "height": 87
        }
      },
      "source": [
        "print(max_english_sequence_length)\n",
        "print(max_vietnamese_sequence_length)\n",
        "print(english_vocab_size)\n",
        "print(vietnamese_vocab_size)"
      ],
      "execution_count": 108,
      "outputs": [
        {
          "output_type": "stream",
          "text": [
            "15\n",
            "20\n",
            "31498\n",
            "14849\n"
          ],
          "name": "stdout"
        }
      ]
    },
    {
      "cell_type": "code",
      "metadata": {
        "id": "4LEG_2w1Smhl",
        "colab_type": "code",
        "colab": {
          "base_uri": "https://localhost:8080/",
          "height": 35
        },
        "outputId": "6a1ef31b-d9fd-4ede-9bbd-b0fa60420849"
      },
      "source": [
        "# Split data into training and validation set\n",
        "input_tensor_train, input_tensor_val, target_tensor_train, target_tensor_val =  train_test_split(preproc_vietnamese_sentences, preproc_english_sentences, test_size = 0.2)\n",
        "\n",
        "print(len(input_tensor_train), len(input_tensor_val), len(target_tensor_train), len(target_tensor_val))"
      ],
      "execution_count": 109,
      "outputs": [
        {
          "output_type": "stream",
          "text": [
            "36246 9062 36246 9062\n"
          ],
          "name": "stdout"
        }
      ]
    },
    {
      "cell_type": "code",
      "metadata": {
        "id": "hLBE8hF9b5Gj",
        "colab_type": "code",
        "colab": {}
      },
      "source": [
        "def convert(lang, tensor):\n",
        "  for t in tensor:\n",
        "    if t!=0:\n",
        "      print (\"%d ----> %s\" % (t, lang.index_word[t]))"
      ],
      "execution_count": 0,
      "outputs": []
    },
    {
      "cell_type": "code",
      "metadata": {
        "id": "34pe7t8HtMqN",
        "colab_type": "code",
        "colab": {
          "base_uri": "https://localhost:8080/",
          "height": 277
        },
        "outputId": "97175874-3941-430a-fbcf-9da494493037"
      },
      "source": [
        "convert(english_tokenizer, target_tensor_train[0])"
      ],
      "execution_count": 111,
      "outputs": [
        {
          "output_type": "stream",
          "text": [
            "38 ----> has\n",
            "82 ----> no\n",
            "6845 ----> id\n",
            "4726 ----> tag\n",
            "5 ----> ,\n",
            "15 ----> it\n",
            "36 ----> will\n",
            "1276 ----> sit\n",
            "17 ----> with\n",
            "3 ----> the\n",
            "65 ----> other\n",
            "6848 ----> unclaimed\n",
            "3647 ----> luggage\n",
            "4 ----> .\n",
            "2 ----> <eos>\n"
          ],
          "name": "stdout"
        }
      ]
    },
    {
      "cell_type": "code",
      "metadata": {
        "id": "rxIs5FH9T8UH",
        "colab_type": "code",
        "colab": {}
      },
      "source": [
        "# Create a tf.data dataset\n",
        "BUFFER_SIZE = len(input_tensor_train)\n",
        "BATCH_SIZE = 128\n",
        "steps_per_epoch = len(input_tensor_train)//BATCH_SIZE\n",
        "embedding_dim = 256\n",
        "units = 256\n",
        "vocab_inp_size = len(vietnamese_tokenizer.word_index) + 1\n",
        "vocab_tar_size = len(english_tokenizer.word_index) + 1\n",
        "\n",
        "dataset = tf.data.Dataset.from_tensor_slices((input_tensor_train, target_tensor_train)).shuffle(BUFFER_SIZE)\n",
        "dataset = dataset.batch(BATCH_SIZE, drop_remainder=True)"
      ],
      "execution_count": 0,
      "outputs": []
    },
    {
      "cell_type": "code",
      "metadata": {
        "id": "OReErPiIUQ2I",
        "colab_type": "code",
        "colab": {
          "base_uri": "https://localhost:8080/",
          "height": 35
        },
        "outputId": "b569b3e1-a2aa-46ea-b17d-3abc170cba88"
      },
      "source": [
        "example_input_batch, example_target_batch = next(iter(dataset))\n",
        "example_input_batch.shape, example_target_batch.shape\n"
      ],
      "execution_count": 133,
      "outputs": [
        {
          "output_type": "execute_result",
          "data": {
            "text/plain": [
              "(TensorShape([128, 20]), TensorShape([128, 15]))"
            ]
          },
          "metadata": {
            "tags": []
          },
          "execution_count": 133
        }
      ]
    },
    {
      "cell_type": "markdown",
      "metadata": {
        "id": "UpknhFKayq4Z",
        "colab_type": "text"
      },
      "source": [
        "### Machine Translation Model with Attention\n",
        "The model is inspired by NMT with Attention Model from TensorFlow tutorial\n",
        "\n",
        "For more information, please visit https://www.tensorflow.org/tutorials/text/nmt_with_attention"
      ]
    },
    {
      "cell_type": "markdown",
      "metadata": {
        "id": "aJ3pwbS7ZFBh",
        "colab_type": "text"
      },
      "source": [
        "Encoder Model"
      ]
    },
    {
      "cell_type": "code",
      "metadata": {
        "id": "x13Fzc8PXRvl",
        "colab_type": "code",
        "colab": {}
      },
      "source": [
        "class Encoder(tf.keras.Model):\n",
        "  def __init__(self, vocab_size, embedding_dim, enc_units, batch_sz):\n",
        "    super(Encoder, self).__init__()\n",
        "    self.batch_sz = batch_sz\n",
        "    self.enc_units = enc_units\n",
        "    self.embedding = tf.keras.layers.Embedding(vocab_size, embedding_dim)\n",
        "    self.gru = tf.keras.layers.GRU(self.enc_units,\n",
        "                                   return_sequences=True,\n",
        "                                   return_state=True,\n",
        "                                   recurrent_initializer='glorot_uniform')\n",
        "\n",
        "  def call(self, x, hidden):\n",
        "    x = self.embedding(x)\n",
        "    output, state = self.gru(x, initial_state = hidden)\n",
        "    return output, state\n",
        "\n",
        "  def initialize_hidden_state(self):\n",
        "    return tf.zeros((self.batch_sz, self.enc_units))"
      ],
      "execution_count": 0,
      "outputs": []
    },
    {
      "cell_type": "code",
      "metadata": {
        "id": "LBtEsqeTXZZ_",
        "colab_type": "code",
        "colab": {
          "base_uri": "https://localhost:8080/",
          "height": 52
        },
        "outputId": "8a3a6454-ae9c-4e2a-ebb2-9d105474c49b"
      },
      "source": [
        "encoder = Encoder(vocab_inp_size, embedding_dim, units, BATCH_SIZE)\n",
        "\n",
        "# sample input\n",
        "sample_hidden = encoder.initialize_hidden_state()\n",
        "sample_output, sample_hidden = encoder(example_input_batch, sample_hidden)\n",
        "print ('Encoder output shape: (batch size, sequence length, units) {}'.format(sample_output.shape))\n",
        "print ('Encoder Hidden state shape: (batch size, units) {}'.format(sample_hidden.shape))\n"
      ],
      "execution_count": 135,
      "outputs": [
        {
          "output_type": "stream",
          "text": [
            "Encoder output shape: (batch size, sequence length, units) (128, 20, 256)\n",
            "Encoder Hidden state shape: (batch size, units) (128, 256)\n"
          ],
          "name": "stdout"
        }
      ]
    },
    {
      "cell_type": "markdown",
      "metadata": {
        "id": "m-75DIlxZCOb",
        "colab_type": "text"
      },
      "source": [
        "##### Attention model"
      ]
    },
    {
      "cell_type": "code",
      "metadata": {
        "id": "dgMxLHpbYwXL",
        "colab_type": "code",
        "colab": {}
      },
      "source": [
        "class BahdanauAttention(tf.keras.layers.Layer):\n",
        "  def __init__(self, units):\n",
        "    super(BahdanauAttention, self).__init__()\n",
        "    self.W1 = tf.keras.layers.Dense(units)\n",
        "    self.W2 = tf.keras.layers.Dense(units)\n",
        "    self.V = tf.keras.layers.Dense(1)\n",
        "\n",
        "  def call(self, query, values):\n",
        "    # query hidden state shape == (batch_size, hidden size)\n",
        "    # query_with_time_axis shape == (batch_size, 1, hidden size)\n",
        "    # values shape == (batch_size, max_len, hidden size)\n",
        "    # we are doing this to broadcast addition along the time axis to calculate the score\n",
        "    query_with_time_axis = tf.expand_dims(query, 1)\n",
        "\n",
        "    # score shape == (batch_size, max_length, 1)\n",
        "    # we get 1 at the last axis because we are applying score to self.V\n",
        "    # the shape of the tensor before applying self.V is (batch_size, max_length, units)\n",
        "    score = self.V(tf.nn.tanh(\n",
        "        self.W1(query_with_time_axis) + self.W2(values)))\n",
        "\n",
        "    # attention_weights shape == (batch_size, max_length, 1)\n",
        "    attention_weights = tf.nn.softmax(score, axis=1)\n",
        "\n",
        "    # context_vector shape after sum == (batch_size, hidden_size)\n",
        "    context_vector = attention_weights * values\n",
        "    context_vector = tf.reduce_sum(context_vector, axis=1)\n",
        "\n",
        "    return context_vector, attention_weights\n"
      ],
      "execution_count": 0,
      "outputs": []
    },
    {
      "cell_type": "code",
      "metadata": {
        "id": "S5X-4uf9Y0JK",
        "colab_type": "code",
        "colab": {
          "base_uri": "https://localhost:8080/",
          "height": 52
        },
        "outputId": "b0ca701a-21cc-4b73-d698-7ac1e2999205"
      },
      "source": [
        "attention_layer = BahdanauAttention(10)\n",
        "attention_result, attention_weights = attention_layer(sample_hidden, sample_output)\n",
        "\n",
        "print(\"Attention result shape: (batch size, units) {}\".format(attention_result.shape))\n",
        "print(\"Attention weights shape: (batch_size, sequence_length, 1) {}\".format(attention_weights.shape))\n"
      ],
      "execution_count": 137,
      "outputs": [
        {
          "output_type": "stream",
          "text": [
            "Attention result shape: (batch size, units) (128, 256)\n",
            "Attention weights shape: (batch_size, sequence_length, 1) (128, 20, 1)\n"
          ],
          "name": "stdout"
        }
      ]
    },
    {
      "cell_type": "markdown",
      "metadata": {
        "id": "ZZ68jkjCY_21",
        "colab_type": "text"
      },
      "source": [
        "##### Decoder"
      ]
    },
    {
      "cell_type": "code",
      "metadata": {
        "id": "_K32cBn4Y53J",
        "colab_type": "code",
        "colab": {}
      },
      "source": [
        "class Decoder(tf.keras.Model):\n",
        "  def __init__(self, vocab_size, embedding_dim, dec_units, batch_sz):\n",
        "    super(Decoder, self).__init__()\n",
        "    self.batch_sz = batch_sz\n",
        "    self.dec_units = dec_units\n",
        "    self.embedding = tf.keras.layers.Embedding(vocab_size, embedding_dim)\n",
        "    self.gru = tf.keras.layers.GRU(self.dec_units,\n",
        "                                   return_sequences=True,\n",
        "                                   return_state=True,\n",
        "                                   recurrent_initializer='glorot_uniform')\n",
        "    self.fc = tf.keras.layers.Dense(vocab_size)\n",
        "\n",
        "    # used for attention\n",
        "    self.attention = BahdanauAttention(self.dec_units)\n",
        "\n",
        "  def call(self, x, hidden, enc_output):\n",
        "    # enc_output shape == (batch_size, max_length, hidden_size)\n",
        "    context_vector, attention_weights = self.attention(hidden, enc_output)\n",
        "\n",
        "    # x shape after passing through embedding == (batch_size, 1, embedding_dim)\n",
        "    x = self.embedding(x)\n",
        "\n",
        "    # x shape after concatenation == (batch_size, 1, embedding_dim + hidden_size)\n",
        "    x = tf.concat([tf.expand_dims(context_vector, 1), x], axis=-1)\n",
        "\n",
        "    # passing the concatenated vector to the GRU\n",
        "    output, state = self.gru(x)\n",
        "\n",
        "    # output shape == (batch_size * 1, hidden_size)\n",
        "    output = tf.reshape(output, (-1, output.shape[2]))\n",
        "\n",
        "    # output shape == (batch_size, vocab)\n",
        "    x = self.fc(output)\n",
        "\n",
        "    return x, state, attention_weights"
      ],
      "execution_count": 0,
      "outputs": []
    },
    {
      "cell_type": "code",
      "metadata": {
        "id": "oUiTj1-LY9Ud",
        "colab_type": "code",
        "colab": {
          "base_uri": "https://localhost:8080/",
          "height": 35
        },
        "outputId": "5a63a028-ec7b-41f8-9f29-587b75408aed"
      },
      "source": [
        "decoder = Decoder(vocab_tar_size, embedding_dim, units, BATCH_SIZE)\n",
        "\n",
        "sample_decoder_output, _, _ = decoder(tf.random.uniform((BATCH_SIZE, 1)),\n",
        "                                      sample_hidden, sample_output)\n",
        "\n",
        "print ('Decoder output shape: (batch_size, vocab size) {}'.format(sample_decoder_output.shape))\n"
      ],
      "execution_count": 139,
      "outputs": [
        {
          "output_type": "stream",
          "text": [
            "Decoder output shape: (batch_size, vocab size) (128, 31499)\n"
          ],
          "name": "stdout"
        }
      ]
    },
    {
      "cell_type": "markdown",
      "metadata": {
        "id": "7_IqfjoFdU1F",
        "colab_type": "text"
      },
      "source": [
        "##### Optimizer and Loss function"
      ]
    },
    {
      "cell_type": "code",
      "metadata": {
        "id": "EpC4Y6sqdRZ9",
        "colab_type": "code",
        "colab": {}
      },
      "source": [
        "optimizer = tf.keras.optimizers.Adam()\n",
        "loss_object = tf.keras.losses.SparseCategoricalCrossentropy(\n",
        "    from_logits=True, reduction='none')\n",
        "\n",
        "def loss_function(real, pred):\n",
        "  mask = tf.math.logical_not(tf.math.equal(real, 0))\n",
        "  loss_ = loss_object(real, pred)\n",
        "\n",
        "  mask = tf.cast(mask, dtype=loss_.dtype)\n",
        "  loss_ *= mask\n",
        "\n",
        "  return tf.reduce_mean(loss_)"
      ],
      "execution_count": 0,
      "outputs": []
    },
    {
      "cell_type": "code",
      "metadata": {
        "id": "1T6cZBD5ddJc",
        "colab_type": "code",
        "colab": {}
      },
      "source": [
        "checkpoint_dir = './training_checkpoints'\n",
        "checkpoint_prefix = os.path.join(checkpoint_dir, \"ckpt\")\n",
        "checkpoint = tf.train.Checkpoint(optimizer=optimizer,\n",
        "                                 encoder=encoder,\n",
        "                                 decoder=decoder)"
      ],
      "execution_count": 0,
      "outputs": []
    },
    {
      "cell_type": "code",
      "metadata": {
        "id": "53ESgsLqdnT2",
        "colab_type": "code",
        "colab": {}
      },
      "source": [
        "@tf.function\n",
        "def train_step(inp, targ, enc_hidden):\n",
        "  loss = 0\n",
        "\n",
        "  with tf.GradientTape() as tape:\n",
        "    enc_output, enc_hidden = encoder(inp, enc_hidden)\n",
        "\n",
        "    dec_hidden = enc_hidden\n",
        "\n",
        "    dec_input = tf.expand_dims([english_tokenizer.word_index['<sos>']] * BATCH_SIZE, 1)\n",
        "\n",
        "    # Teacher forcing - feeding the target as the next input\n",
        "    for t in range(1, targ.shape[1]):\n",
        "      # passing enc_output to the decoder\n",
        "      predictions, dec_hidden, _ = decoder(dec_input, dec_hidden, enc_output)\n",
        "\n",
        "      loss += loss_function(targ[:, t], predictions)\n",
        "\n",
        "      # using teacher forcing\n",
        "      dec_input = tf.expand_dims(targ[:, t], 1)\n",
        "\n",
        "  batch_loss = (loss / int(targ.shape[1]))\n",
        "\n",
        "  variables = encoder.trainable_variables + decoder.trainable_variables\n",
        "\n",
        "  gradients = tape.gradient(loss, variables)\n",
        "\n",
        "  optimizer.apply_gradients(zip(gradients, variables))\n",
        "\n",
        "  return batch_loss\n"
      ],
      "execution_count": 0,
      "outputs": []
    },
    {
      "cell_type": "code",
      "metadata": {
        "id": "jcgIqP0Idxtx",
        "colab_type": "code",
        "colab": {
          "base_uri": "https://localhost:8080/",
          "height": 1000
        },
        "outputId": "1ec97b0f-b7c5-4a2e-d5ed-499643aa4512"
      },
      "source": [
        "EPOCHS = 25\n",
        "\n",
        "for epoch in range(EPOCHS):\n",
        "  start = time.time()\n",
        "\n",
        "  enc_hidden = encoder.initialize_hidden_state()\n",
        "  total_loss = 0\n",
        "\n",
        "  for (batch, (inp, targ)) in enumerate(dataset.take(steps_per_epoch)):\n",
        "    batch_loss = train_step(inp, targ, enc_hidden)\n",
        "    total_loss += batch_loss\n",
        "\n",
        "    if batch % 100 == 0:\n",
        "      print('Epoch {} Batch {} Loss {:.4f}'.format(epoch + 1,\n",
        "                                                   batch,\n",
        "                                                   batch_loss.numpy()))\n",
        "  # saving (checkpoint) the model every 2 epochs\n",
        "  if (epoch + 1) % 2 == 0:\n",
        "    checkpoint.save(file_prefix = checkpoint_prefix)\n",
        "\n",
        "  print('Epoch {} Loss {:.4f}'.format(epoch + 1,\n",
        "                                      total_loss / steps_per_epoch))\n",
        "  print('Time taken for 1 epoch {} sec\\n'.format(time.time() - start))\n"
      ],
      "execution_count": 143,
      "outputs": [
        {
          "output_type": "stream",
          "text": [
            "Epoch 1 Batch 0 Loss 8.5181\n",
            "Epoch 1 Batch 100 Loss 5.6115\n",
            "Epoch 1 Batch 200 Loss 5.2664\n",
            "Epoch 1 Loss 5.5939\n",
            "Time taken for 1 epoch 87.54768562316895 sec\n",
            "\n",
            "Epoch 2 Batch 0 Loss 5.2104\n",
            "Epoch 2 Batch 100 Loss 5.1964\n",
            "Epoch 2 Batch 200 Loss 5.0418\n",
            "Epoch 2 Loss 5.0809\n",
            "Time taken for 1 epoch 68.68196845054626 sec\n",
            "\n",
            "Epoch 3 Batch 0 Loss 4.9702\n",
            "Epoch 3 Batch 100 Loss 4.8447\n",
            "Epoch 3 Batch 200 Loss 4.9319\n",
            "Epoch 3 Loss 4.9072\n",
            "Time taken for 1 epoch 67.67828392982483 sec\n",
            "\n",
            "Epoch 4 Batch 0 Loss 4.7831\n",
            "Epoch 4 Batch 100 Loss 4.7223\n",
            "Epoch 4 Batch 200 Loss 4.7879\n",
            "Epoch 4 Loss 4.7314\n",
            "Time taken for 1 epoch 68.1625120639801 sec\n",
            "\n",
            "Epoch 5 Batch 0 Loss 4.5431\n",
            "Epoch 5 Batch 100 Loss 4.4400\n",
            "Epoch 5 Batch 200 Loss 4.4831\n",
            "Epoch 5 Loss 4.5294\n",
            "Time taken for 1 epoch 67.60118746757507 sec\n",
            "\n",
            "Epoch 6 Batch 0 Loss 4.1931\n",
            "Epoch 6 Batch 100 Loss 4.2681\n",
            "Epoch 6 Batch 200 Loss 4.1325\n",
            "Epoch 6 Loss 4.3084\n",
            "Time taken for 1 epoch 67.612131357193 sec\n",
            "\n",
            "Epoch 7 Batch 0 Loss 4.1503\n",
            "Epoch 7 Batch 100 Loss 4.3773\n",
            "Epoch 7 Batch 200 Loss 4.1832\n",
            "Epoch 7 Loss 4.0888\n",
            "Time taken for 1 epoch 67.84367251396179 sec\n",
            "\n",
            "Epoch 8 Batch 0 Loss 3.9202\n",
            "Epoch 8 Batch 100 Loss 3.6610\n",
            "Epoch 8 Batch 200 Loss 3.9272\n",
            "Epoch 8 Loss 3.8764\n",
            "Time taken for 1 epoch 67.44740223884583 sec\n",
            "\n",
            "Epoch 9 Batch 0 Loss 3.4913\n",
            "Epoch 9 Batch 100 Loss 3.6042\n",
            "Epoch 9 Batch 200 Loss 3.7783\n",
            "Epoch 9 Loss 3.6759\n",
            "Time taken for 1 epoch 67.3783495426178 sec\n",
            "\n",
            "Epoch 10 Batch 0 Loss 3.2555\n",
            "Epoch 10 Batch 100 Loss 3.5741\n",
            "Epoch 10 Batch 200 Loss 3.5334\n",
            "Epoch 10 Loss 3.4878\n",
            "Time taken for 1 epoch 68.26787185668945 sec\n",
            "\n",
            "Epoch 11 Batch 0 Loss 3.2647\n",
            "Epoch 11 Batch 100 Loss 3.2145\n",
            "Epoch 11 Batch 200 Loss 3.4263\n",
            "Epoch 11 Loss 3.3070\n",
            "Time taken for 1 epoch 67.40633916854858 sec\n",
            "\n",
            "Epoch 12 Batch 0 Loss 2.9986\n",
            "Epoch 12 Batch 100 Loss 3.0210\n",
            "Epoch 12 Batch 200 Loss 3.3163\n",
            "Epoch 12 Loss 3.1331\n",
            "Time taken for 1 epoch 67.81350111961365 sec\n",
            "\n",
            "Epoch 13 Batch 0 Loss 2.8773\n",
            "Epoch 13 Batch 100 Loss 2.8213\n",
            "Epoch 13 Batch 200 Loss 2.9521\n",
            "Epoch 13 Loss 2.9712\n",
            "Time taken for 1 epoch 67.67247986793518 sec\n",
            "\n",
            "Epoch 14 Batch 0 Loss 2.9034\n",
            "Epoch 14 Batch 100 Loss 2.8132\n",
            "Epoch 14 Batch 200 Loss 2.7616\n",
            "Epoch 14 Loss 2.8201\n",
            "Time taken for 1 epoch 67.64022183418274 sec\n",
            "\n",
            "Epoch 15 Batch 0 Loss 2.5891\n",
            "Epoch 15 Batch 100 Loss 2.5989\n",
            "Epoch 15 Batch 200 Loss 2.7281\n",
            "Epoch 15 Loss 2.6728\n",
            "Time taken for 1 epoch 67.70742321014404 sec\n",
            "\n",
            "Epoch 16 Batch 0 Loss 2.4699\n",
            "Epoch 16 Batch 100 Loss 2.4286\n",
            "Epoch 16 Batch 200 Loss 2.4985\n",
            "Epoch 16 Loss 2.5337\n",
            "Time taken for 1 epoch 66.99592185020447 sec\n",
            "\n",
            "Epoch 17 Batch 0 Loss 2.3584\n",
            "Epoch 17 Batch 100 Loss 2.3765\n",
            "Epoch 17 Batch 200 Loss 2.3667\n",
            "Epoch 17 Loss 2.4087\n",
            "Time taken for 1 epoch 66.55288171768188 sec\n",
            "\n",
            "Epoch 18 Batch 0 Loss 2.1367\n",
            "Epoch 18 Batch 100 Loss 2.2176\n",
            "Epoch 18 Batch 200 Loss 2.2155\n",
            "Epoch 18 Loss 2.2845\n",
            "Time taken for 1 epoch 67.22579646110535 sec\n",
            "\n",
            "Epoch 19 Batch 0 Loss 2.2327\n",
            "Epoch 19 Batch 100 Loss 2.2592\n",
            "Epoch 19 Batch 200 Loss 2.1156\n",
            "Epoch 19 Loss 2.1694\n",
            "Time taken for 1 epoch 66.56344938278198 sec\n",
            "\n",
            "Epoch 20 Batch 0 Loss 1.9351\n",
            "Epoch 20 Batch 100 Loss 2.1244\n",
            "Epoch 20 Batch 200 Loss 2.0298\n",
            "Epoch 20 Loss 2.0598\n",
            "Time taken for 1 epoch 67.66573166847229 sec\n",
            "\n",
            "Epoch 21 Batch 0 Loss 1.8837\n",
            "Epoch 21 Batch 100 Loss 1.8374\n",
            "Epoch 21 Batch 200 Loss 1.8621\n",
            "Epoch 21 Loss 1.9578\n",
            "Time taken for 1 epoch 66.70889782905579 sec\n",
            "\n",
            "Epoch 22 Batch 0 Loss 1.6758\n",
            "Epoch 22 Batch 100 Loss 1.9633\n",
            "Epoch 22 Batch 200 Loss 1.8192\n",
            "Epoch 22 Loss 1.8604\n",
            "Time taken for 1 epoch 67.16589760780334 sec\n",
            "\n",
            "Epoch 23 Batch 0 Loss 1.5768\n",
            "Epoch 23 Batch 100 Loss 1.7474\n",
            "Epoch 23 Batch 200 Loss 1.7949\n",
            "Epoch 23 Loss 1.7728\n",
            "Time taken for 1 epoch 66.49954199790955 sec\n",
            "\n",
            "Epoch 24 Batch 0 Loss 1.5289\n",
            "Epoch 24 Batch 100 Loss 1.7056\n",
            "Epoch 24 Batch 200 Loss 1.6741\n",
            "Epoch 24 Loss 1.6902\n",
            "Time taken for 1 epoch 67.20851421356201 sec\n",
            "\n",
            "Epoch 25 Batch 0 Loss 1.5013\n",
            "Epoch 25 Batch 100 Loss 1.6369\n",
            "Epoch 25 Batch 200 Loss 1.6030\n",
            "Epoch 25 Loss 1.6051\n",
            "Time taken for 1 epoch 66.70359325408936 sec\n",
            "\n"
          ],
          "name": "stdout"
        }
      ]
    },
    {
      "cell_type": "code",
      "metadata": {
        "id": "HC6mam_ixE-d",
        "colab_type": "code",
        "colab": {
          "base_uri": "https://localhost:8080/",
          "height": 35
        },
        "outputId": "4f9f0416-ae0d-4fac-f327-7d79691c3651"
      },
      "source": [
        "max_english_sequence_length"
      ],
      "execution_count": 179,
      "outputs": [
        {
          "output_type": "execute_result",
          "data": {
            "text/plain": [
              "70"
            ]
          },
          "metadata": {
            "tags": []
          },
          "execution_count": 179
        }
      ]
    },
    {
      "cell_type": "code",
      "metadata": {
        "id": "IwzVXDxywfCI",
        "colab_type": "code",
        "colab": {}
      },
      "source": [
        "def evaluate(sentence):\n",
        "  #attention_plot = np.zeros((max_english_sequence_length, max_vietnamese_sequence_length))\n",
        "\n",
        "  sentence = normalizeString(sentence)\n",
        "\n",
        "  inputs = [vietnamese_tokenizer.word_index[i] for i in sentence.split(' ')]\n",
        "  inputs = tf.keras.preprocessing.sequence.pad_sequences([inputs],\n",
        "                                                         maxlen= max_vietnamese_sequence_length,\n",
        "                                                         padding='post')\n",
        "  inputs = tf.convert_to_tensor(inputs)\n",
        "\n",
        "  result = ''\n",
        "\n",
        "  hidden = [tf.zeros((1, units))]\n",
        "  enc_out, enc_hidden = encoder(inputs, hidden)\n",
        "\n",
        "  dec_hidden = enc_hidden\n",
        "  dec_input = tf.expand_dims([english_tokenizer.word_index['<sos>']], 0)\n",
        "\n",
        "  for t in range(max_english_sequence_length):\n",
        "    predictions, dec_hidden, attention_weights = decoder(dec_input,\n",
        "                                                         dec_hidden,\n",
        "                                                         enc_out)\n",
        "\n",
        "    attention_weights = tf.reshape(attention_weights, (-1, ))\n",
        "    #attention_plot[t] = attention_weights.numpy()\n",
        "\n",
        "    predicted_id = tf.argmax(predictions[0]).numpy()\n",
        "\n",
        "    result += english_tokenizer.index_word[predicted_id] + ' '\n",
        "\n",
        "    if english_tokenizer.index_word[predicted_id] == '<eos>':\n",
        "      return result, sentence #, attention_plot\n",
        "\n",
        "    # the predicted ID is fed back into the model\n",
        "    dec_input = tf.expand_dims([predicted_id], 0)\n",
        "\n",
        "  return result, sentence #, attention_plot"
      ],
      "execution_count": 0,
      "outputs": []
    },
    {
      "cell_type": "code",
      "metadata": {
        "id": "2B6NiDD46ra5",
        "colab_type": "code",
        "colab": {}
      },
      "source": [
        "def translate(sentence):\n",
        "  result, sentence = evaluate(sentence)\n",
        "\n",
        "  print('Input: %s' % (sentence))\n",
        "  print('Predicted translation: {}'.format(result))"
      ],
      "execution_count": 0,
      "outputs": []
    },
    {
      "cell_type": "code",
      "metadata": {
        "id": "_PwJLtFMSfYX",
        "colab_type": "code",
        "colab": {
          "base_uri": "https://localhost:8080/",
          "height": 55
        },
        "outputId": "85354085-9097-4a40-9ee1-05691dee84d8"
      },
      "source": [
        "viet_text[2]"
      ],
      "execution_count": 73,
      "outputs": [
        {
          "output_type": "execute_result",
          "data": {
            "text/plain": [
              "'<sos> các bản tin của giới truyền thông hoa kỳ cho biết mẫu adn phát hiện trên quần áo của nữ hầu phòng khách sạn ở new york , người buộc tội dominique strauss kahn về việc cưỡng dâm cô ta , đã phù hợp với mẫu adn của cựu chủ tịch imf này . <eos>'"
            ]
          },
          "metadata": {
            "tags": []
          },
          "execution_count": 73
        }
      ]
    },
    {
      "cell_type": "code",
      "metadata": {
        "id": "9gjlPye2KnJb",
        "colab_type": "code",
        "colab": {
          "base_uri": "https://localhost:8080/",
          "height": 52
        },
        "outputId": "23df11b9-a1d2-4cbd-e3ce-6b87fed0276b"
      },
      "source": [
        "translate('Tôi đang đói')"
      ],
      "execution_count": 155,
      "outputs": [
        {
          "output_type": "stream",
          "text": [
            "Input: <sos> tôi đang đói <eos>\n",
            "Predicted translation: i 'm hungry <eos> \n"
          ],
          "name": "stdout"
        }
      ]
    },
    {
      "cell_type": "code",
      "metadata": {
        "id": "YveV0J5PnCXQ",
        "colab_type": "code",
        "colab": {
          "base_uri": "https://localhost:8080/",
          "height": 52
        },
        "outputId": "176761c6-ac84-425b-8f70-8e7db0954c0e"
      },
      "source": [
        "translate('tình hình kinh tế Trung Quốc đi xuống nghiêm trọng trong năm nay. ')"
      ],
      "execution_count": 167,
      "outputs": [
        {
          "output_type": "stream",
          "text": [
            "Input: <sos> tình hình kinh tế trung quốc đi xuống nghiêm trọng trong năm nay . <eos>\n",
            "Predicted translation: china 's economy has been in serious months . <eos> \n"
          ],
          "name": "stdout"
        }
      ]
    },
    {
      "cell_type": "code",
      "metadata": {
        "id": "_9FQZFJLSTRs",
        "colab_type": "code",
        "colab": {
          "base_uri": "https://localhost:8080/",
          "height": 52
        },
        "outputId": "fbf72b67-b144-4e9e-bf82-1bb6f1b57272"
      },
      "source": [
        "translate('bạo lực xảy ra tại Nga')"
      ],
      "execution_count": 172,
      "outputs": [
        {
          "output_type": "stream",
          "text": [
            "Input: <sos> bạo lực xảy ra tại nga <eos>\n",
            "Predicted translation: published in russia <eos> \n"
          ],
          "name": "stdout"
        }
      ]
    },
    {
      "cell_type": "code",
      "metadata": {
        "id": "7pqV-mLqn06G",
        "colab_type": "code",
        "colab": {}
      },
      "source": [
        ""
      ],
      "execution_count": 0,
      "outputs": []
    }
  ]
}