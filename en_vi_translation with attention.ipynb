{
  "nbformat": 4,
  "nbformat_minor": 0,
  "metadata": {
    "kernelspec": {
      "name": "python3",
      "display_name": "Python 3"
    },
    "language_info": {
      "codemirror_mode": {
        "name": "ipython",
        "version": 3
      },
      "file_extension": ".py",
      "mimetype": "text/x-python",
      "name": "python",
      "nbconvert_exporter": "python",
      "pygments_lexer": "ipython3",
      "version": "3.7.3"
    },
    "colab": {
      "name": "en-vi translation.ipynb",
      "provenance": [],
      "toc_visible": true,
      "include_colab_link": true
    },
    "accelerator": "GPU"
  },
  "cells": [
    {
      "cell_type": "markdown",
      "metadata": {
        "id": "view-in-github",
        "colab_type": "text"
      },
      "source": [
        "<a href=\"https://colab.research.google.com/github/MinhDg00/en-vi-translation/blob/master/en_vi_translation%20with%20attention.ipynb\" target=\"_parent\"><img src=\"https://colab.research.google.com/assets/colab-badge.svg\" alt=\"Open In Colab\"/></a>"
      ]
    },
    {
      "cell_type": "markdown",
      "metadata": {
        "id": "Pp_ZaSpIyq3F",
        "colab_type": "text"
      },
      "source": [
        "# Machine Translation Eng-Viet"
      ]
    },
    {
      "cell_type": "markdown",
      "metadata": {
        "id": "D4GPfMSlyq3L",
        "colab_type": "text"
      },
      "source": [
        "The Project uses the EVBCorpus - a English and Vietnamese parallel translations and bitexts \n",
        "\n",
        "More information about the data can be found [here](https://github.com/qhungngo/EVBCorpus)"
      ]
    },
    {
      "cell_type": "markdown",
      "metadata": {
        "id": "NpK94oZeyq3M",
        "colab_type": "text"
      },
      "source": [
        "### Load Files and Create Dataset"
      ]
    },
    {
      "cell_type": "code",
      "metadata": {
        "id": "CMllmeOa3dkc",
        "colab_type": "code",
        "outputId": "74e21af6-e969-43df-e9fb-5645135a4015",
        "colab": {
          "base_uri": "https://localhost:8080/",
          "height": 34
        }
      },
      "source": [
        "!pwd"
      ],
      "execution_count": 1,
      "outputs": [
        {
          "output_type": "stream",
          "text": [
            "/content\n"
          ],
          "name": "stdout"
        }
      ]
    },
    {
      "cell_type": "code",
      "metadata": {
        "id": "ZyxSr5UKyq3N",
        "colab_type": "code",
        "colab": {}
      },
      "source": [
        "# Packages for loading file\n",
        "import os\n",
        "from zipfile import ZipFile\n",
        "from bs4 import BeautifulSoup\n",
        "import re\n",
        "import glob\n",
        "import warnings\n",
        "warnings.filterwarnings('ignore')"
      ],
      "execution_count": 0,
      "outputs": []
    },
    {
      "cell_type": "code",
      "metadata": {
        "id": "zlUcSaGlyq3S",
        "colab_type": "code",
        "colab": {}
      },
      "source": [
        "# Set seed\n",
        "import numpy as np\n",
        "import random\n",
        "SEED = 46\n",
        "np.random.seed(SEED)\n",
        "random.seed(SEED)"
      ],
      "execution_count": 0,
      "outputs": []
    },
    {
      "cell_type": "code",
      "metadata": {
        "id": "tUQqFBr-2K0M",
        "colab_type": "code",
        "colab": {}
      },
      "source": [
        "with ZipFile('data.zip', 'r') as data:\n",
        "   # Extract all the contents of zip file in current directory\n",
        "   data.extractall()"
      ],
      "execution_count": 0,
      "outputs": []
    },
    {
      "cell_type": "code",
      "metadata": {
        "id": "C6XYTLQnyq3X",
        "colab_type": "code",
        "colab": {}
      },
      "source": [
        "data = []\n",
        "path = 'data/*.sgml'\n",
        "files = glob.glob(path)\n",
        "for file in files:\n",
        "    data.append(BeautifulSoup(open(file), 'lxml'))"
      ],
      "execution_count": 0,
      "outputs": []
    },
    {
      "cell_type": "code",
      "metadata": {
        "id": "0k46Py9kyq3d",
        "colab_type": "code",
        "colab": {}
      },
      "source": [
        "# Create 2 list contains english and vietnamese texts\n",
        "english_sentences = []\n",
        "vietnamese_sentences = []\n",
        "count = 0\n",
        "for d in data:\n",
        "    i = 0\n",
        "    for text in d.find_all('s'):\n",
        "        if i%2 == 0:\n",
        "            english_sentences.append(text.text)\n",
        "        else:\n",
        "            vietnamese_sentences.append(text.text)\n",
        "        i += 1 \n",
        "    count += i "
      ],
      "execution_count": 0,
      "outputs": []
    },
    {
      "cell_type": "code",
      "metadata": {
        "id": "UKcRCH4yyq3h",
        "colab_type": "code",
        "outputId": "000d2378-a105-42cd-9738-a0b337a2ec9c",
        "colab": {
          "base_uri": "https://localhost:8080/",
          "height": 68
        }
      },
      "source": [
        "print(vietnamese_sentences[0])\n",
        "print(english_sentences[0])\n",
        "print('Total sentences in the dataset:{}'.format(count//2))"
      ],
      "execution_count": 7,
      "outputs": [
        {
          "output_type": "stream",
          "text": [
            "ADN của ông Dominique Strauss-Kahn \" có dính líu đến cô phục vụ phòng \"\n",
            "Dominique Strauss-Kahn DNA \" linked to maid \"\n",
            "Total sentences in the dataset:45308\n"
          ],
          "name": "stdout"
        }
      ]
    },
    {
      "cell_type": "markdown",
      "metadata": {
        "id": "2FTegguKyq3n",
        "colab_type": "text"
      },
      "source": [
        "### Vocabulary"
      ]
    },
    {
      "cell_type": "code",
      "metadata": {
        "id": "69D_78WMyq3p",
        "colab_type": "code",
        "colab": {}
      },
      "source": [
        "# Create a counter\n",
        "import collections\n",
        "\n",
        "english_words_counter = collections.Counter([word for sentence in english_sentences for word in sentence.split()])\n",
        "vietnamese_words_counter = collections.Counter([word for sentence in vietnamese_sentences for word in sentence.split()])"
      ],
      "execution_count": 0,
      "outputs": []
    },
    {
      "cell_type": "code",
      "metadata": {
        "id": "fdDLRiDoyq3u",
        "colab_type": "code",
        "outputId": "05e27aaf-8f9d-41d9-ed04-bbc2158b8b13",
        "colab": {
          "base_uri": "https://localhost:8080/",
          "height": 87
        }
      },
      "source": [
        "# Inverstigate unique and most common words in both texts\n",
        "print('{} English words.'.format(len([word for sentence in english_sentences for word in sentence.split()])))\n",
        "print('{} unique English words.'.format(len(english_words_counter)))\n",
        "print('10 Most common words in the English dataset:')\n",
        "print('\"' + '\" \"'.join(list(zip(*english_words_counter.most_common(10)))[0]) + '\"')\n"
      ],
      "execution_count": 9,
      "outputs": [
        {
          "output_type": "stream",
          "text": [
            "880216 English words.\n",
            "40903 unique English words.\n",
            "10 Most common words in the English dataset:\n",
            "\".\" \",\" \"the\" \"to\" \"of\" \"and\" \"a\" \"in\" \"\"\" \"is\"\n"
          ],
          "name": "stdout"
        }
      ]
    },
    {
      "cell_type": "code",
      "metadata": {
        "id": "uuAOLl-1yq3y",
        "colab_type": "code",
        "outputId": "09253ce1-7f1f-4f15-d926-967954c57775",
        "colab": {
          "base_uri": "https://localhost:8080/",
          "height": 85
        }
      },
      "source": [
        "print('{} Vietnamese words.'.format(len([word for sentence in vietnamese_sentences for word in sentence.split()])))\n",
        "print('{} unique Vietnamese words.'.format(len(vietnamese_sentences)))\n",
        "print('10 Most common words in the Vietnamese dataset:')\n",
        "print('\"' + '\" \"'.join(list(zip(*vietnamese_words_counter.most_common(10)))[0]) + '\"')"
      ],
      "execution_count": 10,
      "outputs": [
        {
          "output_type": "stream",
          "text": [
            "1201737 Vietnamese words.\n",
            "45308 unique Vietnamese words.\n",
            "10 Most common words in the Vietnamese dataset:\n",
            "\".\" \",\" \"và\" \"có\" \"của\" \"là\" \"một\" \"\"\" \"cho\" \"các\"\n"
          ],
          "name": "stdout"
        }
      ]
    },
    {
      "cell_type": "markdown",
      "metadata": {
        "id": "IQFFT8G12fa-",
        "colab_type": "text"
      },
      "source": [
        "###Sentiment Classification\n"
      ]
    },
    {
      "cell_type": "code",
      "metadata": {
        "id": "g6-rkFFUocSY",
        "colab_type": "code",
        "outputId": "9912ba0c-b573-438e-b7a7-fedca66b5ddc",
        "colab": {
          "base_uri": "https://localhost:8080/",
          "height": 1000
        }
      },
      "source": [
        "# install if not\n",
        "!pip install vncorenlp\n",
        "!pip install spacy\n",
        "!pip install transformers==2.3.0\n",
        "!pip install tensorflow==2.1.0"
      ],
      "execution_count": 6,
      "outputs": [
        {
          "output_type": "stream",
          "text": [
            "Requirement already satisfied: vncorenlp in /usr/local/lib/python3.6/dist-packages (1.0.3)\n",
            "Requirement already satisfied: requests in /usr/local/lib/python3.6/dist-packages (from vncorenlp) (2.21.0)\n",
            "Requirement already satisfied: urllib3<1.25,>=1.21.1 in /usr/local/lib/python3.6/dist-packages (from requests->vncorenlp) (1.24.3)\n",
            "Requirement already satisfied: idna<2.9,>=2.5 in /usr/local/lib/python3.6/dist-packages (from requests->vncorenlp) (2.8)\n",
            "Requirement already satisfied: certifi>=2017.4.17 in /usr/local/lib/python3.6/dist-packages (from requests->vncorenlp) (2019.11.28)\n",
            "Requirement already satisfied: chardet<3.1.0,>=3.0.2 in /usr/local/lib/python3.6/dist-packages (from requests->vncorenlp) (3.0.4)\n",
            "Requirement already satisfied: spacy in /usr/local/lib/python3.6/dist-packages (2.1.9)\n",
            "Requirement already satisfied: preshed<2.1.0,>=2.0.1 in /usr/local/lib/python3.6/dist-packages (from spacy) (2.0.1)\n",
            "Requirement already satisfied: thinc<7.1.0,>=7.0.8 in /usr/local/lib/python3.6/dist-packages (from spacy) (7.0.8)\n",
            "Requirement already satisfied: blis<0.3.0,>=0.2.2 in /usr/local/lib/python3.6/dist-packages (from spacy) (0.2.4)\n",
            "Requirement already satisfied: murmurhash<1.1.0,>=0.28.0 in /usr/local/lib/python3.6/dist-packages (from spacy) (1.0.2)\n",
            "Requirement already satisfied: srsly<1.1.0,>=0.0.6 in /usr/local/lib/python3.6/dist-packages (from spacy) (1.0.1)\n",
            "Requirement already satisfied: cymem<2.1.0,>=2.0.2 in /usr/local/lib/python3.6/dist-packages (from spacy) (2.0.3)\n",
            "Requirement already satisfied: wasabi<1.1.0,>=0.2.0 in /usr/local/lib/python3.6/dist-packages (from spacy) (0.6.0)\n",
            "Requirement already satisfied: numpy>=1.15.0 in /usr/local/lib/python3.6/dist-packages (from spacy) (1.17.5)\n",
            "Requirement already satisfied: plac<1.0.0,>=0.9.6 in /usr/local/lib/python3.6/dist-packages (from spacy) (0.9.6)\n",
            "Requirement already satisfied: requests<3.0.0,>=2.13.0 in /usr/local/lib/python3.6/dist-packages (from spacy) (2.21.0)\n",
            "Requirement already satisfied: tqdm<5.0.0,>=4.10.0 in /usr/local/lib/python3.6/dist-packages (from thinc<7.1.0,>=7.0.8->spacy) (4.28.1)\n",
            "Requirement already satisfied: idna<2.9,>=2.5 in /usr/local/lib/python3.6/dist-packages (from requests<3.0.0,>=2.13.0->spacy) (2.8)\n",
            "Requirement already satisfied: certifi>=2017.4.17 in /usr/local/lib/python3.6/dist-packages (from requests<3.0.0,>=2.13.0->spacy) (2019.11.28)\n",
            "Requirement already satisfied: urllib3<1.25,>=1.21.1 in /usr/local/lib/python3.6/dist-packages (from requests<3.0.0,>=2.13.0->spacy) (1.24.3)\n",
            "Requirement already satisfied: chardet<3.1.0,>=3.0.2 in /usr/local/lib/python3.6/dist-packages (from requests<3.0.0,>=2.13.0->spacy) (3.0.4)\n",
            "Requirement already satisfied: transformers==2.3.0 in /usr/local/lib/python3.6/dist-packages (2.3.0)\n",
            "Requirement already satisfied: regex!=2019.12.17 in /usr/local/lib/python3.6/dist-packages (from transformers==2.3.0) (2019.12.20)\n",
            "Requirement already satisfied: sentencepiece in /usr/local/lib/python3.6/dist-packages (from transformers==2.3.0) (0.1.85)\n",
            "Requirement already satisfied: boto3 in /usr/local/lib/python3.6/dist-packages (from transformers==2.3.0) (1.11.15)\n",
            "Requirement already satisfied: sacremoses in /usr/local/lib/python3.6/dist-packages (from transformers==2.3.0) (0.0.38)\n",
            "Requirement already satisfied: requests in /usr/local/lib/python3.6/dist-packages (from transformers==2.3.0) (2.21.0)\n",
            "Requirement already satisfied: numpy in /usr/local/lib/python3.6/dist-packages (from transformers==2.3.0) (1.17.5)\n",
            "Requirement already satisfied: tqdm in /usr/local/lib/python3.6/dist-packages (from transformers==2.3.0) (4.28.1)\n",
            "Requirement already satisfied: s3transfer<0.4.0,>=0.3.0 in /usr/local/lib/python3.6/dist-packages (from boto3->transformers==2.3.0) (0.3.3)\n",
            "Requirement already satisfied: jmespath<1.0.0,>=0.7.1 in /usr/local/lib/python3.6/dist-packages (from boto3->transformers==2.3.0) (0.9.4)\n",
            "Requirement already satisfied: botocore<1.15.0,>=1.14.15 in /usr/local/lib/python3.6/dist-packages (from boto3->transformers==2.3.0) (1.14.15)\n",
            "Requirement already satisfied: six in /usr/local/lib/python3.6/dist-packages (from sacremoses->transformers==2.3.0) (1.12.0)\n",
            "Requirement already satisfied: joblib in /usr/local/lib/python3.6/dist-packages (from sacremoses->transformers==2.3.0) (0.14.1)\n",
            "Requirement already satisfied: click in /usr/local/lib/python3.6/dist-packages (from sacremoses->transformers==2.3.0) (7.0)\n",
            "Requirement already satisfied: idna<2.9,>=2.5 in /usr/local/lib/python3.6/dist-packages (from requests->transformers==2.3.0) (2.8)\n",
            "Requirement already satisfied: chardet<3.1.0,>=3.0.2 in /usr/local/lib/python3.6/dist-packages (from requests->transformers==2.3.0) (3.0.4)\n",
            "Requirement already satisfied: certifi>=2017.4.17 in /usr/local/lib/python3.6/dist-packages (from requests->transformers==2.3.0) (2019.11.28)\n",
            "Requirement already satisfied: urllib3<1.25,>=1.21.1 in /usr/local/lib/python3.6/dist-packages (from requests->transformers==2.3.0) (1.24.3)\n",
            "Requirement already satisfied: docutils<0.16,>=0.10 in /usr/local/lib/python3.6/dist-packages (from botocore<1.15.0,>=1.14.15->boto3->transformers==2.3.0) (0.15.2)\n",
            "Requirement already satisfied: python-dateutil<3.0.0,>=2.1 in /usr/local/lib/python3.6/dist-packages (from botocore<1.15.0,>=1.14.15->boto3->transformers==2.3.0) (2.6.1)\n",
            "Requirement already satisfied: tensorflow==2.1.0 in /usr/local/lib/python3.6/dist-packages (2.1.0)\n",
            "Requirement already satisfied: six>=1.12.0 in /usr/local/lib/python3.6/dist-packages (from tensorflow==2.1.0) (1.12.0)\n",
            "Requirement already satisfied: absl-py>=0.7.0 in /usr/local/lib/python3.6/dist-packages (from tensorflow==2.1.0) (0.9.0)\n",
            "Requirement already satisfied: astor>=0.6.0 in /usr/local/lib/python3.6/dist-packages (from tensorflow==2.1.0) (0.8.1)\n",
            "Requirement already satisfied: numpy<2.0,>=1.16.0 in /usr/local/lib/python3.6/dist-packages (from tensorflow==2.1.0) (1.17.5)\n",
            "Requirement already satisfied: tensorflow-estimator<2.2.0,>=2.1.0rc0 in /usr/local/lib/python3.6/dist-packages (from tensorflow==2.1.0) (2.1.0)\n",
            "Requirement already satisfied: termcolor>=1.1.0 in /usr/local/lib/python3.6/dist-packages (from tensorflow==2.1.0) (1.1.0)\n",
            "Requirement already satisfied: wrapt>=1.11.1 in /usr/local/lib/python3.6/dist-packages (from tensorflow==2.1.0) (1.11.2)\n",
            "Requirement already satisfied: wheel>=0.26; python_version >= \"3\" in /usr/local/lib/python3.6/dist-packages (from tensorflow==2.1.0) (0.34.2)\n",
            "Requirement already satisfied: opt-einsum>=2.3.2 in /usr/local/lib/python3.6/dist-packages (from tensorflow==2.1.0) (3.1.0)\n",
            "Requirement already satisfied: scipy==1.4.1; python_version >= \"3\" in /usr/local/lib/python3.6/dist-packages (from tensorflow==2.1.0) (1.4.1)\n",
            "Requirement already satisfied: keras-preprocessing>=1.1.0 in /usr/local/lib/python3.6/dist-packages (from tensorflow==2.1.0) (1.1.0)\n",
            "Requirement already satisfied: grpcio>=1.8.6 in /usr/local/lib/python3.6/dist-packages (from tensorflow==2.1.0) (1.27.1)\n",
            "Requirement already satisfied: tensorboard<2.2.0,>=2.1.0 in /usr/local/lib/python3.6/dist-packages (from tensorflow==2.1.0) (2.1.1)\n",
            "Requirement already satisfied: keras-applications>=1.0.8 in /usr/local/lib/python3.6/dist-packages (from tensorflow==2.1.0) (1.0.8)\n",
            "Requirement already satisfied: protobuf>=3.8.0 in /usr/local/lib/python3.6/dist-packages (from tensorflow==2.1.0) (3.10.0)\n",
            "Requirement already satisfied: gast==0.2.2 in /usr/local/lib/python3.6/dist-packages (from tensorflow==2.1.0) (0.2.2)\n",
            "Requirement already satisfied: google-pasta>=0.1.6 in /usr/local/lib/python3.6/dist-packages (from tensorflow==2.1.0) (0.1.8)\n",
            "Requirement already satisfied: markdown>=2.6.8 in /usr/local/lib/python3.6/dist-packages (from tensorboard<2.2.0,>=2.1.0->tensorflow==2.1.0) (3.2.1)\n",
            "Requirement already satisfied: werkzeug>=0.11.15 in /usr/local/lib/python3.6/dist-packages (from tensorboard<2.2.0,>=2.1.0->tensorflow==2.1.0) (1.0.0)\n",
            "Requirement already satisfied: google-auth<2,>=1.6.3 in /usr/local/lib/python3.6/dist-packages (from tensorboard<2.2.0,>=2.1.0->tensorflow==2.1.0) (1.7.2)\n",
            "Requirement already satisfied: google-auth-oauthlib<0.5,>=0.4.1 in /usr/local/lib/python3.6/dist-packages (from tensorboard<2.2.0,>=2.1.0->tensorflow==2.1.0) (0.4.1)\n",
            "Requirement already satisfied: requests<3,>=2.21.0 in /usr/local/lib/python3.6/dist-packages (from tensorboard<2.2.0,>=2.1.0->tensorflow==2.1.0) (2.21.0)\n",
            "Requirement already satisfied: setuptools>=41.0.0 in /usr/local/lib/python3.6/dist-packages (from tensorboard<2.2.0,>=2.1.0->tensorflow==2.1.0) (45.2.0)\n",
            "Requirement already satisfied: h5py in /usr/local/lib/python3.6/dist-packages (from keras-applications>=1.0.8->tensorflow==2.1.0) (2.8.0)\n",
            "Requirement already satisfied: cachetools<3.2,>=2.0.0 in /usr/local/lib/python3.6/dist-packages (from google-auth<2,>=1.6.3->tensorboard<2.2.0,>=2.1.0->tensorflow==2.1.0) (3.1.1)\n",
            "Requirement already satisfied: pyasn1-modules>=0.2.1 in /usr/local/lib/python3.6/dist-packages (from google-auth<2,>=1.6.3->tensorboard<2.2.0,>=2.1.0->tensorflow==2.1.0) (0.2.8)\n",
            "Requirement already satisfied: rsa<4.1,>=3.1.4 in /usr/local/lib/python3.6/dist-packages (from google-auth<2,>=1.6.3->tensorboard<2.2.0,>=2.1.0->tensorflow==2.1.0) (4.0)\n",
            "Requirement already satisfied: requests-oauthlib>=0.7.0 in /usr/local/lib/python3.6/dist-packages (from google-auth-oauthlib<0.5,>=0.4.1->tensorboard<2.2.0,>=2.1.0->tensorflow==2.1.0) (1.3.0)\n",
            "Requirement already satisfied: certifi>=2017.4.17 in /usr/local/lib/python3.6/dist-packages (from requests<3,>=2.21.0->tensorboard<2.2.0,>=2.1.0->tensorflow==2.1.0) (2019.11.28)\n",
            "Requirement already satisfied: urllib3<1.25,>=1.21.1 in /usr/local/lib/python3.6/dist-packages (from requests<3,>=2.21.0->tensorboard<2.2.0,>=2.1.0->tensorflow==2.1.0) (1.24.3)\n",
            "Requirement already satisfied: chardet<3.1.0,>=3.0.2 in /usr/local/lib/python3.6/dist-packages (from requests<3,>=2.21.0->tensorboard<2.2.0,>=2.1.0->tensorflow==2.1.0) (3.0.4)\n",
            "Requirement already satisfied: idna<2.9,>=2.5 in /usr/local/lib/python3.6/dist-packages (from requests<3,>=2.21.0->tensorboard<2.2.0,>=2.1.0->tensorflow==2.1.0) (2.8)\n",
            "Requirement already satisfied: pyasn1<0.5.0,>=0.4.6 in /usr/local/lib/python3.6/dist-packages (from pyasn1-modules>=0.2.1->google-auth<2,>=1.6.3->tensorboard<2.2.0,>=2.1.0->tensorflow==2.1.0) (0.4.8)\n",
            "Requirement already satisfied: oauthlib>=3.0.0 in /usr/local/lib/python3.6/dist-packages (from requests-oauthlib>=0.7.0->google-auth-oauthlib<0.5,>=0.4.1->tensorboard<2.2.0,>=2.1.0->tensorflow==2.1.0) (3.1.0)\n"
          ],
          "name": "stdout"
        }
      ]
    },
    {
      "cell_type": "code",
      "metadata": {
        "id": "PTwPNHqNdB2P",
        "colab_type": "code",
        "colab": {}
      },
      "source": [
        ""
      ],
      "execution_count": 0,
      "outputs": []
    },
    {
      "cell_type": "code",
      "metadata": {
        "id": "Cg3p7f8T2X9M",
        "colab_type": "code",
        "colab": {}
      },
      "source": [
        "from transformers import pipeline\n",
        "import pandas as pd"
      ],
      "execution_count": 0,
      "outputs": []
    },
    {
      "cell_type": "code",
      "metadata": {
        "id": "7o8JU_7G2vkJ",
        "colab_type": "code",
        "colab": {}
      },
      "source": [
        "sentiment_classifier = pipeline('sentiment-analysis')"
      ],
      "execution_count": 0,
      "outputs": []
    },
    {
      "cell_type": "markdown",
      "metadata": {
        "id": "5qWht4LJKxBf",
        "colab_type": "text"
      },
      "source": [
        "We will only investigate the first 100 english texts"
      ]
    },
    {
      "cell_type": "code",
      "metadata": {
        "id": "SION08LI3Nhn",
        "colab_type": "code",
        "colab": {}
      },
      "source": [
        "s = ([sentiment_classifier(sentence) for sentence in english_sentences[:100]])"
      ],
      "execution_count": 0,
      "outputs": []
    },
    {
      "cell_type": "code",
      "metadata": {
        "id": "xaTLxqIvK_qS",
        "colab_type": "code",
        "colab": {}
      },
      "source": [
        "sentiment_df = pd.DataFrame({'English_text':english_sentences[:100], 'Sentiment': s}, index = range(1,101))"
      ],
      "execution_count": 0,
      "outputs": []
    },
    {
      "cell_type": "code",
      "metadata": {
        "id": "cVQY7SYFNeP8",
        "colab_type": "code",
        "outputId": "39fd1b3d-abdd-458a-c6a3-cd5b2e625793",
        "colab": {
          "base_uri": "https://localhost:8080/",
          "height": 204
        }
      },
      "source": [
        "sentiment_df.head()"
      ],
      "execution_count": 16,
      "outputs": [
        {
          "output_type": "execute_result",
          "data": {
            "text/html": [
              "<div>\n",
              "<style scoped>\n",
              "    .dataframe tbody tr th:only-of-type {\n",
              "        vertical-align: middle;\n",
              "    }\n",
              "\n",
              "    .dataframe tbody tr th {\n",
              "        vertical-align: top;\n",
              "    }\n",
              "\n",
              "    .dataframe thead th {\n",
              "        text-align: right;\n",
              "    }\n",
              "</style>\n",
              "<table border=\"1\" class=\"dataframe\">\n",
              "  <thead>\n",
              "    <tr style=\"text-align: right;\">\n",
              "      <th></th>\n",
              "      <th>English_text</th>\n",
              "      <th>Sentiment</th>\n",
              "    </tr>\n",
              "  </thead>\n",
              "  <tbody>\n",
              "    <tr>\n",
              "      <th>1</th>\n",
              "      <td>Dominique Strauss-Kahn DNA \" linked to maid \"</td>\n",
              "      <td>[{'label': 'POSITIVE', 'score': 0.6252783}]</td>\n",
              "    </tr>\n",
              "    <tr>\n",
              "      <th>2</th>\n",
              "      <td>Dominique Strauss-Kahn is being held under hou...</td>\n",
              "      <td>[{'label': 'NEGATIVE', 'score': 0.9738129}]</td>\n",
              "    </tr>\n",
              "    <tr>\n",
              "      <th>3</th>\n",
              "      <td>DNA found on the clothes of a New York hotel m...</td>\n",
              "      <td>[{'label': 'NEGATIVE', 'score': 0.98521155}]</td>\n",
              "    </tr>\n",
              "    <tr>\n",
              "      <th>4</th>\n",
              "      <td>These unconfirmed reports cited sources close ...</td>\n",
              "      <td>[{'label': 'NEGATIVE', 'score': 0.89243805}]</td>\n",
              "    </tr>\n",
              "    <tr>\n",
              "      <th>5</th>\n",
              "      <td>More tests from the room where the alleged att...</td>\n",
              "      <td>[{'label': 'NEGATIVE', 'score': 0.99367356}]</td>\n",
              "    </tr>\n",
              "  </tbody>\n",
              "</table>\n",
              "</div>"
            ],
            "text/plain": [
              "                                        English_text                                     Sentiment\n",
              "1      Dominique Strauss-Kahn DNA \" linked to maid \"   [{'label': 'POSITIVE', 'score': 0.6252783}]\n",
              "2  Dominique Strauss-Kahn is being held under hou...   [{'label': 'NEGATIVE', 'score': 0.9738129}]\n",
              "3  DNA found on the clothes of a New York hotel m...  [{'label': 'NEGATIVE', 'score': 0.98521155}]\n",
              "4  These unconfirmed reports cited sources close ...  [{'label': 'NEGATIVE', 'score': 0.89243805}]\n",
              "5  More tests from the room where the alleged att...  [{'label': 'NEGATIVE', 'score': 0.99367356}]"
            ]
          },
          "metadata": {
            "tags": []
          },
          "execution_count": 16
        }
      ]
    },
    {
      "cell_type": "markdown",
      "metadata": {
        "id": "IDwN2KkpMhNl",
        "colab_type": "text"
      },
      "source": [
        "### POS tagging & Named Entity Recognition \n",
        "For performance sake, I will only investigate the first 100 english sentences"
      ]
    },
    {
      "cell_type": "code",
      "metadata": {
        "id": "qwy_4G_DkMyL",
        "colab_type": "code",
        "colab": {}
      },
      "source": [
        "import spacy"
      ],
      "execution_count": 0,
      "outputs": []
    },
    {
      "cell_type": "code",
      "metadata": {
        "id": "aMOC8A5vMuWd",
        "colab_type": "code",
        "colab": {}
      },
      "source": [
        "tag = spacy.load('en_core_web_sm') "
      ],
      "execution_count": 0,
      "outputs": []
    },
    {
      "cell_type": "code",
      "metadata": {
        "id": "9vRX8XP1Rbz-",
        "colab_type": "code",
        "colab": {}
      },
      "source": [
        "tag = ([tag(sentence) for sentence in english_sentences[:100]])"
      ],
      "execution_count": 0,
      "outputs": []
    },
    {
      "cell_type": "code",
      "metadata": {
        "id": "sWZjHr-PSvSf",
        "colab_type": "code",
        "outputId": "456a38f1-a2a3-42b4-d468-ccf0b7f9ca8f",
        "colab": {
          "base_uri": "https://localhost:8080/",
          "height": 119
        }
      },
      "source": [
        "print('\\nNamed Entity recognized from the text 1 to 3\\n')\n",
        "for ent in tag[2].ents:\n",
        "  print(ent.text, ent.label_)"
      ],
      "execution_count": 20,
      "outputs": [
        {
          "output_type": "stream",
          "text": [
            "\n",
            "Named Entity recognized from the text 1 to 3\n",
            "\n",
            "New York GPE\n",
            "Dominique Strauss-Kahn PERSON\n",
            "US GPE\n"
          ],
          "name": "stdout"
        }
      ]
    },
    {
      "cell_type": "markdown",
      "metadata": {
        "id": "UKIlhxAaUGHi",
        "colab_type": "text"
      },
      "source": [
        "Provide Vietnamese POS Tagger and NER with VNCoreNLP"
      ]
    },
    {
      "cell_type": "code",
      "metadata": {
        "id": "LefPjLLnMCJd",
        "colab_type": "code",
        "colab": {}
      },
      "source": [
        "from vncorenlp import VnCoreNLP"
      ],
      "execution_count": 0,
      "outputs": []
    },
    {
      "cell_type": "code",
      "metadata": {
        "id": "tr5YrkYCM-lE",
        "colab_type": "code",
        "colab": {}
      },
      "source": [
        "annotator = VnCoreNLP(\"/content/VnCoreNLP-1.1.1.jar\", annotators=\"wseg,pos,ner\", max_heap_size='-Xmx2g') "
      ],
      "execution_count": 0,
      "outputs": []
    },
    {
      "cell_type": "code",
      "metadata": {
        "id": "e2K3WkOnT60x",
        "colab_type": "code",
        "colab": {}
      },
      "source": [
        "ant = [annotator.annotate(sentence) for sentence in vietnamese_sentences[:100]]"
      ],
      "execution_count": 0,
      "outputs": []
    },
    {
      "cell_type": "code",
      "metadata": {
        "id": "DkkAdyu1a7X2",
        "colab_type": "code",
        "colab": {}
      },
      "source": [
        "annotate_df = pd.DataFrame({'Vietnamese_text':vietnamese_sentences[:100], 'Annotation': ant}, index = range(1,101))"
      ],
      "execution_count": 0,
      "outputs": []
    },
    {
      "cell_type": "code",
      "metadata": {
        "id": "Dwhp14nlbHtp",
        "colab_type": "code",
        "colab": {
          "base_uri": "https://localhost:8080/",
          "height": 204
        },
        "outputId": "55d4020b-d623-4210-cb43-f5e940bcde20"
      },
      "source": [
        "annotate_df.head()"
      ],
      "execution_count": 25,
      "outputs": [
        {
          "output_type": "execute_result",
          "data": {
            "text/html": [
              "<div>\n",
              "<style scoped>\n",
              "    .dataframe tbody tr th:only-of-type {\n",
              "        vertical-align: middle;\n",
              "    }\n",
              "\n",
              "    .dataframe tbody tr th {\n",
              "        vertical-align: top;\n",
              "    }\n",
              "\n",
              "    .dataframe thead th {\n",
              "        text-align: right;\n",
              "    }\n",
              "</style>\n",
              "<table border=\"1\" class=\"dataframe\">\n",
              "  <thead>\n",
              "    <tr style=\"text-align: right;\">\n",
              "      <th></th>\n",
              "      <th>Vietnamese_text</th>\n",
              "      <th>Annotation</th>\n",
              "    </tr>\n",
              "  </thead>\n",
              "  <tbody>\n",
              "    <tr>\n",
              "      <th>1</th>\n",
              "      <td>ADN của ông Dominique Strauss-Kahn \" có dính l...</td>\n",
              "      <td>{'sentences': [[{'index': 1, 'form': 'ADN', 'p...</td>\n",
              "    </tr>\n",
              "    <tr>\n",
              "      <th>2</th>\n",
              "      <td>Dominique Strauss-Kahn đang bị quản thúc tại g...</td>\n",
              "      <td>{'sentences': [[{'index': 1, 'form': 'Dominiqu...</td>\n",
              "    </tr>\n",
              "    <tr>\n",
              "      <th>3</th>\n",
              "      <td>Các bản tin của giới truyền thông Hoa Kỳ cho b...</td>\n",
              "      <td>{'sentences': [[{'index': 1, 'form': 'Các', 'p...</td>\n",
              "    </tr>\n",
              "    <tr>\n",
              "      <th>4</th>\n",
              "      <td>Các bản tin chưa được chứng thực này lấy tin t...</td>\n",
              "      <td>{'sentences': [[{'index': 1, 'form': 'Các', 'p...</td>\n",
              "    </tr>\n",
              "    <tr>\n",
              "      <th>5</th>\n",
              "      <td>Thêm nhiều xét nghiệm nữa từ căn phòng - nơi c...</td>\n",
              "      <td>{'sentences': [[{'index': 1, 'form': 'Thêm', '...</td>\n",
              "    </tr>\n",
              "  </tbody>\n",
              "</table>\n",
              "</div>"
            ],
            "text/plain": [
              "                                     Vietnamese_text                                         Annotation\n",
              "1  ADN của ông Dominique Strauss-Kahn \" có dính l...  {'sentences': [[{'index': 1, 'form': 'ADN', 'p...\n",
              "2  Dominique Strauss-Kahn đang bị quản thúc tại g...  {'sentences': [[{'index': 1, 'form': 'Dominiqu...\n",
              "3  Các bản tin của giới truyền thông Hoa Kỳ cho b...  {'sentences': [[{'index': 1, 'form': 'Các', 'p...\n",
              "4  Các bản tin chưa được chứng thực này lấy tin t...  {'sentences': [[{'index': 1, 'form': 'Các', 'p...\n",
              "5  Thêm nhiều xét nghiệm nữa từ căn phòng - nơi c...  {'sentences': [[{'index': 1, 'form': 'Thêm', '..."
            ]
          },
          "metadata": {
            "tags": []
          },
          "execution_count": 25
        }
      ]
    },
    {
      "cell_type": "markdown",
      "metadata": {
        "id": "fjaOok4tyq4A",
        "colab_type": "text"
      },
      "source": [
        "### Preprocess\n"
      ]
    },
    {
      "cell_type": "code",
      "metadata": {
        "id": "nDQDUdekHkB6",
        "colab_type": "code",
        "colab": {
          "base_uri": "https://localhost:8080/",
          "height": 34
        },
        "outputId": "4e133c1b-f9bb-4229-a8d6-6096ee37a28e"
      },
      "source": [
        "from __future__ import absolute_import, division, print_function\n",
        "import tensorflow as tf\n",
        "import time\n",
        "import os \n",
        "import io\n",
        "from sklearn.model_selection import train_test_split\n",
        "from keras.preprocessing.text import Tokenizer\n",
        "from keras.preprocessing.sequence import pad_sequences\n"
      ],
      "execution_count": 6,
      "outputs": [
        {
          "output_type": "stream",
          "text": [
            "Using TensorFlow backend.\n"
          ],
          "name": "stderr"
        }
      ]
    },
    {
      "cell_type": "code",
      "metadata": {
        "id": "Cr4QNUjDBs9Y",
        "colab_type": "code",
        "colab": {}
      },
      "source": [
        "# Lowercase, trim and remove non-letter characters\n",
        "def normalizeString(s):\n",
        "    s = s.lower().strip()\n",
        "    s = re.sub(r\"([.!?])\", r\" \\1\", s)\n",
        "    s = re.sub(r'[\" \"]+', \" \", s)\n",
        "    s = re.sub(r'[-]+', \" \", s)\n",
        "    #s = re.sub(r\"[^a-zA-Z.!?]+\", r\" \", s)\n",
        "    s = s.rstrip().strip()\n",
        "    s = '<sos> ' + s + ' <eos>'\n",
        "    \n",
        "    return s"
      ],
      "execution_count": 0,
      "outputs": []
    },
    {
      "cell_type": "code",
      "metadata": {
        "id": "9dRok6Sk7X0m",
        "colab_type": "code",
        "outputId": "270fab02-8c13-4604-ff19-f5d65f2c5058",
        "colab": {
          "base_uri": "https://localhost:8080/",
          "height": 54
        }
      },
      "source": [
        "english_sentences[13]"
      ],
      "execution_count": 8,
      "outputs": [
        {
          "output_type": "execute_result",
          "data": {
            "text/plain": [
              "'Guinea , told authorities that Mr Strauss-Kahn had accosted her after she entered his hotel room to clean it .'"
            ]
          },
          "metadata": {
            "tags": []
          },
          "execution_count": 8
        }
      ]
    },
    {
      "cell_type": "code",
      "metadata": {
        "id": "TMf-IDDTDgLJ",
        "colab_type": "code",
        "colab": {}
      },
      "source": [
        "# Normalize both english and vietnamese texts\n",
        "eng_text = []\n",
        "viet_text = []\n",
        "for (eng, viet) in zip(english_sentences, vietnamese_sentences):\n",
        "  eng_text.append(normalizeString(eng))\n",
        "  viet_text.append(normalizeString(viet))"
      ],
      "execution_count": 0,
      "outputs": []
    },
    {
      "cell_type": "code",
      "metadata": {
        "id": "uEGZhiBfyq4F",
        "colab_type": "code",
        "colab": {}
      },
      "source": [
        "def tokenize(x):\n",
        "    x_tk = Tokenizer(filters = '')\n",
        "    x_tk.fit_on_texts(x)\n",
        "    \n",
        "    return x_tk.texts_to_sequences(x), x_tk"
      ],
      "execution_count": 0,
      "outputs": []
    },
    {
      "cell_type": "code",
      "metadata": {
        "id": "8bkFyRVwyq4J",
        "colab_type": "code",
        "colab": {}
      },
      "source": [
        "def pad(x, length = None):\n",
        "\n",
        "    if length is None:\n",
        "        length = max([len(sentence) for sentence in x])\n",
        "    \n",
        "    return pad_sequences(x, maxlen = length, padding = 'post')  # maxlen = length"
      ],
      "execution_count": 0,
      "outputs": []
    },
    {
      "cell_type": "code",
      "metadata": {
        "id": "JdTBmrN6yq4N",
        "colab_type": "code",
        "colab": {}
      },
      "source": [
        "def preprocess(x, y):\n",
        "    preprocess_x, x_tk = tokenize(x)\n",
        "    preprocess_y, y_tk = tokenize(y)\n",
        "\n",
        "    preprocess_x = pad(preprocess_x, 15)\n",
        "    preprocess_y = pad(preprocess_y, 20)\n",
        "\n",
        "    # Keras's sparse_categorical_crossentropy function requires the labels to be in 3 dimensions\n",
        "    # preprocess_y = preprocess_y.reshape(*preprocess_y.shape)\n",
        "\n",
        "    return preprocess_x, preprocess_y, x_tk, y_tk"
      ],
      "execution_count": 0,
      "outputs": []
    },
    {
      "cell_type": "code",
      "metadata": {
        "id": "qbpsFaw9ssX8",
        "colab_type": "code",
        "colab": {}
      },
      "source": [
        "# Reduce the data size to speed up training\n",
        "eng_text = eng_text\n",
        "viet_text = viet_text"
      ],
      "execution_count": 0,
      "outputs": []
    },
    {
      "cell_type": "code",
      "metadata": {
        "id": "wpIUPGAO_zC0",
        "colab_type": "code",
        "outputId": "90c6db6b-078f-41e8-f070-693fb85f1f4d",
        "colab": {
          "base_uri": "https://localhost:8080/",
          "height": 54
        }
      },
      "source": [
        "eng_text[13]"
      ],
      "execution_count": 24,
      "outputs": [
        {
          "output_type": "execute_result",
          "data": {
            "text/plain": [
              "'<sos> guinea , told authorities that mr strauss kahn had accosted her after she entered his hotel room to clean it . <eos>'"
            ]
          },
          "metadata": {
            "tags": []
          },
          "execution_count": 24
        }
      ]
    },
    {
      "cell_type": "code",
      "metadata": {
        "id": "zc-0gsYEyq4Q",
        "colab_type": "code",
        "colab": {}
      },
      "source": [
        "preproc_english_sentences, preproc_vietnamese_sentences, english_tokenizer, vietnamese_tokenizer =\\\n",
        "    preprocess(eng_text, viet_text)\n",
        "    \n",
        "max_english_sequence_length = preproc_english_sentences.shape[1]\n",
        "max_vietnamese_sequence_length = preproc_vietnamese_sentences.shape[1]\n",
        "english_vocab_size = len(english_tokenizer.word_index)\n",
        "vietnamese_vocab_size = len(vietnamese_tokenizer.word_index)"
      ],
      "execution_count": 0,
      "outputs": []
    },
    {
      "cell_type": "code",
      "metadata": {
        "id": "3z6As-Gdyq4V",
        "colab_type": "code",
        "outputId": "5601bc3a-1406-4e60-9dcd-eb51599ecab0",
        "colab": {
          "base_uri": "https://localhost:8080/",
          "height": 85
        }
      },
      "source": [
        "print(max_english_sequence_length)\n",
        "print(max_vietnamese_sequence_length)\n",
        "print(english_vocab_size)\n",
        "print(vietnamese_vocab_size)"
      ],
      "execution_count": 36,
      "outputs": [
        {
          "output_type": "stream",
          "text": [
            "15\n",
            "20\n",
            "31498\n",
            "14849\n"
          ],
          "name": "stdout"
        }
      ]
    },
    {
      "cell_type": "code",
      "metadata": {
        "id": "4LEG_2w1Smhl",
        "colab_type": "code",
        "outputId": "5ad6fbc9-73f6-4238-853a-fc865c9fa9c6",
        "colab": {
          "base_uri": "https://localhost:8080/",
          "height": 34
        }
      },
      "source": [
        "# Split data into training and validation set\n",
        "input_tensor_train, input_tensor_val, target_tensor_train, target_tensor_val =  train_test_split(preproc_vietnamese_sentences, preproc_english_sentences, test_size = 0.2)\n",
        "\n",
        "print(len(input_tensor_train), len(input_tensor_val), len(target_tensor_train), len(target_tensor_val))"
      ],
      "execution_count": 15,
      "outputs": [
        {
          "output_type": "stream",
          "text": [
            "36246 9062 36246 9062\n"
          ],
          "name": "stdout"
        }
      ]
    },
    {
      "cell_type": "code",
      "metadata": {
        "id": "hLBE8hF9b5Gj",
        "colab_type": "code",
        "colab": {}
      },
      "source": [
        "def convert(lang, tensor):\n",
        "  for t in tensor:\n",
        "    if t!=0:\n",
        "      print (\"%d ----> %s\" % (t, lang.index_word[t]))"
      ],
      "execution_count": 0,
      "outputs": []
    },
    {
      "cell_type": "code",
      "metadata": {
        "id": "34pe7t8HtMqN",
        "colab_type": "code",
        "outputId": "6798d400-df3c-403f-bab8-4efd4817c2d8",
        "colab": {
          "base_uri": "https://localhost:8080/",
          "height": 136
        }
      },
      "source": [
        "convert(english_tokenizer, target_tensor_train[46])"
      ],
      "execution_count": 39,
      "outputs": [
        {
          "output_type": "stream",
          "text": [
            "1 ----> <sos>\n",
            "85 ----> how\n",
            "11 ----> is\n",
            "1797 ----> infertility\n",
            "1781 ----> diagnosed\n",
            "73 ----> ?\n",
            "2 ----> <eos>\n"
          ],
          "name": "stdout"
        }
      ]
    },
    {
      "cell_type": "code",
      "metadata": {
        "id": "rxIs5FH9T8UH",
        "colab_type": "code",
        "colab": {}
      },
      "source": [
        "# Create a tf.data dataset\n",
        "BUFFER_SIZE = len(input_tensor_train)\n",
        "BATCH_SIZE = 128\n",
        "steps_per_epoch = len(input_tensor_train)//BATCH_SIZE\n",
        "embedding_dim = 256\n",
        "units = 256\n",
        "vocab_inp_size = len(vietnamese_tokenizer.word_index) + 1\n",
        "vocab_tar_size = len(english_tokenizer.word_index) + 1\n",
        "\n",
        "dataset = tf.data.Dataset.from_tensor_slices((input_tensor_train, target_tensor_train)).shuffle(BUFFER_SIZE)\n",
        "dataset = dataset.batch(BATCH_SIZE, drop_remainder=True)"
      ],
      "execution_count": 0,
      "outputs": []
    },
    {
      "cell_type": "code",
      "metadata": {
        "id": "OReErPiIUQ2I",
        "colab_type": "code",
        "outputId": "a77613d6-1943-47fc-d92f-f839309f3eaa",
        "colab": {
          "base_uri": "https://localhost:8080/",
          "height": 34
        }
      },
      "source": [
        "example_input_batch, example_target_batch = next(iter(dataset))\n",
        "example_input_batch.shape, example_target_batch.shape\n"
      ],
      "execution_count": 17,
      "outputs": [
        {
          "output_type": "execute_result",
          "data": {
            "text/plain": [
              "(TensorShape([128, 20]), TensorShape([128, 15]))"
            ]
          },
          "metadata": {
            "tags": []
          },
          "execution_count": 17
        }
      ]
    },
    {
      "cell_type": "markdown",
      "metadata": {
        "id": "UpknhFKayq4Z",
        "colab_type": "text"
      },
      "source": [
        "### Machine Translation Model with Attention\n",
        "The model is inspired by NMT with Attention Model from TensorFlow tutorial\n",
        "\n",
        "For more information, please visit https://www.tensorflow.org/tutorials/text/nmt_with_attention"
      ]
    },
    {
      "cell_type": "markdown",
      "metadata": {
        "id": "aJ3pwbS7ZFBh",
        "colab_type": "text"
      },
      "source": [
        "Encoder Model"
      ]
    },
    {
      "cell_type": "code",
      "metadata": {
        "id": "x13Fzc8PXRvl",
        "colab_type": "code",
        "colab": {}
      },
      "source": [
        "class Encoder(tf.keras.Model):\n",
        "  def __init__(self, vocab_size, embedding_dim, enc_units, batch_sz):\n",
        "    super(Encoder, self).__init__()\n",
        "    self.batch_sz = batch_sz\n",
        "    self.enc_units = enc_units\n",
        "    self.embedding = tf.keras.layers.Embedding(vocab_size, embedding_dim)\n",
        "    self.gru = tf.keras.layers.GRU(self.enc_units,\n",
        "                                   return_sequences=True,\n",
        "                                   return_state=True,\n",
        "                                   recurrent_initializer='glorot_uniform')\n",
        "\n",
        "  def call(self, x, hidden):\n",
        "    x = self.embedding(x)\n",
        "    output, state = self.gru(x, initial_state = hidden)\n",
        "    return output, state\n",
        "\n",
        "  def initialize_hidden_state(self):\n",
        "    return tf.zeros((self.batch_sz, self.enc_units))"
      ],
      "execution_count": 0,
      "outputs": []
    },
    {
      "cell_type": "code",
      "metadata": {
        "id": "LBtEsqeTXZZ_",
        "colab_type": "code",
        "outputId": "9650d706-05fc-40fb-fc23-bd0da5155466",
        "colab": {
          "base_uri": "https://localhost:8080/",
          "height": 72
        }
      },
      "source": [
        "encoder = Encoder(vocab_inp_size, embedding_dim, units, BATCH_SIZE)\n",
        "\n",
        "# sample input\n",
        "sample_hidden = encoder.initialize_hidden_state()\n",
        "sample_output, sample_hidden = encoder(example_input_batch, sample_hidden)\n",
        "print ('Encoder output shape: (batch size, sequence length, units) {}'.format(sample_output.shape))\n",
        "print ('Encoder Hidden state shape: (batch size, units) {}'.format(sample_hidden.shape))\n"
      ],
      "execution_count": 19,
      "outputs": [
        {
          "output_type": "stream",
          "text": [
            "Encoder output shape: (batch size, sequence length, units) (128, 20, 256)\n",
            "Encoder Hidden state shape: (batch size, units) (128, 256)\n"
          ],
          "name": "stdout"
        }
      ]
    },
    {
      "cell_type": "markdown",
      "metadata": {
        "id": "m-75DIlxZCOb",
        "colab_type": "text"
      },
      "source": [
        "##### Attention model"
      ]
    },
    {
      "cell_type": "code",
      "metadata": {
        "id": "dgMxLHpbYwXL",
        "colab_type": "code",
        "colab": {}
      },
      "source": [
        "class BahdanauAttention(tf.keras.layers.Layer):\n",
        "  def __init__(self, units):\n",
        "    super(BahdanauAttention, self).__init__()\n",
        "    self.W1 = tf.keras.layers.Dense(units)\n",
        "    self.W2 = tf.keras.layers.Dense(units)\n",
        "    self.V = tf.keras.layers.Dense(1)\n",
        "\n",
        "  def call(self, query, values):\n",
        "    # query hidden state shape == (batch_size, hidden size)\n",
        "    # query_with_time_axis shape == (batch_size, 1, hidden size)\n",
        "    # values shape == (batch_size, max_len, hidden size)\n",
        "    # we are doing this to broadcast addition along the time axis to calculate the score\n",
        "    query_with_time_axis = tf.expand_dims(query, 1)\n",
        "\n",
        "    # score shape == (batch_size, max_length, 1)\n",
        "    # we get 1 at the last axis because we are applying score to self.V\n",
        "    # the shape of the tensor before applying self.V is (batch_size, max_length, units)\n",
        "    score = self.V(tf.nn.tanh(\n",
        "        self.W1(query_with_time_axis) + self.W2(values)))\n",
        "\n",
        "    # attention_weights shape == (batch_size, max_length, 1)\n",
        "    attention_weights = tf.nn.softmax(score, axis=1)\n",
        "\n",
        "    # context_vector shape after sum == (batch_size, hidden_size)\n",
        "    context_vector = attention_weights * values\n",
        "    context_vector = tf.reduce_sum(context_vector, axis=1)\n",
        "\n",
        "    return context_vector, attention_weights\n"
      ],
      "execution_count": 0,
      "outputs": []
    },
    {
      "cell_type": "code",
      "metadata": {
        "id": "S5X-4uf9Y0JK",
        "colab_type": "code",
        "outputId": "91b7e16a-e3c7-4d4c-be89-d1dcbd4298d1",
        "colab": {
          "base_uri": "https://localhost:8080/",
          "height": 51
        }
      },
      "source": [
        "attention_layer = BahdanauAttention(10)\n",
        "attention_result, attention_weights = attention_layer(sample_hidden, sample_output)\n",
        "\n",
        "print(\"Attention result shape: (batch size, units) {}\".format(attention_result.shape))\n",
        "print(\"Attention weights shape: (batch_size, sequence_length, 1) {}\".format(attention_weights.shape))\n"
      ],
      "execution_count": 21,
      "outputs": [
        {
          "output_type": "stream",
          "text": [
            "Attention result shape: (batch size, units) (128, 256)\n",
            "Attention weights shape: (batch_size, sequence_length, 1) (128, 20, 1)\n"
          ],
          "name": "stdout"
        }
      ]
    },
    {
      "cell_type": "markdown",
      "metadata": {
        "id": "ZZ68jkjCY_21",
        "colab_type": "text"
      },
      "source": [
        "##### Decoder"
      ]
    },
    {
      "cell_type": "code",
      "metadata": {
        "id": "_K32cBn4Y53J",
        "colab_type": "code",
        "colab": {}
      },
      "source": [
        "class Decoder(tf.keras.Model):\n",
        "  def __init__(self, vocab_size, embedding_dim, dec_units, batch_sz):\n",
        "    super(Decoder, self).__init__()\n",
        "    self.batch_sz = batch_sz\n",
        "    self.dec_units = dec_units\n",
        "    self.embedding = tf.keras.layers.Embedding(vocab_size, embedding_dim)\n",
        "    self.gru = tf.keras.layers.GRU(self.dec_units,\n",
        "                                   return_sequences=True,\n",
        "                                   return_state=True,\n",
        "                                   recurrent_initializer='glorot_uniform')\n",
        "    self.fc = tf.keras.layers.Dense(vocab_size)\n",
        "\n",
        "    # used for attention\n",
        "    self.attention = BahdanauAttention(self.dec_units)\n",
        "\n",
        "  def call(self, x, hidden, enc_output):\n",
        "    # enc_output shape == (batch_size, max_length, hidden_size)\n",
        "    context_vector, attention_weights = self.attention(hidden, enc_output)\n",
        "\n",
        "    # x shape after passing through embedding == (batch_size, 1, embedding_dim)\n",
        "    x = self.embedding(x)\n",
        "\n",
        "    # x shape after concatenation == (batch_size, 1, embedding_dim + hidden_size)\n",
        "    x = tf.concat([tf.expand_dims(context_vector, 1), x], axis=-1)\n",
        "\n",
        "    # passing the concatenated vector to the GRU\n",
        "    output, state = self.gru(x)\n",
        "\n",
        "    # output shape == (batch_size * 1, hidden_size)\n",
        "    output = tf.reshape(output, (-1, output.shape[2]))\n",
        "\n",
        "    # output shape == (batch_size, vocab)\n",
        "    x = self.fc(output)\n",
        "\n",
        "    return x, state, attention_weights"
      ],
      "execution_count": 0,
      "outputs": []
    },
    {
      "cell_type": "code",
      "metadata": {
        "id": "oUiTj1-LY9Ud",
        "colab_type": "code",
        "outputId": "32cb9112-597b-4898-d6fc-7a8703e6b8f2",
        "colab": {
          "base_uri": "https://localhost:8080/",
          "height": 34
        }
      },
      "source": [
        "decoder = Decoder(vocab_tar_size, embedding_dim, units, BATCH_SIZE)\n",
        "\n",
        "sample_decoder_output, _, _ = decoder(tf.random.uniform((BATCH_SIZE, 1)),\n",
        "                                      sample_hidden, sample_output)\n",
        "\n",
        "print ('Decoder output shape: (batch_size, vocab size) {}'.format(sample_decoder_output.shape))\n"
      ],
      "execution_count": 23,
      "outputs": [
        {
          "output_type": "stream",
          "text": [
            "Decoder output shape: (batch_size, vocab size) (128, 31499)\n"
          ],
          "name": "stdout"
        }
      ]
    },
    {
      "cell_type": "markdown",
      "metadata": {
        "id": "7_IqfjoFdU1F",
        "colab_type": "text"
      },
      "source": [
        "##### Optimizer and Loss function"
      ]
    },
    {
      "cell_type": "code",
      "metadata": {
        "id": "EpC4Y6sqdRZ9",
        "colab_type": "code",
        "colab": {}
      },
      "source": [
        "optimizer = tf.keras.optimizers.Adam()\n",
        "loss_object = tf.keras.losses.SparseCategoricalCrossentropy(\n",
        "    from_logits=True, reduction='none')\n",
        "\n",
        "def loss_function(real, pred):\n",
        "  mask = tf.math.logical_not(tf.math.equal(real, 0))\n",
        "  loss_ = loss_object(real, pred)\n",
        "\n",
        "  mask = tf.cast(mask, dtype=loss_.dtype)\n",
        "  loss_ *= mask\n",
        "\n",
        "  return tf.reduce_mean(loss_)"
      ],
      "execution_count": 0,
      "outputs": []
    },
    {
      "cell_type": "code",
      "metadata": {
        "id": "1T6cZBD5ddJc",
        "colab_type": "code",
        "colab": {}
      },
      "source": [
        "checkpoint_dir = './training_checkpoints'\n",
        "checkpoint_prefix = os.path.join(checkpoint_dir, \"ckpt\")\n",
        "checkpoint = tf.train.Checkpoint(optimizer=optimizer,\n",
        "                                 encoder=encoder,\n",
        "                                 decoder=decoder)"
      ],
      "execution_count": 0,
      "outputs": []
    },
    {
      "cell_type": "code",
      "metadata": {
        "id": "53ESgsLqdnT2",
        "colab_type": "code",
        "colab": {}
      },
      "source": [
        "@tf.function\n",
        "def train_step(inp, targ, enc_hidden):\n",
        "  loss = 0\n",
        "\n",
        "  with tf.GradientTape() as tape:\n",
        "    enc_output, enc_hidden = encoder(inp, enc_hidden)\n",
        "\n",
        "    dec_hidden = enc_hidden\n",
        "\n",
        "    dec_input = tf.expand_dims([english_tokenizer.word_index['<sos>']] * BATCH_SIZE, 1)\n",
        "\n",
        "    # Teacher forcing - feeding the target as the next input\n",
        "    for t in range(1, targ.shape[1]):\n",
        "      # passing enc_output to the decoder\n",
        "      predictions, dec_hidden, _ = decoder(dec_input, dec_hidden, enc_output)\n",
        "\n",
        "      loss += loss_function(targ[:, t], predictions)\n",
        "\n",
        "      # using teacher forcing\n",
        "      dec_input = tf.expand_dims(targ[:, t], 1)\n",
        "\n",
        "  batch_loss = (loss / int(targ.shape[1]))\n",
        "\n",
        "  variables = encoder.trainable_variables + decoder.trainable_variables\n",
        "\n",
        "  gradients = tape.gradient(loss, variables)\n",
        "\n",
        "  optimizer.apply_gradients(zip(gradients, variables))\n",
        "\n",
        "  return batch_loss\n"
      ],
      "execution_count": 0,
      "outputs": []
    },
    {
      "cell_type": "code",
      "metadata": {
        "id": "jcgIqP0Idxtx",
        "colab_type": "code",
        "outputId": "41205d52-a2a8-4367-cc37-1b2f5976dc42",
        "colab": {
          "base_uri": "https://localhost:8080/",
          "height": 1000
        }
      },
      "source": [
        "EPOCHS = 50\n",
        "\n",
        "for epoch in range(EPOCHS):\n",
        "  start = time.time()\n",
        "\n",
        "  enc_hidden = encoder.initialize_hidden_state()\n",
        "  total_loss = 0\n",
        "\n",
        "  for (batch, (inp, targ)) in enumerate(dataset.take(steps_per_epoch)):\n",
        "    batch_loss = train_step(inp, targ, enc_hidden)\n",
        "    total_loss += batch_loss\n",
        "\n",
        "    if batch % 100 == 0:\n",
        "      print('Epoch {} Batch {} Loss {:.4f}'.format(epoch + 1,\n",
        "                                                   batch,\n",
        "                                                   batch_loss.numpy()))\n",
        "  # saving (checkpoint) the model every 2 epochs\n",
        "  if (epoch + 1) % 2 == 0:\n",
        "    checkpoint.save(file_prefix = checkpoint_prefix)\n",
        "\n",
        "  print('Epoch {} Loss {:.4f}'.format(epoch + 1,\n",
        "                                      total_loss / steps_per_epoch))\n",
        "  print('Time taken for 1 epoch {} sec\\n'.format(time.time() - start))\n"
      ],
      "execution_count": 27,
      "outputs": [
        {
          "output_type": "stream",
          "text": [
            "Epoch 1 Batch 0 Loss 8.7125\n",
            "Epoch 1 Batch 100 Loss 5.4643\n",
            "Epoch 1 Batch 200 Loss 5.2602\n",
            "Epoch 1 Loss 5.6012\n",
            "Time taken for 1 epoch 57.65885019302368 sec\n",
            "\n",
            "Epoch 2 Batch 0 Loss 5.0619\n",
            "Epoch 2 Batch 100 Loss 5.1858\n",
            "Epoch 2 Batch 200 Loss 5.1705\n",
            "Epoch 2 Loss 5.0896\n",
            "Time taken for 1 epoch 44.76539373397827 sec\n",
            "\n",
            "Epoch 3 Batch 0 Loss 5.0041\n",
            "Epoch 3 Batch 100 Loss 4.8031\n",
            "Epoch 3 Batch 200 Loss 5.0042\n",
            "Epoch 3 Loss 4.9148\n",
            "Time taken for 1 epoch 44.01672983169556 sec\n",
            "\n",
            "Epoch 4 Batch 0 Loss 4.6473\n",
            "Epoch 4 Batch 100 Loss 4.8342\n",
            "Epoch 4 Batch 200 Loss 4.8680\n",
            "Epoch 4 Loss 4.7452\n",
            "Time taken for 1 epoch 44.805314779281616 sec\n",
            "\n",
            "Epoch 5 Batch 0 Loss 4.7654\n",
            "Epoch 5 Batch 100 Loss 4.4405\n",
            "Epoch 5 Batch 200 Loss 4.6839\n",
            "Epoch 5 Loss 4.5631\n",
            "Time taken for 1 epoch 43.9192681312561 sec\n",
            "\n",
            "Epoch 6 Batch 0 Loss 4.2292\n",
            "Epoch 6 Batch 100 Loss 4.3341\n",
            "Epoch 6 Batch 200 Loss 4.5045\n",
            "Epoch 6 Loss 4.3744\n",
            "Time taken for 1 epoch 44.525781869888306 sec\n",
            "\n",
            "Epoch 7 Batch 0 Loss 4.1684\n",
            "Epoch 7 Batch 100 Loss 4.1811\n",
            "Epoch 7 Batch 200 Loss 4.1297\n",
            "Epoch 7 Loss 4.1897\n",
            "Time taken for 1 epoch 43.87081241607666 sec\n",
            "\n",
            "Epoch 8 Batch 0 Loss 4.1370\n",
            "Epoch 8 Batch 100 Loss 4.0559\n",
            "Epoch 8 Batch 200 Loss 4.1358\n",
            "Epoch 8 Loss 4.0180\n",
            "Time taken for 1 epoch 44.750006675720215 sec\n",
            "\n",
            "Epoch 9 Batch 0 Loss 3.7891\n",
            "Epoch 9 Batch 100 Loss 3.8010\n",
            "Epoch 9 Batch 200 Loss 3.8601\n",
            "Epoch 9 Loss 3.8576\n",
            "Time taken for 1 epoch 43.90609884262085 sec\n",
            "\n",
            "Epoch 10 Batch 0 Loss 3.7084\n",
            "Epoch 10 Batch 100 Loss 3.9003\n",
            "Epoch 10 Batch 200 Loss 3.8044\n",
            "Epoch 10 Loss 3.7019\n",
            "Time taken for 1 epoch 44.58820581436157 sec\n",
            "\n",
            "Epoch 11 Batch 0 Loss 3.4094\n",
            "Epoch 11 Batch 100 Loss 3.6228\n",
            "Epoch 11 Batch 200 Loss 3.6469\n",
            "Epoch 11 Loss 3.5456\n",
            "Time taken for 1 epoch 44.11927556991577 sec\n",
            "\n",
            "Epoch 12 Batch 0 Loss 3.2806\n",
            "Epoch 12 Batch 100 Loss 3.4910\n",
            "Epoch 12 Batch 200 Loss 3.3535\n",
            "Epoch 12 Loss 3.3931\n",
            "Time taken for 1 epoch 44.52828001976013 sec\n",
            "\n",
            "Epoch 13 Batch 0 Loss 3.3106\n",
            "Epoch 13 Batch 100 Loss 3.3312\n",
            "Epoch 13 Batch 200 Loss 3.2105\n",
            "Epoch 13 Loss 3.2486\n",
            "Time taken for 1 epoch 44.15247631072998 sec\n",
            "\n",
            "Epoch 14 Batch 0 Loss 3.1873\n",
            "Epoch 14 Batch 100 Loss 3.0624\n",
            "Epoch 14 Batch 200 Loss 3.1947\n",
            "Epoch 14 Loss 3.1068\n",
            "Time taken for 1 epoch 44.52975296974182 sec\n",
            "\n",
            "Epoch 15 Batch 0 Loss 3.0364\n",
            "Epoch 15 Batch 100 Loss 2.8923\n",
            "Epoch 15 Batch 200 Loss 3.0346\n",
            "Epoch 15 Loss 2.9720\n",
            "Time taken for 1 epoch 43.96260476112366 sec\n",
            "\n",
            "Epoch 16 Batch 0 Loss 2.7023\n",
            "Epoch 16 Batch 100 Loss 2.9301\n",
            "Epoch 16 Batch 200 Loss 2.9624\n",
            "Epoch 16 Loss 2.8390\n",
            "Time taken for 1 epoch 44.429760217666626 sec\n",
            "\n",
            "Epoch 17 Batch 0 Loss 2.4024\n",
            "Epoch 17 Batch 100 Loss 2.8680\n",
            "Epoch 17 Batch 200 Loss 2.7261\n",
            "Epoch 17 Loss 2.7116\n",
            "Time taken for 1 epoch 43.866525650024414 sec\n",
            "\n",
            "Epoch 18 Batch 0 Loss 2.4877\n",
            "Epoch 18 Batch 100 Loss 2.6854\n",
            "Epoch 18 Batch 200 Loss 2.4351\n",
            "Epoch 18 Loss 2.5906\n",
            "Time taken for 1 epoch 44.54591464996338 sec\n",
            "\n",
            "Epoch 19 Batch 0 Loss 2.4359\n",
            "Epoch 19 Batch 100 Loss 2.3476\n",
            "Epoch 19 Batch 200 Loss 2.4508\n",
            "Epoch 19 Loss 2.4733\n",
            "Time taken for 1 epoch 43.756030559539795 sec\n",
            "\n",
            "Epoch 20 Batch 0 Loss 2.2991\n",
            "Epoch 20 Batch 100 Loss 2.5497\n",
            "Epoch 20 Batch 200 Loss 2.4408\n",
            "Epoch 20 Loss 2.3575\n",
            "Time taken for 1 epoch 44.2156195640564 sec\n",
            "\n",
            "Epoch 21 Batch 0 Loss 2.1429\n",
            "Epoch 21 Batch 100 Loss 2.0498\n",
            "Epoch 21 Batch 200 Loss 2.2219\n",
            "Epoch 21 Loss 2.2447\n",
            "Time taken for 1 epoch 43.73931527137756 sec\n",
            "\n",
            "Epoch 22 Batch 0 Loss 2.1664\n",
            "Epoch 22 Batch 100 Loss 2.2440\n",
            "Epoch 22 Batch 200 Loss 2.0930\n",
            "Epoch 22 Loss 2.1419\n",
            "Time taken for 1 epoch 44.360905170440674 sec\n",
            "\n",
            "Epoch 23 Batch 0 Loss 1.9876\n",
            "Epoch 23 Batch 100 Loss 2.0310\n",
            "Epoch 23 Batch 200 Loss 2.0669\n",
            "Epoch 23 Loss 2.0406\n",
            "Time taken for 1 epoch 43.81155037879944 sec\n",
            "\n",
            "Epoch 24 Batch 0 Loss 1.9349\n",
            "Epoch 24 Batch 100 Loss 1.9983\n",
            "Epoch 24 Batch 200 Loss 2.0337\n",
            "Epoch 24 Loss 1.9464\n",
            "Time taken for 1 epoch 44.17371940612793 sec\n",
            "\n",
            "Epoch 25 Batch 0 Loss 1.9525\n",
            "Epoch 25 Batch 100 Loss 1.9044\n",
            "Epoch 25 Batch 200 Loss 1.8406\n",
            "Epoch 25 Loss 1.8579\n",
            "Time taken for 1 epoch 43.82977366447449 sec\n",
            "\n",
            "Epoch 26 Batch 0 Loss 1.8507\n",
            "Epoch 26 Batch 100 Loss 1.7607\n",
            "Epoch 26 Batch 200 Loss 1.8363\n",
            "Epoch 26 Loss 1.7707\n",
            "Time taken for 1 epoch 44.57809257507324 sec\n",
            "\n",
            "Epoch 27 Batch 0 Loss 1.5953\n",
            "Epoch 27 Batch 100 Loss 1.7394\n",
            "Epoch 27 Batch 200 Loss 1.5989\n",
            "Epoch 27 Loss 1.6929\n",
            "Time taken for 1 epoch 43.80592608451843 sec\n",
            "\n",
            "Epoch 28 Batch 0 Loss 1.5522\n",
            "Epoch 28 Batch 100 Loss 1.5389\n",
            "Epoch 28 Batch 200 Loss 1.7189\n",
            "Epoch 28 Loss 1.6126\n",
            "Time taken for 1 epoch 44.29312467575073 sec\n",
            "\n",
            "Epoch 29 Batch 0 Loss 1.5051\n",
            "Epoch 29 Batch 100 Loss 1.5317\n",
            "Epoch 29 Batch 200 Loss 1.6923\n",
            "Epoch 29 Loss 1.5333\n",
            "Time taken for 1 epoch 43.66888785362244 sec\n",
            "\n",
            "Epoch 30 Batch 0 Loss 1.3832\n",
            "Epoch 30 Batch 100 Loss 1.4335\n",
            "Epoch 30 Batch 200 Loss 1.4289\n",
            "Epoch 30 Loss 1.4613\n",
            "Time taken for 1 epoch 44.49472522735596 sec\n",
            "\n",
            "Epoch 31 Batch 0 Loss 1.4027\n",
            "Epoch 31 Batch 100 Loss 1.4753\n",
            "Epoch 31 Batch 200 Loss 1.4289\n",
            "Epoch 31 Loss 1.3986\n",
            "Time taken for 1 epoch 43.52339506149292 sec\n",
            "\n",
            "Epoch 32 Batch 0 Loss 1.3267\n",
            "Epoch 32 Batch 100 Loss 1.2995\n",
            "Epoch 32 Batch 200 Loss 1.3525\n",
            "Epoch 32 Loss 1.3303\n",
            "Time taken for 1 epoch 44.38127398490906 sec\n",
            "\n",
            "Epoch 33 Batch 0 Loss 1.1818\n",
            "Epoch 33 Batch 100 Loss 1.2259\n",
            "Epoch 33 Batch 200 Loss 1.3175\n",
            "Epoch 33 Loss 1.2692\n",
            "Time taken for 1 epoch 44.37162160873413 sec\n",
            "\n",
            "Epoch 34 Batch 0 Loss 1.2594\n",
            "Epoch 34 Batch 100 Loss 1.2254\n",
            "Epoch 34 Batch 200 Loss 1.1290\n",
            "Epoch 34 Loss 1.2142\n",
            "Time taken for 1 epoch 44.88042235374451 sec\n",
            "\n",
            "Epoch 35 Batch 0 Loss 1.0524\n",
            "Epoch 35 Batch 100 Loss 1.1188\n",
            "Epoch 35 Batch 200 Loss 1.0731\n",
            "Epoch 35 Loss 1.1576\n",
            "Time taken for 1 epoch 44.30780816078186 sec\n",
            "\n",
            "Epoch 36 Batch 0 Loss 1.1205\n",
            "Epoch 36 Batch 100 Loss 1.1577\n",
            "Epoch 36 Batch 200 Loss 1.1105\n",
            "Epoch 36 Loss 1.1036\n",
            "Time taken for 1 epoch 44.89970541000366 sec\n",
            "\n",
            "Epoch 37 Batch 0 Loss 0.9427\n",
            "Epoch 37 Batch 100 Loss 1.0595\n",
            "Epoch 37 Batch 200 Loss 1.0458\n",
            "Epoch 37 Loss 1.0586\n",
            "Time taken for 1 epoch 44.31629467010498 sec\n",
            "\n",
            "Epoch 38 Batch 0 Loss 1.0200\n",
            "Epoch 38 Batch 100 Loss 1.0245\n",
            "Epoch 38 Batch 200 Loss 0.9884\n",
            "Epoch 38 Loss 1.0158\n",
            "Time taken for 1 epoch 44.794398069381714 sec\n",
            "\n",
            "Epoch 39 Batch 0 Loss 0.8911\n",
            "Epoch 39 Batch 100 Loss 0.8788\n",
            "Epoch 39 Batch 200 Loss 0.9834\n",
            "Epoch 39 Loss 0.9696\n",
            "Time taken for 1 epoch 43.958369731903076 sec\n",
            "\n",
            "Epoch 40 Batch 0 Loss 0.8632\n",
            "Epoch 40 Batch 100 Loss 1.0052\n",
            "Epoch 40 Batch 200 Loss 0.9663\n",
            "Epoch 40 Loss 0.9207\n",
            "Time taken for 1 epoch 44.2294716835022 sec\n",
            "\n",
            "Epoch 41 Batch 0 Loss 0.8326\n",
            "Epoch 41 Batch 100 Loss 0.8081\n",
            "Epoch 41 Batch 200 Loss 0.8827\n",
            "Epoch 41 Loss 0.8834\n",
            "Time taken for 1 epoch 43.75664186477661 sec\n",
            "\n",
            "Epoch 42 Batch 0 Loss 0.7484\n",
            "Epoch 42 Batch 100 Loss 0.8476\n",
            "Epoch 42 Batch 200 Loss 0.8784\n",
            "Epoch 42 Loss 0.8427\n",
            "Time taken for 1 epoch 44.28631901741028 sec\n",
            "\n",
            "Epoch 43 Batch 0 Loss 0.6912\n",
            "Epoch 43 Batch 100 Loss 0.8016\n",
            "Epoch 43 Batch 200 Loss 0.7647\n",
            "Epoch 43 Loss 0.8005\n",
            "Time taken for 1 epoch 43.792248010635376 sec\n",
            "\n",
            "Epoch 44 Batch 0 Loss 0.6604\n",
            "Epoch 44 Batch 100 Loss 0.7614\n",
            "Epoch 44 Batch 200 Loss 0.7207\n",
            "Epoch 44 Loss 0.7684\n",
            "Time taken for 1 epoch 44.36568999290466 sec\n",
            "\n",
            "Epoch 45 Batch 0 Loss 0.6756\n",
            "Epoch 45 Batch 100 Loss 0.7603\n",
            "Epoch 45 Batch 200 Loss 0.7873\n",
            "Epoch 45 Loss 0.7382\n",
            "Time taken for 1 epoch 43.67707371711731 sec\n",
            "\n",
            "Epoch 46 Batch 0 Loss 0.5414\n",
            "Epoch 46 Batch 100 Loss 0.7212\n",
            "Epoch 46 Batch 200 Loss 0.6845\n",
            "Epoch 46 Loss 0.7058\n",
            "Time taken for 1 epoch 44.42211151123047 sec\n",
            "\n",
            "Epoch 47 Batch 0 Loss 0.5540\n",
            "Epoch 47 Batch 100 Loss 0.7854\n",
            "Epoch 47 Batch 200 Loss 0.6991\n",
            "Epoch 47 Loss 0.6974\n",
            "Time taken for 1 epoch 43.714417457580566 sec\n",
            "\n",
            "Epoch 48 Batch 0 Loss 0.6135\n",
            "Epoch 48 Batch 100 Loss 0.6253\n",
            "Epoch 48 Batch 200 Loss 0.6029\n",
            "Epoch 48 Loss 0.6483\n",
            "Time taken for 1 epoch 44.47843909263611 sec\n",
            "\n",
            "Epoch 49 Batch 0 Loss 0.6339\n",
            "Epoch 49 Batch 100 Loss 0.5847\n",
            "Epoch 49 Batch 200 Loss 0.6475\n",
            "Epoch 49 Loss 0.6064\n",
            "Time taken for 1 epoch 43.67680215835571 sec\n",
            "\n",
            "Epoch 50 Batch 0 Loss 0.5178\n",
            "Epoch 50 Batch 100 Loss 0.5705\n",
            "Epoch 50 Batch 200 Loss 0.5064\n",
            "Epoch 50 Loss 0.5814\n",
            "Time taken for 1 epoch 44.329036474227905 sec\n",
            "\n"
          ],
          "name": "stdout"
        }
      ]
    },
    {
      "cell_type": "code",
      "metadata": {
        "id": "HC6mam_ixE-d",
        "colab_type": "code",
        "outputId": "4f9f0416-ae0d-4fac-f327-7d79691c3651",
        "colab": {
          "base_uri": "https://localhost:8080/",
          "height": 35
        }
      },
      "source": [
        "max_english_sequence_length"
      ],
      "execution_count": 0,
      "outputs": [
        {
          "output_type": "execute_result",
          "data": {
            "text/plain": [
              "70"
            ]
          },
          "metadata": {
            "tags": []
          },
          "execution_count": 179
        }
      ]
    },
    {
      "cell_type": "code",
      "metadata": {
        "id": "IwzVXDxywfCI",
        "colab_type": "code",
        "colab": {}
      },
      "source": [
        "def evaluate(sentence):\n",
        "  #attention_plot = np.zeros((max_english_sequence_length, max_vietnamese_sequence_length))\n",
        "\n",
        "  sentence = normalizeString(sentence)\n",
        "\n",
        "  inputs = [vietnamese_tokenizer.word_index[i] for i in sentence.split(' ')]\n",
        "  inputs = tf.keras.preprocessing.sequence.pad_sequences([inputs],\n",
        "                                                         maxlen= max_vietnamese_sequence_length,\n",
        "                                                         padding='post')\n",
        "  inputs = tf.convert_to_tensor(inputs)\n",
        "\n",
        "  result = ''\n",
        "\n",
        "  hidden = [tf.zeros((1, units))]\n",
        "  enc_out, enc_hidden = encoder(inputs, hidden)\n",
        "\n",
        "  dec_hidden = enc_hidden\n",
        "  dec_input = tf.expand_dims([english_tokenizer.word_index['<sos>']], 0)\n",
        "\n",
        "  for t in range(max_english_sequence_length):\n",
        "    predictions, dec_hidden, attention_weights = decoder(dec_input,\n",
        "                                                         dec_hidden,\n",
        "                                                         enc_out)\n",
        "\n",
        "    attention_weights = tf.reshape(attention_weights, (-1, ))\n",
        "    #attention_plot[t] = attention_weights.numpy()\n",
        "\n",
        "    predicted_id = tf.argmax(predictions[0]).numpy()\n",
        "\n",
        "    result += english_tokenizer.index_word[predicted_id] + ' '\n",
        "\n",
        "    if english_tokenizer.index_word[predicted_id] == '<eos>':\n",
        "      return result, sentence #, attention_plot\n",
        "\n",
        "    # the predicted ID is fed back into the model\n",
        "    dec_input = tf.expand_dims([predicted_id], 0)\n",
        "\n",
        "  return result, sentence #, attention_plot"
      ],
      "execution_count": 0,
      "outputs": []
    },
    {
      "cell_type": "code",
      "metadata": {
        "id": "2B6NiDD46ra5",
        "colab_type": "code",
        "colab": {}
      },
      "source": [
        "def translate(sentence):\n",
        "  result, sentence = evaluate(sentence)\n",
        "\n",
        "  print('Input: %s' % (sentence))\n",
        "  print('Predicted translation: {}'.format(result))"
      ],
      "execution_count": 0,
      "outputs": []
    },
    {
      "cell_type": "code",
      "metadata": {
        "id": "9gjlPye2KnJb",
        "colab_type": "code",
        "outputId": "ff26025f-d962-4264-8ec7-2d59f2c18032",
        "colab": {
          "base_uri": "https://localhost:8080/",
          "height": 51
        }
      },
      "source": [
        "translate('bản tin tiếng việt')"
      ],
      "execution_count": 39,
      "outputs": [
        {
          "output_type": "stream",
          "text": [
            "Input: <sos> bản tin tiếng việt <eos>\n",
            "Predicted translation: text news , vietnam <eos> \n"
          ],
          "name": "stdout"
        }
      ]
    },
    {
      "cell_type": "code",
      "metadata": {
        "id": "YveV0J5PnCXQ",
        "colab_type": "code",
        "outputId": "af1833ff-8665-41be-ab45-40c4e979528f",
        "colab": {
          "base_uri": "https://localhost:8080/",
          "height": 51
        }
      },
      "source": [
        "translate('tai')"
      ],
      "execution_count": 54,
      "outputs": [
        {
          "output_type": "stream",
          "text": [
            "Input: <sos> tai <eos>\n",
            "Predicted translation: ears <eos> \n"
          ],
          "name": "stdout"
        }
      ]
    },
    {
      "cell_type": "code",
      "metadata": {
        "id": "_9FQZFJLSTRs",
        "colab_type": "code",
        "outputId": "691cf6c2-1a0c-44bd-9cab-f240bcf41e1d",
        "colab": {
          "base_uri": "https://localhost:8080/",
          "height": 51
        }
      },
      "source": [
        "translate(' Hoa Kỳ')"
      ],
      "execution_count": 60,
      "outputs": [
        {
          "output_type": "stream",
          "text": [
            "Input: <sos> hoa kỳ <eos>\n",
            "Predicted translation: united states <eos> \n"
          ],
          "name": "stdout"
        }
      ]
    },
    {
      "cell_type": "code",
      "metadata": {
        "id": "lUAM1SDcr8W5",
        "colab_type": "code",
        "colab": {
          "base_uri": "https://localhost:8080/",
          "height": 51
        },
        "outputId": "383f166a-da84-445f-b4a0-9ca45fb4be41"
      },
      "source": [
        "translate('Tôi đang ăn')"
      ],
      "execution_count": 61,
      "outputs": [
        {
          "output_type": "stream",
          "text": [
            "Input: <sos> tôi đang ăn <eos>\n",
            "Predicted translation: i 'm eating <eos> \n"
          ],
          "name": "stdout"
        }
      ]
    },
    {
      "cell_type": "code",
      "metadata": {
        "id": "7pqV-mLqn06G",
        "colab_type": "code",
        "colab": {}
      },
      "source": [
        ""
      ],
      "execution_count": 0,
      "outputs": []
    }
  ]
}