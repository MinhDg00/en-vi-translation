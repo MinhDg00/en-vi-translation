{
  "nbformat": 4,
  "nbformat_minor": 0,
  "metadata": {
    "kernelspec": {
      "name": "python3",
      "display_name": "Python 3"
    },
    "language_info": {
      "codemirror_mode": {
        "name": "ipython",
        "version": 3
      },
      "file_extension": ".py",
      "mimetype": "text/x-python",
      "name": "python",
      "nbconvert_exporter": "python",
      "pygments_lexer": "ipython3",
      "version": "3.7.3"
    },
    "colab": {
      "name": "en-vi translation.ipynb",
      "provenance": [],
      "include_colab_link": true
    },
    "accelerator": "GPU"
  },
  "cells": [
    {
      "cell_type": "markdown",
      "metadata": {
        "id": "view-in-github",
        "colab_type": "text"
      },
      "source": [
        "<a href=\"https://colab.research.google.com/github/MinhDg00/en-vi-translation/blob/master/en_vi_translation.ipynb\" target=\"_parent\"><img src=\"https://colab.research.google.com/assets/colab-badge.svg\" alt=\"Open In Colab\"/></a>"
      ]
    },
    {
      "cell_type": "markdown",
      "metadata": {
        "id": "Pp_ZaSpIyq3F",
        "colab_type": "text"
      },
      "source": [
        "# Machine Translation Eng-Viet"
      ]
    },
    {
      "cell_type": "markdown",
      "metadata": {
        "id": "D4GPfMSlyq3L",
        "colab_type": "text"
      },
      "source": [
        "The Project uses the EVBCorpus - a English and Vietnamese parallel translations and bitexts \n",
        "\n",
        "More information about the data can be found [here](https://github.com/qhungngo/EVBCorpus)"
      ]
    },
    {
      "cell_type": "markdown",
      "metadata": {
        "id": "NpK94oZeyq3M",
        "colab_type": "text"
      },
      "source": [
        "### Load Files and Create Dataset"
      ]
    },
    {
      "cell_type": "code",
      "metadata": {
        "id": "CMllmeOa3dkc",
        "colab_type": "code",
        "colab": {
          "base_uri": "https://localhost:8080/",
          "height": 34
        },
        "outputId": "5a51947f-3f3e-49cd-8d5d-af569c93e171"
      },
      "source": [
        "!pwd"
      ],
      "execution_count": 1,
      "outputs": [
        {
          "output_type": "stream",
          "text": [
            "/content\n"
          ],
          "name": "stdout"
        }
      ]
    },
    {
      "cell_type": "code",
      "metadata": {
        "id": "ZyxSr5UKyq3N",
        "colab_type": "code",
        "colab": {}
      },
      "source": [
        "# Packages for loading file\n",
        "import os\n",
        "from zipfile import ZipFile\n",
        "from bs4 import BeautifulSoup\n",
        "import re\n",
        "import glob\n",
        "import warnings\n",
        "warnings.filterwarnings('ignore')"
      ],
      "execution_count": 0,
      "outputs": []
    },
    {
      "cell_type": "code",
      "metadata": {
        "id": "zlUcSaGlyq3S",
        "colab_type": "code",
        "colab": {}
      },
      "source": [
        "# Set seed\n",
        "import numpy as np\n",
        "import random\n",
        "SEED = 46\n",
        "np.random.seed(SEED)\n",
        "random.seed(SEED)"
      ],
      "execution_count": 0,
      "outputs": []
    },
    {
      "cell_type": "code",
      "metadata": {
        "id": "tUQqFBr-2K0M",
        "colab_type": "code",
        "colab": {}
      },
      "source": [
        "with ZipFile('data.zip', 'r') as data:\n",
        "   # Extract all the contents of zip file in current directory\n",
        "   data.extractall()"
      ],
      "execution_count": 0,
      "outputs": []
    },
    {
      "cell_type": "code",
      "metadata": {
        "id": "C6XYTLQnyq3X",
        "colab_type": "code",
        "colab": {}
      },
      "source": [
        "data = []\n",
        "path = 'data/*.sgml'\n",
        "files = glob.glob(path)\n",
        "for file in files:\n",
        "    data.append(BeautifulSoup(open(file), 'lxml'))"
      ],
      "execution_count": 0,
      "outputs": []
    },
    {
      "cell_type": "code",
      "metadata": {
        "id": "0k46Py9kyq3d",
        "colab_type": "code",
        "colab": {}
      },
      "source": [
        "# Create 2 list contains english and vietnamese texts\n",
        "english_sentences = []\n",
        "vietnamese_sentences = []\n",
        "for d in data:\n",
        "    i = 0\n",
        "    for text in d.find_all('s'):\n",
        "        if i%2 == 0:\n",
        "            english_sentences.append(text.text)\n",
        "        else:\n",
        "            vietnamese_sentences.append(text.text)\n",
        "        i += 1 "
      ],
      "execution_count": 0,
      "outputs": []
    },
    {
      "cell_type": "code",
      "metadata": {
        "id": "UKcRCH4yyq3h",
        "colab_type": "code",
        "colab": {
          "base_uri": "https://localhost:8080/",
          "height": 51
        },
        "outputId": "ce478b44-d2a7-4655-8be0-94675966a820"
      },
      "source": [
        "print(vietnamese_sentences[0])\n",
        "print(english_sentences[0])"
      ],
      "execution_count": 7,
      "outputs": [
        {
          "output_type": "stream",
          "text": [
            "ADN của ông Dominique Strauss-Kahn \" có dính líu đến cô phục vụ phòng \"\n",
            "Dominique Strauss-Kahn DNA \" linked to maid \"\n"
          ],
          "name": "stdout"
        }
      ]
    },
    {
      "cell_type": "markdown",
      "metadata": {
        "id": "2FTegguKyq3n",
        "colab_type": "text"
      },
      "source": [
        "### Vocabulary"
      ]
    },
    {
      "cell_type": "code",
      "metadata": {
        "id": "69D_78WMyq3p",
        "colab_type": "code",
        "colab": {}
      },
      "source": [
        "# Create a counter\n",
        "import collections\n",
        "\n",
        "english_words_counter = collections.Counter([word for sentence in english_sentences for word in sentence.split()])\n",
        "vietnamese_words_counter = collections.Counter([word for sentence in vietnamese_sentences for word in sentence.split()])"
      ],
      "execution_count": 0,
      "outputs": []
    },
    {
      "cell_type": "code",
      "metadata": {
        "id": "fdDLRiDoyq3u",
        "colab_type": "code",
        "colab": {
          "base_uri": "https://localhost:8080/",
          "height": 85
        },
        "outputId": "c612c461-25bf-40a8-97ce-9e53b37d31dd"
      },
      "source": [
        "# Inverstigate unique and most common words in both texts\n",
        "print('{} English words.'.format(len([word for sentence in english_sentences for word in sentence.split()])))\n",
        "print('{} unique English words.'.format(len(english_words_counter)))\n",
        "print('10 Most common words in the English dataset:')\n",
        "print('\"' + '\" \"'.join(list(zip(*english_words_counter.most_common(10)))[0]) + '\"')\n"
      ],
      "execution_count": 9,
      "outputs": [
        {
          "output_type": "stream",
          "text": [
            "880216 English words.\n",
            "40903 unique English words.\n",
            "10 Most common words in the English dataset:\n",
            "\".\" \",\" \"the\" \"to\" \"of\" \"and\" \"a\" \"in\" \"\"\" \"is\"\n"
          ],
          "name": "stdout"
        }
      ]
    },
    {
      "cell_type": "code",
      "metadata": {
        "id": "uuAOLl-1yq3y",
        "colab_type": "code",
        "colab": {
          "base_uri": "https://localhost:8080/",
          "height": 85
        },
        "outputId": "4804413c-5a99-49a5-e39c-609b7a10fe91"
      },
      "source": [
        "print('{} Vietnamese words.'.format(len([word for sentence in vietnamese_sentences for word in sentence.split()])))\n",
        "print('{} unique French words.'.format(len(vietnamese_sentences)))\n",
        "print('10 Most common words in the Vietnamese dataset:')\n",
        "print('\"' + '\" \"'.join(list(zip(*vietnamese_words_counter.most_common(10)))[0]) + '\"')"
      ],
      "execution_count": 10,
      "outputs": [
        {
          "output_type": "stream",
          "text": [
            "1201737 Vietnamese words.\n",
            "45308 unique French words.\n",
            "10 Most common words in the Vietnamese dataset:\n",
            "\".\" \",\" \"và\" \"có\" \"của\" \"là\" \"một\" \"\"\" \"cho\" \"các\"\n"
          ],
          "name": "stdout"
        }
      ]
    },
    {
      "cell_type": "markdown",
      "metadata": {
        "id": "IQFFT8G12fa-",
        "colab_type": "text"
      },
      "source": [
        "###Sentiment Classification\n"
      ]
    },
    {
      "cell_type": "code",
      "metadata": {
        "id": "zWPpqnXqdqlH",
        "colab_type": "code",
        "colab": {}
      },
      "source": [
        "# install transformers and tensorflow if havent\n",
        "!pip install transformers==2.3.0\n",
        "!pip install tensorflow==2.1.0"
      ],
      "execution_count": 0,
      "outputs": []
    },
    {
      "cell_type": "code",
      "metadata": {
        "id": "Cg3p7f8T2X9M",
        "colab_type": "code",
        "colab": {}
      },
      "source": [
        "from transformers import pipeline\n",
        "import pandas as pd"
      ],
      "execution_count": 0,
      "outputs": []
    },
    {
      "cell_type": "code",
      "metadata": {
        "id": "7o8JU_7G2vkJ",
        "colab_type": "code",
        "colab": {}
      },
      "source": [
        "sentiment_classifier = pipeline('sentiment-analysis')"
      ],
      "execution_count": 0,
      "outputs": []
    },
    {
      "cell_type": "markdown",
      "metadata": {
        "id": "5qWht4LJKxBf",
        "colab_type": "text"
      },
      "source": [
        "We will only investigate the first 100 english sentences"
      ]
    },
    {
      "cell_type": "code",
      "metadata": {
        "id": "SION08LI3Nhn",
        "colab_type": "code",
        "colab": {}
      },
      "source": [
        "s = ([sentiment_classifier(sentence) for sentence in english_sentences[:100]])"
      ],
      "execution_count": 0,
      "outputs": []
    },
    {
      "cell_type": "code",
      "metadata": {
        "id": "xaTLxqIvK_qS",
        "colab_type": "code",
        "colab": {}
      },
      "source": [
        "sentiment_df = pd.DataFrame({'English_text':english_sentences[:100], 'Sentiment': s}, index = range(1,101))"
      ],
      "execution_count": 0,
      "outputs": []
    },
    {
      "cell_type": "code",
      "metadata": {
        "id": "rB57uUv5m1G6",
        "colab_type": "code",
        "colab": {
          "base_uri": "https://localhost:8080/",
          "height": 1000
        },
        "outputId": "e161680c-295d-4265-b184-98a7a297d42f"
      },
      "source": [
        "english_sentences"
      ],
      "execution_count": 67,
      "outputs": [
        {
          "output_type": "execute_result",
          "data": {
            "text/plain": [
              "['Dominique Strauss-Kahn DNA \" linked to maid \"',\n",
              " 'Dominique Strauss-Kahn is being held under house arrest in New York',\n",
              " 'DNA found on the clothes of a New York hotel maid who accused Dominique Strauss-Kahn of sexually assaulting her matches that of the former IMF chief , US media reports say .',\n",
              " 'These unconfirmed reports cited sources close to the investigation .',\n",
              " 'More tests from the room where the alleged attack took place are pending .',\n",
              " 'Mr Strauss-Kahn denies the charges , and resigned as head of the International Monetary Fund last week to defend himself .',\n",
              " 'He is under house arrest in a New York apartment , after a judge granted him a $ 1m ( £620,000 ) bail last week .',\n",
              " 'Further tests',\n",
              " 'Reports about the DNA samples came after authorities analysed the work clothes of the 32-year-old hotel maid who says she was assaulted in the New York Sofitel near Times Square on 14 May .',\n",
              " 'Police and judicial spokespeople have declined to confirm the reports , carried by the Associated Press and ABC News , among others .',\n",
              " 'Investigators are reported to be carrying out further tests on samples taken from the carpet and other surfaces in the hotel room .',\n",
              " 'Mr Strauss-Kahn is charged with seven counts including four felony charges - two of criminal sexual acts , one of attempted rape and one of sexual abuse - plus three misdemeanour offences , including unlawful imprisonment .',\n",
              " 'His accuser , an immigrant from the West African state of',\n",
              " 'Guinea , told authorities that Mr Strauss-Kahn had accosted her after she entered his hotel room to clean it .',\n",
              " \"Mr Strauss-Kahn 's defence team is expected to argue that a sexual encounter occurred , but that it was consensual .\",\n",
              " '\" The forensic evidence , we believe , will not be consistent with a forcible encounter \" , Mr Strauss-Kahn \\'s lawyer , Benjamin Brafman , has said .',\n",
              " 'Mr Strauss-Kahn , 62 , is due to enter a formal plea on 6 June .',\n",
              " 'He was seen as a leading candidate to be the next centre-left French presidential candidate until news of the accusations broke .',\n",
              " 'In France , the newspaper Le Monde reports that \" people close \" to President Nicolas Sarkozy knew more about the private life of Mr Strauss-Kahn than was publicly known .',\n",
              " 'The newspaper said those closest to Nicolas Sarkozy were touting information , leaked from a police report , that suggested Mr Strauss Kahn had been caught kerb-crawling in a known red light district in Paris .',\n",
              " 'Facebook expands IPO size , aims for $ 15 billion',\n",
              " \"Facebook Inc is increasing the size of its IPO by 85 million shares to about 422 million , a source familiar with the matter told Reuters , raising more than $ 15 billion in Silicon Valley 's largest market debut .\",\n",
              " \"The increased volume comes just after the world 's No. 1 social network hiked its price range to $ 34 to $ 38 a share , from $ 28 to $ 35 previously .\",\n",
              " 'Facebook had originally intended to sell about 337.4 million shares .',\n",
              " 'At a mid-point of $ 36 , the company would raise $ 15.2 billion in one of the largest U.S. initial public offerings ever .',\n",
              " 'Skype for Windows Phone Omits Key Features',\n",
              " 'A year after it bought Skype , Microsoft released a version of the popular Internet calling service for Windows Phone devices .',\n",
              " 'It is half baked .',\n",
              " 'Skype for Windows Phone shed its beta label this weekend , but even for enthusiastic users , the app could be a deal-breaker for its lack of backgrou n d calling ability and its incompatibility with lower-end handsets .',\n",
              " 'At first glance , Skype for Windows Phone works just like the iOS and Android clients .',\n",
              " 'You can make calls over 4G , 3G , and Wi-Fi ; make low-cost calls to landlines and mobiles using Skype credits ; or manage your contact list and chat with friends .',\n",
              " 'Using the Metro UI , Skype for Windows Phone looks very slick , too .',\n",
              " 'However , the app has a few drawbacks .',\n",
              " 'First , you need a Mango ( 7.5 ) Windows Phone with 512MB of RAM , which means the VoIP app works only with high-end devices on the platform .',\n",
              " \"Less expensive Tango ( 7.0 ) Windows Phones with 256MB of RAM , such as the Nokia Lumia 610 , ca n't run it .\",\n",
              " 'Skype for Windows Phone requires use of a Nokia Lumia 710 , 800 , or 900 ; an HTC Titan or Radar ; or a Samsung Focus S or Focus Flash .',\n",
              " \"Skype for Windows Phone 's biggest drawback is that it lacks the ability to receive calls in the background .\",\n",
              " \"If the Skype app is not in the foreground , or if you 're in another app , you wo n't be able to receive calls via the Skype app .\",\n",
              " 'To even answer a call , you need to have the app in the foreground .',\n",
              " 'It undermines the utility of the app .',\n",
              " 'This omission is especially apparent as rival service Tango Video Calls already offers this functionality on the platform .',\n",
              " 'A few smaller issues linger , too .',\n",
              " 'Bluetooth headsets are not yet supported for Skype calling on Windows Phones .',\n",
              " \"The app wo n't work if the phone is connected to a computer with the USB cable .\",\n",
              " 'With version 1.0 , Skype also says one of the known issues is that incoming calls , alarms , or low battery notifications may end a Skype call .',\n",
              " \"At last count , the Windows Phone Marketplace has more than 70,000 apps , still a far cry from Apple 's 500,000-strong App Store and Google 's 450,000 apps in Google Play ( formerly Android Market ) .\",\n",
              " \"While the launch of Skype for Windows Phone ticks another box on Microsoft 's list of popular apps missing from Windows Phone 7 while present on other plat forms , the first version of Skype for Windows Phone defeats its purpose of offering low-cost calling over the Internet , since the app does n't support low-end devices and you ca n't receive calls in the backgrou n d .\",\n",
              " 'Windows Phone 8 Screenshots Leak , Show Skype Integration and More',\n",
              " 'Microsoft is expected to show off Windows Phone 8 at a developer event next week , however , a few screenshots of the mobile operating system have leaked out a little early .',\n",
              " 'Acquired by Nokia Innovations , the screenshots show a new camera user interface for Windows Phone with a slider on the left side of the frame for zooming and a button for toggling between the front and rear-facing cameras .',\n",
              " 'The screenshots also show Windows Phone 8′s Skype integration .',\n",
              " 'Skype calls can be answered with or without video , and Skype is integrated into the People Hub , so you can dial a contact using Skype just as you might send a text message or place a traditional phone call .',\n",
              " 'A DataSmart feature also makes an appearance in the leaked photos .',\n",
              " \"The feature is expected to help you monitor data usage on the phone , giving up-to-the-minute stats on how much data you 've used and how many more days you have left in your billing cycle .\",\n",
              " 'A live tile on the home screen can also let you see at a glance where you stand as far as data usage is concerned and give you quick access to the DataSmart screen to see the bigger picture .',\n",
              " 'A final screenshot acquired by Nokia Innovations shows Nokia Drive 3.0 which is headed to Windows Phone .',\n",
              " 'The maps application shows shows traffic information as well as provides re-routing information if you miss your turn .',\n",
              " 'Microsoft is holding a Windows Phone Summit next Wednesday in San Francisco .',\n",
              " 'At the event it has promised , \" A sneak peek at the future of Windows Phone , \" a peek that will likely include some if not all of these features .',\n",
              " 'Windows Phone 8 is expected to add support for multi-core processors and four screen resolutions .',\n",
              " \"Two hardware limitations that are currently crippling Windows Phone 's ability to complete with the iPhone and Android devices .\",\n",
              " \"Near Field Communication ( NFC ) is also expected to come to the next generation of the OS , allowing Windows Phone 's to be used for things like contactless payments .\",\n",
              " 'Facebook use affects mood differently to stress and relaxation',\n",
              " \"Researchers measured people 's physical and psychological responses while they used Facebook , performed a stressful task , or just relaxed , and found each of these activities appears to have a different effect on mood and arousal .\",\n",
              " 'Dr. Maurizio Mauri of the Institute of Human , Language and Environmental Sciences at IULM University in Milan , Italy , and colleagues , write about their findings in the peer-reviewed journal Cyberpsychology , Behavior , and Social Networking .',\n",
              " 'A press statement on the study was released earlier this week .',\n",
              " 'In their background information , the researchers explain that few studies have tried to find out which aspects of the social networking experience makes sites like Facebook so successful , although it is known that their use can have both positive and negative effects .',\n",
              " 'For their study , they measured specific psychophysiological patterns in 30 healthy volunteers aged 19 to 25 during a three-minute exposure to each of three conditions : ( 1 ) while using Facebook ( via their own personal accounts ) , ( 2 ) while observing a slide show of natural landscapes ( a relaxation condition ) , or ( 3 ) while completing a Stroop test and mathematical task ( a stress condition ) .',\n",
              " 'The Stroop test is often used to create a stressful condition in experiments : you are rapidly given names of colours ( eg , RED , YELLOW , BLUE ) and you have to say not the name that is spelled out but the colour of the letters ( so if the word RED is written in blue , you have to say \" blue \" ) .',\n",
              " 'The measures included skin conductance , blood volume pulse , brainwave patterns ( using electroencephalograms ) , muscle activity ( using electromyography ) , breathing activity , and pupil dilation .',\n",
              " 'When they analyzed and compared the results , the researchers found that the pattern for Facebook use was significantly different to the patterns for stress and relaxation .',\n",
              " 'And more than this , they found that the biological signals for Facebook use correspond to what they describe as the \" Core Flow State \" , a fairly new concept , which is characterized by \" high positive valence and high arousal \" .',\n",
              " 'Core Flow is a concept that is only just beginning to be pinned down in terms of objective measurements .',\n",
              " 'Some researchers describe it as a state that people reach in which their skills are challenged and they are highly aroused and enjoying what they do .',\n",
              " 'Others say it is like a biological signal that makes people want to repeat their experience , and some studies have found flow is linked to quality of performance and quality of life .',\n",
              " 'In terms of the use of Facebook in this study , the researchers saw flow as \" an optimal experience \" that people appreciate and seek out .',\n",
              " 'While the experience of flow is subjective , they tentatively suggest it is characterized by \" positive valence and high arousal \" , which they attempted to assess with a cluster of measures that have been proposed in some previously unpublished studies .',\n",
              " 'The researchers conclude that their findings support the idea that the successful spread of social networking sites like Facebook might be linked to a specific cluster of positive emotional states that users experience when they use their accounts .',\n",
              " 'They suggest the study also helps to open up the new field of \" affective computing \" , which examines the emotional landscape of human-computer interactions .',\n",
              " 'According to comscore , social networking is the most popular online activity , reaching some 1.2 billion users worldwide ( 200 million more than email ) .',\n",
              " 'Nearly one in 5 minutes online is spent on social networking , and 75 % of that is on Facebook .',\n",
              " 'Banh chung Banh Day - A Vietnamese New Year Story for Tet',\n",
              " 'Long , long ago in Vietnam there lived an ancient King , his name was King Hung .',\n",
              " 'He was a wise and thoughtful king who always tried to please his people and consider new ideas and because of this he was loved by his people .',\n",
              " 'King Vuong grew old and he knew that soon it would be time to pass his kingdom on to his successor , the only trouble was the King Hung had three healthy sons and he did not know who would be the best choice to be King .',\n",
              " 'King Vuong being a wise and caring King thought very hard about this problem and in due course came upon a solution .',\n",
              " 'He called his three sons together and he rose up to his feet and declared ;',\n",
              " 'Sons you are all wise and strong but only one of you can rule our precious Vietnam .',\n",
              " 'So , I have devised a plan to determine which of you shall rule after my passing .',\n",
              " 'All of the members of the court and his three sons listening attentively because King Vuong was known to be the wisest ruler in the whole of Asia .',\n",
              " 'King Vuong continued ; \" I would like each of you to provide for me a dish of food , you must search for the ingredients and make the dish and serve it to me on the last day of this Lunar Month , and on the basis of this dish I will decide who is to be the ruler of our Kingdom . \"',\n",
              " \"Immediately the words had left this King 's mouth , the attendants at the court began to talk in whispers .\",\n",
              " 'They knew that this was a very wise pronouncement of their King because Vietnam with its large population and small land area must always give attention to food production to make sure that each person is well fed and healthy .',\n",
              " 'The three brothers stared in disbelief ; \" How could our father suggest such a method of deciding ? \" .',\n",
              " '\" Why does he not he test our computational skills ? \" said the second brother .',\n",
              " 'The third and youngest brother just looked at the court and his father and made no comment .',\n",
              " 'Within days the two elder brothers had organized their servants and carriages and were racing all over Vietnam and even to other parts of South East Asia to find the most delectable and delicious ingredients for the dish .',\n",
              " 'One brother took a boat out into the South China Sea to fish for the finest tasting fish , the other went into the Khmer Mountains to find the most tender boar meat .',\n",
              " \"Yet , Prince Tiet Lieu stayed at home and sat on his front step and pondered his father 's request .\",\n",
              " 'By the end of the Lunar Month each of the brothers had prepared their dishes and came before the whole of the Vietnamese royal court and their wise father King to present it .',\n",
              " 'The first brother presented a fine porcelain dish of flying fish dressed in a sweet Chili sauce and accompanied by costly lotus seeds .',\n",
              " 'A hush came over the court as the father viewed the dish and placed it on the table .',\n",
              " 'The second brother came forward and he opened a large copper cauldron and presented a joint of boar dressed with wild mushrooms and a rare wild fern sauce .',\n",
              " 'Again all the court watched the father place the cauldron on the table .',\n",
              " 'Then Prince Tiet Lieu came forward and opened his basket and displayed a large flat rice cake .',\n",
              " 'The court and his brothers gasped , no-one would dare offer such simple fare to the royal King .',\n",
              " 'King Hung said , \" Prince Tiet Lieu , tell me why you have chosen to present me with such a simple rice cake ? \"',\n",
              " 'Prince Tiet Lieu said , \" Rice is the most precious and valuable of all food found in this Kingdom , yet rice is also the most abundant_food .',\n",
              " 'I have prepared a dish that represents my love for you and our beautiful Vietnam .',\n",
              " 'I have cooked it thoroughly then molded it into a round rice cake , and called it Banh Day as it symbolizes the sky we live under .',\n",
              " 'I have cooked a square rice cake , stuffed it with cooked bean paste and ground meat in the middle and called it Banh Chung .',\n",
              " 'This will symbolize the earth we live on .',\n",
              " 'As Prince Tiet Lieu spoke his two elder brothers tried to mask the grandness of their dishes as they now understood the wisdom of their younger brother in using ingredients that all the people of Vietnam could have access to .',\n",
              " 'Immediately they fell to their knees in front of their father and younger brother and bowed at the same time the whole court bowed to the father and Prince Tiet Lieu as everyone knew that he would make the finest King to rule after his wise father King .',\n",
              " 'After that , King Hung ordered that this recipe be passed out to all people in his kingdom .',\n",
              " 'As the result , the Vietnamese custom is that every year during the New Year celebration , the Vietnamese people cook Banh Chung and Banh Day and use them as special offerings to their ancestors as well as special gifts to relatives and friends during the Tet celebrations .',\n",
              " 'The Banh Chung is very nutritious , has an original tasty flavor and may be kept for a long time .',\n",
              " 'All of its ingredients and materials , from the green wrapping leaves to sticky rice and pork , green peas and pepper inside , are all medicines ( according to Oriental Medicine ) that act to keep harmony between the positive and the negative , thus helping the blood circulate well and preventing diseases .',\n",
              " \"Michael Jackson 's doctor Conrad Murray goes on trial\",\n",
              " 'Prosecutors said he acted with \" gross negligence \" and gave Jackson a lethal dose of the sedative propofol that caused his death in June 2009 .',\n",
              " 'The defence said Jackson gave himself too much of the drug , a sleeping aid .',\n",
              " 'Dr Murray , 58 , who denies the charge , could face four years in jail and the loss of his medical licence .',\n",
              " 'Slurred message',\n",
              " 'In Tuesday \\'s opening statement , lead prosecutor David Walgren told the court the evidence would show \" Conrad Murray repeatedly acted with gross negligence , repeatedly denied appropriate care to his patient , Michael Jackson \" .',\n",
              " '\" That misplaced trust ... cost Michael Jackson his life . \"',\n",
              " \"The jury was shown a photo of the 50-year-old singer 's pale body lying on a gurney after he died , and heard a recording of the pop star slurring while talking about planned comeback concerts .\",\n",
              " \"Mr Walgren said the audio , aired in public for the first time , had come from a message on Dr Murray 's mobile phone .\",\n",
              " '\" When people leave my show , I want them to say , \\'I \\'ve never seen nothing like this in my life \\', \" says Jackson , apparently heavily drugged , on the audio .',\n",
              " '\" Go , Go .',\n",
              " \"I 've never seen nothing like this .\",\n",
              " 'Go .',\n",
              " \"It 's amazing .\",\n",
              " 'He \\'s the greatest entertainer in the world . \"',\n",
              " \"The prosecutor said Jackson 's difficulty in speaking on the recording showed that Dr Murray ought to have realised the star should not have taken any more propofol .\",\n",
              " \"Mr Walgren said that after administering what it says was the fatal dose , Dr Murray had not been attentive to Jackson 's health .\",\n",
              " '\" Abandoned \"',\n",
              " 'The prosecutor said the doctor had left to go to the bathroom and checked his mobile phone .',\n",
              " '\" He ( Murray ) left him ( Jackson ) there , abandoned him to fend for himself \" .',\n",
              " 'Mr Walgren said when Dr Murray found Jackson unconscious , he did not immediately call the emergency services , instead telling a bodyguard to do so 20 minutes later .',\n",
              " 'Dr Murray also did not mention to paramedics or emergency room doctors that he had administered propofol , according to the prosecutor .',\n",
              " \"During his lawyer 's turn to speak , Dr Murray appeared to wipe tears from his eyes .\",\n",
              " 'Defence attorney Ed Chernoff said it was drugs taken by Jackson himself which had proved fatal .',\n",
              " '\" He did an act without his doctor \\'s knowledge , without his doctor \\'s permission , against his orders , he did an act that caused his own death , \" Mr Chernoff said .',\n",
              " 'He claimed the singer had swallowed pills of the sedative lorazepam on the morning of his death .',\n",
              " 'That dosage was enough to put six people to sleep , said the defence .',\n",
              " '\" Perfect storm \"',\n",
              " 'He also said Jackson had self-ingested propofol , and that it had killed him instantly .',\n",
              " 'Mr Chernoff said the two drugs together had created \" a perfect storm in his body \" .',\n",
              " 'Jackson \" died so rapidly , so instantly , he did n\\'t even have time to close his eyes \" , the defence lawyer added .',\n",
              " 'He also said that Dr Murray had been trying to wean Jackson off propofol , which the star used to call his \" milk \" .',\n",
              " 'The prosecutor said Dr Murray had initially asked for $ 5m ( £3.2 m ) to work with Jackson for a year , though accepted a lower rate of $ 150,000 per month .',\n",
              " \"But his contract to become the star 's personal physician was never signed , and Dr Murray was never paid .\",\n",
              " 'First witnesses',\n",
              " 'Jackson choreographer Kenny Ortega was the first prosecution witness to take the stand .',\n",
              " \"He told the court of Jackson 's excitement about his series of comeback concerts .\",\n",
              " 'Mr Ortega also told the court that days before Jackson \\'s death , he expressed \" deep concern \" in an email to Jackson \\'s concert promoter about the state of Jackson \\'s health .',\n",
              " 'The email was written after a period of about a week when Jackson repeatedly failed to appear at rehearsals .',\n",
              " 'But in the last day or two before Jackson \\'s death Mr Ortega said the star seemed \" full of energy , full of desire to work ...',\n",
              " 'It was a different Michael . \"',\n",
              " \"Footage of the star 's rehearsals became part of a documentary , This Is It , directed by Mr Ortega .\",\n",
              " 'Paul Gongaware , co-chief executive of concert promoter AEG , followed Mr Ortega to the stand as the second prosecution witness .',\n",
              " \"He told the court about how he employed Dr Murray as Jackson 's personal physician .\",\n",
              " 'A number of witnesses , including security guards , paramedics and emergency room doctors , are yet to be called .',\n",
              " 'Propofol is usually administered intravenously , often during surgery .',\n",
              " \"Medical experts are expected to testify about the sedative 's effects , as well as how a trace of the drug was found in Jackson 's stomach .\",\n",
              " 'Hundreds of Jackson fans gathered outside court earlier as the trial began.',\n",
              " 'The trial is expected to last about five weeks .',\n",
              " 'Food prices soar despite surprise drop in inflation',\n",
              " \"Prices for food and drink are rising at their fastest pace in more than two years despite last month 's surprise fall in inflation , according to the Office for National Statistics\",\n",
              " 'Butter is one of the foods that have risen the most this month , up 26.4pc on this time last year .',\n",
              " 'The soaring cost of staples – such as bread , meat , fish and juices - will add to concerns about household finances even though the headline rate of inflation fell from 4.5pc in May to 4.2pc in June .',\n",
              " 'The reduction in the consumer prices index ( CPI ) was largely due to the early summer sales , with prices for games , toys and audio-visual equipment all falling .',\n",
              " '\" Price discounting in June this year influenced the contribution from each of these classes , \" the ONS said .',\n",
              " 'With prices for non-discretionary items such as food and energy rising , cash-strapped consumers appear to be putting pressure on retailers for cuts elsewhere .',\n",
              " 'The fall in CPI came against expectations for an unchanged figure of 4.5pc .',\n",
              " 'It was matched by a similar decline from 5.2pc to 5pc in the retail prices index often used for wage settlements , reinforcing opinions that the Bank of England will leave interest rates at their record low of 0.5pc until next year .',\n",
              " 'The data pushed the \" interest rate debate in the direction of the doves \" , Mr Loynes said .',\n",
              " '\" The figures add support to the growing view that UK monetary policy is more likely to be loosened than tightened over the next year or so \" .',\n",
              " 'According to the ONS , prices for bread and cereals have risen 8.5pc in the past year , 7.2pc for meat and 12.2pc for fish .',\n",
              " 'Vegetables are 5.4pc more expensive , while sugar and confectionary cost 8.2pc more .',\n",
              " 'Coffee and tea prices have risen 9.3pc , and soft drinks and juices 10.6pc .',\n",
              " 'Overall , the inflation rate for food and non-alcoholic beverages was 6.9pc – the highest since May 2009 .',\n",
              " 'James Knightley , economist at ING Financial Markets , warned : \" Food prices are set to rise further given the lagged increases in raw food commodity prices . \"',\n",
              " 'Despite the surprise drop in inflation , economists still reckon CPI is likely to breach 5pc in the autumn .',\n",
              " '\" It seems inevitable that inflation will spike up around August/September as higher utility bills kick in use , \" Howard Archer at IHS Global Insight said .',\n",
              " '\" Both British Gas and Scottish Power have announced hefty increases in their charges for gas and electricity from August and other utility providers seem certain to announce similar hefty increases . \"',\n",
              " 'Household utility bills are expected to rise by 15pc-20pc .',\n",
              " 'Mr Knightley added : \" As a result , we still look for CPI to hit 5.5pc within the next three to six months . \"',\n",
              " 'Sensor easily detects date rape drugs in drinks',\n",
              " \"Date rape drugs can be added to a person 's drink , making them vulnerable to sexual exploitation .\",\n",
              " 'A new sensor that could look like a tiny stirrer or straw can be placed in the drink and accurately tell whether it has been spiked .',\n",
              " \"Creators and developers of the sensor , Professor Fernando Patolsky and Doctor Michael Ioffe of Tel Aviv University 's school of chemistry , say that it looks like a straw and can simply be dipped into a drink .\",\n",
              " 'In the final production they may make it look like a stirrer .',\n",
              " 'The tiny device does not even have to be help up to the light to get a reading .',\n",
              " 'Ioffe said :',\n",
              " '\" We have n\\'t decided how it will let you know .',\n",
              " 'Maybe it will just light up , or a part of it will rotate or maybe it will send a signal to your cell phone because you want to be discreet about it . \"',\n",
              " 'The researchers say their device is 100% accurate .',\n",
              " 'According to the US Department of Justice , approximately 200,000 women were raped in the USA after consuming a spiked drink in 2007 .',\n",
              " 'Sadly , only about 16% of them reported the incident .',\n",
              " 'The majority of the victims are teenagers or young adults .',\n",
              " 'The spiking generally occurs at clubs or bars .',\n",
              " 'Worldwide , it is thought that at least half a million women are raped each year after consuming adulterated drinks .',\n",
              " 'In their study , the researchers randomly selected 50 drinks from a series of cocktails and blind tested them with a developed solution .',\n",
              " 'They say the detection was 100% accurate for several drugs , including ketamine and GHB ( gamma-hydroxybutyric acid ) .',\n",
              " 'The teams are seeking financial backing to create a device that can detect Rohypnol , also known as roofies , a drug commonly used to sedate victims of date rape .',\n",
              " 'Date rape drugs are drugs that are used to facilitate a sexual assault , such as date rape .',\n",
              " \"They may have amnesiac , dissociative , hypnotic , and_or sedative effects , and can be added to drink or food without the attacker 's prey knowing .\",\n",
              " 'Adding these substances to drinks is known as drink spiking .',\n",
              " 'People may do this out of malice , weird amusement , or for theft or sexual assault .',\n",
              " 'The three most popular date rape drugs are alcohol , GHB ( gamma-hydroxybutyric acid ) , and benzodiazepines , such as flunitrazepam ( Rohypnol or roofies ) .',\n",
              " 'Alcohol is still the most commonly used drug in substance-assisted sexual assault .',\n",
              " '\" Funding crisis \" in brain research',\n",
              " 'Scientists say research into mental illnesses such as depression is facing a funding crisis .',\n",
              " 'They warn that new treatments will be delayed and that the next generation of neuroscience researchers will not be trained .',\n",
              " 'A report by the European College of Neuropsychopharmacology said private companies were pulling out due to the challenge of bringing drugs to market .',\n",
              " 'It called for more investment and changes to the way trials take place .',\n",
              " 'The report was the result of a summit of more than 60 representatives of governments , universities , the pharmaceutical industry and patient groups .',\n",
              " 'Higher failure rate',\n",
              " 'It said up to 80 % of funding for brain research in Europe had traditionally come from the private sector .',\n",
              " 'However , pharmaceutical companies were retreating from the field because of the cost of bringing drugs as far as the consumer .',\n",
              " 'The report said it took much longer to develop drugs for mental illness - 13 years on average .',\n",
              " 'Those drugs had a higher failure rate and were harder to get licensed for use , it said .',\n",
              " 'Only one new anti-depressant has been approved in Europe , agomelatine , in the past 10 years .',\n",
              " 'Professor Guy Goodwin , from the University of Oxford , said a lack of funding could lead to a \" generational crisis \" in neuroscience research and training .',\n",
              " 'He said there should be more public money invested in brain research : \" The cost and burden are really quite high , yet research attracts disproportionately low investment .',\n",
              " '\" Public investment in research should be somehow related to the burden of the disease . \"',\n",
              " 'The report suggested ways of encouraging more people to invest , such as increasing the patent length for psychiatric drugs - making them more profitable .',\n",
              " 'A European \" medicines chest \" was also suggested.',\n",
              " 'Pharmaceutical companies would donate drugs they were no longer using for research , which could then be used by other organisations .',\n",
              " \"The report suggested that drugs discarded for treating Alzheimer 's disease , for example , could be used in research for psychiatric disorders .\",\n",
              " 'Professor David Nutt , of Imperial College London , described the current situation as \" madness \" .',\n",
              " 'He said : \" With Europe \\'s extraordinary tradition in neuroscience innovation relying so heavily on private-sector investment , the consequences for the region \\'s research base and public-health agenda are of major concern . \"',\n",
              " '1 . Rio+20 Brings Attention to Sustainable Development',\n",
              " 'Rio+20 marks the twentieth anniversary of the first UN Earth conference , also held in Rio de Janeiro .',\n",
              " 'The conference helped build support for the nineteen ninety-seven Kyoto agreement to reduce greenhouse gas emissions .',\n",
              " 'Leaders from more than one hundred nations are in Rio de Janeiro , Brazil , for a three-day United Nations Development Sustainable on Conference .',\n",
              " 'More than forty thousand activists , political and business leaders are also there .',\n",
              " 'United Nations Secretary-General Ban Ki-moon spoke at the opening of the event , known as the Rio+20 .',\n",
              " 'BAN KI-MOON : \" We are now in sight of a historic agreement . \"',\n",
              " 'Rio+20 marks the twentieth anniversary of the first UN Earth conference , also held in Rio de Janeiro .',\n",
              " 'The conference helped build support for the nineteen ninety-seven Kyoto agreement to reduce greenhouse gas emissions .',\n",
              " 'This year , officials are trying to reach final agreement on a document that details goals for reducing poverty while supporting clean energy and sustainable development .',\n",
              " 'The conference will draw attention to seven major issues .',\n",
              " 'The UN says jobs , energy and sustainable cities are of top importance .',\n",
              " 'It notes that food security , water , oceans and dealing with disasters are other issues basic to lifting people out of poverty .',\n",
              " \"The mayor of New York City , Michael Bloomberg , took part in a discussion among mayors of some of the world 's largest cities .\",\n",
              " 'They talked about measures to cut greenhouse gasses .',\n",
              " 'These gasses are known to trap heat and have been linked to climate change .',\n",
              " 'Cities are responsible for up to seventy-five percent of the gases .',\n",
              " \"Mr. Bloomberg said the world 's mayors are taking the lead on issues like the environment and sustainability .\",\n",
              " 'Michael BLOOMBERG : \" Even as progress at national and international level has faltered , it \\'s fair to say that world cities have forged ahead .',\n",
              " \"And , the reason for that is clear - mayors , the great pragmatists on the world stage who are directly responsible for the well-being for the majority of the world 's people , just do n't have the luxury to simply talk about change and not delivering it . ''\",\n",
              " \"Mayors reported using electric vehicles , better street lighting and improved waste management to reduce cities ' greenhouse emissions .\",\n",
              " 'Bindu Lohani is a top official with the Asian Development Bank based in the Philippines .',\n",
              " 'The bank has promised billions to sustainable development .',\n",
              " \"Mr. Lohani said Asia 's fast growth places heavy pressure on the environment and society .\",\n",
              " 'Bindu LOHANI : \" Asia is growing fast economically .',\n",
              " 'We project by twenty-fifty , more than fifty percent of global economy will be in Asia .',\n",
              " 'Asia is also rich in ecosystems , and therefore , very vulnerable . \"',\n",
              " 'Still , some environmental activists say the conference document is too weak .',\n",
              " 'They say there are many promises of action but few clear targets for reducing pollution and the use of natural resources .',\n",
              " '2 . What Kim \\'s \" mystery woman \" says about North Korea',\n",
              " 'Hong Kong ( CNN ) - So little is known about North Korean leader Kim Jong Un that the identity of a woman seen by his side during more than one official engagement has sparked a flurry of speculation worldwide .',\n",
              " 'Was the slim woman in the sharp black suit his sister , wife or even lover .',\n",
              " 'No one seems to know .',\n",
              " 'Andrei Lankov of Kookmin University in South Korea , an expert and author of a number of books on North Korea , said it was unlikely speculators would ever find out .',\n",
              " '\" Everything related to Kim Jong Il \\'s children is a deadly secret .',\n",
              " 'No sane North Korean who knows it would share this out for very special reasons \" .',\n",
              " \"The mystery woman accompanied the young leader to a Pyongyang theater on Friday night to watch a performance of North Korea 's Moranbong band .\",\n",
              " 'The display included a cast of Disney characters , attracting the attention of The Walt Disney Company which issued a statement Tuesday saying it had not authorized their use .',\n",
              " \"Away from the stage , the young woman 's presence raised questions too about the purpose of the performance and the message the leadership was intending to convey .\",\n",
              " 'A statement released by the North Korean Central News Agency ( KCNA ) Saturday made no mention of either the Disney characters nor the woman who was seen in official photos distributed worldwide standing and clapping at the end of the performance .',\n",
              " \"Friday 's outing was n't her only high-profile appearance at the North Korean leaders ' side .\",\n",
              " \"The same woman was seen on state TV Sunday walking a few paces behind Kim as he toured Kumsusan Palace in Pyongyang , then standing to attention at Kim 's side as they and top military officials paid tribute to his grandfather Kim Il Sung , North Korea 's founding father , on the anniversary of his death .\",\n",
              " 'The presence of a female companion to the leader during an official engagement was unusual , Lankov said , and could be part of a campaign to present Kim as \" much more approachable , human-like and soft on people \" than his father , Kim Jong Il .',\n",
              " '\" He travels much more than his father and even than his grandfather .',\n",
              " 'He likes to hug everybody , physically hug .',\n",
              " \"In this regard it 's probably he decided that it might be a good idea to hint that he does have a wife .\",\n",
              " \"Definitely a wife , Lankov stressed , because the public appearance of a leader 's girlfriend or lover would be unthinkable .\",\n",
              " 'Even the wives of his father and grandfather stayed firmly in the shadows during their decades in power .',\n",
              " \"Very little was known about Kim when he was granted the title of supreme leader ; his age is still a source of speculation , though it 's thought he 's in his late twenties .\",\n",
              " '\" Three years ago the only thing we knew about him was his existence , \" Lankov said .',\n",
              " '\" Until , say 2010 , as far as I remember we did n\\'t even know how his name was correctly spelt in Korean . \"',\n",
              " \"Lankov said it was too early to say whether the tweaks to Kim 's public image indicate change .\",\n",
              " '3 . Eurozone agrees on bank recapitalisation .',\n",
              " \"EU leaders have agreed to use the eurozone 's planned bailout fund to directly support struggling banks , without adding to government debt .\",\n",
              " 'After 13 hours of talks , they also agreed to set up a joint banking supervisory body for the eurozone .',\n",
              " 'Spain and Italy put pressure on Germany to allow the bailout fund to buy government debt in the markets - a measure to contain borrowing costs .',\n",
              " 'Eurozone leaders agreed to begin implementing the decisions by 9 July .',\n",
              " 'However , it could take until the end of the year before the new money becomes available .',\n",
              " 'Announcing the deal , EU Council President Herman van Rompuy said it would break the \" vicious circle \" between banks and national governments .',\n",
              " 'The euro surged against the dollar in Asian trade after the news from Brussels .',\n",
              " 'Stocks in Germany and London also rose sharply .',\n",
              " 'Financial control',\n",
              " \"The deal also tried to sort out a problem with a previous agreement to lend money to Spain 's banks .\",\n",
              " 'There had been confusion over where that money would come from , and which lenders would have priority in the event of a default .',\n",
              " \"The new agreement made clear that the EU 's existing bailout fund will provide aid under the current rules until the new fund , the European Stabilisation Mechanism , begins operations .\",\n",
              " 'The BBC \\'s Andrew Walker , in Brussels , says these loans will also not be given \" seniority \" over private sector loans .',\n",
              " 'This means that if Spain were to default , those official lenders would not get preferential treatment .',\n",
              " 'The move should make Spanish government debt a little more attractive to private investors , our correspondent says .',\n",
              " 'Analysts say Germany appears to have given ground after pressure from Spain and Italy to provide more support .',\n",
              " 'The two southern European countries had withheld support from an earlier plan for a growth package worth 120bn euros ( £96bn ; $ 149bn ) .',\n",
              " '4 . First relief in Spain ... then reflection',\n",
              " 'Spain struggling to stay afloat',\n",
              " \"The euphoria surrounding Spain 's request for aid fizzled quickly amid a myriad of unknowns .\",\n",
              " 'From Madrid to London , Paris to Frankfurt , investors were left asking themselves \" Will this be enough ? Will it be the end ? \" .',\n",
              " \"The bailout is worth up to $ 125 billion , but some say Spain 's request for funds to prop up its financial sector is far from being a fait accompli .\",\n",
              " \"First of all , the Spanish government does n't even know how much money will be needed .\",\n",
              " \"What 's more , those lending the cash must find a way of channeling it through the country 's books without jeopardizing Spain 's sovereign rating .\",\n",
              " \"And for the time being the eurozone 's fourth-largest economy says it is solvent ... even if its banks are not .\",\n",
              " 'Lagarde : Euro has 3 months to be saved',\n",
              " 'Some economists say that , frankly , is a fudge .',\n",
              " '\" It \\'s the flipside of what the government has been selling as a triumph , \" says David Bach , of Madrid \\'s IE Business School .',\n",
              " '\" They \\'ve been saying this is n\\'t a bailout , it \\'s just the financial system .',\n",
              " 'But of course , why does the Spanish government need help to bail out its banks ?',\n",
              " '\" It needs that help because at this point the government could not be financing it themselves .',\n",
              " \"In a sign of yet more concern , Spain 's bond yield ended Monday 's session higher than it was before the weekend 's events , with the yield on Spain 's 10-year note - effectively the country 's borrowing costs - posting its biggest one-day jump in a year .\",\n",
              " \"Hardly the result the eurozone 's finance ministers were hoping for .\",\n",
              " 'And although eurocrats were out in force assuring everyone that \" a stronger framework \" was in place , people remained perplexed .',\n",
              " \"Private bondholders fear they may be relegated down the pecking order if the funds awarded to Spain are granted from the EU 's permanent bailout fund - the European Stability Mechanism .\",\n",
              " 'On the other hand , funding the rescue from the temporary fund - the European Financial Stability Facility - could give difficult eurozone members like Finland a chance to ask for collateral from Spain .',\n",
              " \"Fellow bailout recipients like Ireland - which had to accept a full country bailout for its bust banks - may ask for their terms to be reviewed , while Spain could clash with other countries over which banks are worth saving and which are n't .\",\n",
              " \"Spain 's banking sector fix is badly needed , but it is not the only ill Spain is suffering from .\",\n",
              " 'The country still faces a productivity crisis and it will take years to get a quarter of its population out of the jobs line and back into the workforce .',\n",
              " \"In the meantime , the funding gap for Spain 's autonomous regions continues to tick like a timebomb .\",\n",
              " 'The nation is facing its second recession in just three years and output is set to shrink 1.7 % this year .',\n",
              " \"All the while , its commitment to austerity continues to bite the average person - and they are n't getting a bailout .\",\n",
              " '\" People are angry because they are asking , how come this money is going to the banks when they are facing the cuts to schools , to hospitals , \" says Eduardo Segovia of ElConfidencial.com .',\n",
              " '\" Spaniards feel like they have failed , like they could n\\'t find a solution for this themselves . \"',\n",
              " \"Despite its call for bank aid , Fitch Ratings still responded by downgrading two of Spain 's biggest lenders to within a whisker of junk status .\",\n",
              " \"And that in turn may make Spain 's bailout yet more expensive. . before it 's even begun .\",\n",
              " '5 . European bonds',\n",
              " 'Not to be confused with Eurobond .',\n",
              " 'European bonds ( or Stability Bonds ) are suggested government bonds issued in Euros jointly by the 17 eurozone nations .',\n",
              " 'Eurobonds are debt investments whereby an investor loans a certain amount of money , for a certain amount of time , with a certain interest rate , to the eurozone bloc as a whole , which then forwards the money to individual governments .',\n",
              " 'Eurobonds have been suggested as an effective way to tackle the European sovereign debt crisis though they remain controversial .',\n",
              " 'Not to be confused with Eurobond .',\n",
              " 'Eurobond',\n",
              " 'Bond denominated in U.S. dollars or other currencies and sold to investors outside the country whose currency is used .',\n",
              " 'The bonds are usually issued by large underwriting groups composed of banks and issuing houses from many countries .',\n",
              " 'An example of a Eurobond transaction might be a dollar-denominated debenture issued by a Belgian corporation through an underwriting group comprised of the overseas affiliate of a New York investment banking house , a bank in Holland , and a consortium of British merchant banks ; a portion of the issue is sold to French investors through Swiss investment accounts .',\n",
              " 'The Eurobond market is an important source of capital for multinational companies and foreign governments , including Third World governments .',\n",
              " 'Why do magazines look so bad on the new iPad ?',\n",
              " \"( Mashable ) -- As with any high-profile product release , Apple 's new iPad device has been peppered with complaints since reaching consumers ' hands on March 16 .\",\n",
              " \"Among them : that magazines look terrible on the iPad 3 's high-resolution display .\",\n",
              " 'The complaints were first brought to light by Tumblr blogger Jamie Billett .',\n",
              " \"He pointed out that in the New Yorker 's iPad app , the text on some pages is rendered as HTML , and the text on other pages is rendered as an image ( .png ) file .\",\n",
              " 'The latter pages now appear \" badly aliased \" -- i.e . conspicuously pixelated -- throughout the app because the images have n\\'t been formatted to accommodate the iPad 3 2048x1536-pixel resolution , he complains .',\n",
              " '( The iPad 2 , by comparison , has a resolution of 1024x768 pixels . )',\n",
              " \"The New Yorker and other Conde Nast title have taken the heat for looking poor under the new display , but they 're not alone .\",\n",
              " 'Titles from other magazine publishers -- we looked at Time magazine and Sports Illustrated from Time Inc. , and at Esquire and O : The Oprah Magazine from Hearst Empty -- all suffered from the same problems .',\n",
              " 'The only exception ?',\n",
              " 'Vo gue , which launched its iPad edition the same day the iPad 3 hit stores .',\n",
              " 'The title planned its debut in conjunction with the tablet \\'s release , and thus was able to optimize for the iPad \\'s \" retina display \" ahead of time , a Conde Nast spokesperson told us .',\n",
              " 'The spokesperson added that the company is \" working to optimize the rest of our digital edition portfolio over the next few weeks . \"',\n",
              " \"But what will the 'optimization' process entail ?\",\n",
              " 'How much will it increase file sizes ?',\n",
              " \"( We noticed , for instance , that Vo gue 's premiere issue was a full 408 megabytes on the iPad 3 , and less than 300 on the iPad 2 . )\",\n",
              " \"We spoke with Zeke Koch , senior director of product management of Adobe 's digital publishing arm , to find out .\",\n",
              " \"Adobe 's software powers all of Conde Nast 's editions for tablets .\",\n",
              " \"Magazine publishers who use Adobe 's software all begin with InDesign to develop lay outs , Koch explained .\",\n",
              " 'Those layouts can then be exported in three different kinds of formats : as images ( .png or .jpg ) , PDF or HTML.',\n",
              " 'Different kinds of files -- images , for instance , or video and audio files -- are embedded within those larger file types .',\n",
              " 'Since magazines began publishing on tablets , \" virtually all \" publishers have chosen to export their digital editions as PNG ( .png ) files , Koch said .',\n",
              " '\" The primary reason they did that is because the fidelity is perfect . \"',\n",
              " \"What you see on the desktop when you 're designing is exactly what you see on the iPad when you 're finished .\",\n",
              " 'Images are the fastest thing to load , and if you \\'re trying to create a quick , effortless browsing experience , images are the way to do that , \" he explained .',\n",
              " '\" That was okay when there was only one screen size -- when you were just working with the iPad 1 and 2 , \" he added .',\n",
              " '\" When the iPad 3 came out , you were now dealing with a device with four times as many pixels . \"',\n",
              " 'The iPad 3 applies an anti-aliasing filter to all low-resolution content , which blurs images ever so slightly .',\n",
              " 'As a result , photographs still look about the same on the iPad 3 , but the text looks a lot worse -- i.e. , visibly blurry , or pixelated .',\n",
              " 'What Vogue did -- and what all other titles will have to do in the coming weeks -- is begin exporting their digital editions as PDFs , said Koch .',\n",
              " 'But what about file siz #e ?',\n",
              " \"I pointed out to Koch that Vogue was nearly as large as Wired 's first issue for the original iPad .\",\n",
              " 'Unfortunately , he said , magazine files will be larger for iPad 3 readers because the image and video files need to be delivered at a higher resolution .',\n",
              " 'Owners of first and second-generation iPads will still be able to download smaller , lower-resolution files , however .',\n",
              " 'A magazine that is around 400 megabytes on the iPad 3 will be around 280 megabytes on the iPad 1 and 2 , Koch said .',\n",
              " 'But why not render in HTML ?',\n",
              " 'I asked Koch .',\n",
              " \"Would n't that make the files smaller , and give readers the added benefit of selectable text ?\",\n",
              " \"Koch claimed that publishing in HTML would n't substantially reduce the file siz #es .\",\n",
              " '\" In both cases , you have a bunch of words , and descriptions of where things should be , and multimedia .',\n",
              " 'Those multimedia files are still the same size . \"',\n",
              " 'He said the big disadvantage with HTML is that it \\'s \" not very good at layout out things predictably and perfectly . \"',\n",
              " \"Rather , it 's optimal for helping people create content that will adapt to any size screen .\",\n",
              " 'Ultimately , however , Koch believes most publishers will move to HTML as standards improve and as publishers move to publish on a wider range of tablets .',\n",
              " 'So there you have it .',\n",
              " 'Magazine readers need not despair about the appearances of their magazines for too much longer , as publishers are working to optimize their editions .',\n",
              " 'The fix is relatively simple : publishers will have to increase the resolution of their image and video files , and export their digital editions as PDFs .',\n",
              " \"IPad 3 owners will have to suffer longer download times , and wo n't be able to store as many magazines on their devices as iPad 1 and 2 owners , but that 's the price one pays for a visually stunning reading experience , no ?\",\n",
              " \"Photographers ' bodies ferried from Misrata to Benghazi\",\n",
              " 'The bodies of two award-winning photographers killed in Libya have been ferried to the rebel-held city of Benghazi on an aid ship .',\n",
              " 'Liverpool-born Tim Hetherington , 40 , and American Chris Hondros , 41 , died on Wednesday while covering the conflict in the besieged city of Misrata .',\n",
              " 'Two other journalists were injured , including Briton Guy Martin .',\n",
              " \"The men 's bodies were put aboard the Ionian Spirit , a ferry being used to take food and medicine to Misrata .\",\n",
              " 'Misrata is the only rebel-held city in western Libya and has been under attack from forces loyal to Col Muammar Gaddafi for weeks .',\n",
              " 'It is understood Mr Hetherington and Mr Hondros were among a group of journalists pulling back from near the front line , during a lull in the fighting , when they suffered their injuries .',\n",
              " \"Mr Hetherington 's family said he was killed by a rocket-propelled grenade .\",\n",
              " 'Tributes',\n",
              " 'In addition to taking aid , the ferry used to transport the bodies is also being used to evacuate the injured and foreigners fleeing Misrata .',\n",
              " 'The bodies were taken to Benghazi , the defacto rebel capital , in eastern Libya .',\n",
              " 'The Associated Press news agency said representatives from the UK and the US were to take custody of the bodies in Benghazi and arrange their evacuation from Libya .',\n",
              " \"The two photojournalists wounded alongside their colleagues remain in Misrata 's hospital .\",\n",
              " 'Mr Martin , a Cornish photographer who was working with Panos Pictures agency , was hit by shrapnel and remains in intensive care , although reports say his condition has improved after surgery on his leg .',\n",
              " 'New York-based photographer Michael Christopher Brown , who is also being treated for shrapnel injuries , is said to be up and walking .',\n",
              " 'Tributes poured in on Thursday for Mr Hetherington and Mr Hondros , who were both well-respected war photographers .',\n",
              " 'Mr Hetherington , who had dual UK and US citizenship , was best known for his work in Afghanistan and won the World Press Photo of the Year Award in 2007 .',\n",
              " 'He also co-directed the Oscar-nominated documentary Restrepo , which followed US troops in Afghanistan .',\n",
              " 'New-York based Mr Hondros was working for Getty Images and his previous awards include the Robert Capa Gold Medal for war photography .',\n",
              " 'The Libyan government has expressed \" sadness \" over the photographers \\' deaths but spokesman Moussa Ibrahim said there were always casualties in war , adding : \" People die from our side , from their side , people get caught in the middle . \"',\n",
              " \"The conflict in Libya began with an uprising against Col Muammar Gaddafi 's 42-year rule in mid-February and it has developed into a battle for a territory .\",\n",
              " 'Nato is currently in charge of a no-fly zone and coalition operations have been largely confined to air attacks .',\n",
              " 'On Thursday , the US sanctioned the use of armed drones over Libya to give \" precision capability \" to the military operation',\n",
              " 'Stem Cells of Schizophrenics Could Shed Light on Causes of Mental Illness',\n",
              " 'Scientists say a new method for recreating the brain cells of patients with schizophrenia could shed new light on the cause of the disabling mental disorder , which is marked by paranoid delusions and auditory hallucinations .',\n",
              " \"Schizophrenia 's cause remains a mystery , and researchers hoping to gain a better understanding of the disorder have used genetic technology to recreate a schizophrenic patient 's own brain cells , or neurons .\",\n",
              " 'Gong Chen , a neurobiologist in the Department of Biology at Pennsylvania State University , worked with researchers at the Salk Institute for Biological Studies in La Jolla , California , to create the cells .',\n",
              " 'Chen says scientists used molecular biology techniques to reprogram the skin cells of schizophrenic patients to become stem cells .',\n",
              " 'These unspecialized master cells can be coaxed with growth factors and other chemicals to become any type of cell in the body .',\n",
              " 'Researchers then cultured the stem cells in a petri dish to become neurons .',\n",
              " 'These brain cells from schizophrenic patients were then compared to brain cells derived from the skin cells of healthy volunteers .',\n",
              " 'Chen used electrophysiology techniques to test the function of the stem cell-derived neurons .',\n",
              " 'Chen says that at the individual neuron level , there was little apparent difference between the two groups of brain cells .',\n",
              " 'But researchers discovered a distinct difference in how they behaved when grouped as a circuit .',\n",
              " 'When compared to healthy neurons , the neurons generated from schizophrenic patients made fewer connections with each other .',\n",
              " '\" In the circuit level , when we look at a massive number of neurons , then the neuronal connectivity is indeed decreased \" .',\n",
              " \"An estimated one percent of the world 's population suffers from schizophrenia , the most persistently debilitating of the major mental health conditions .\",\n",
              " 'There are anti-psychotic medications to treat the condition , but they are frequently ineffective .',\n",
              " 'Chen says the Salk investigators tried a number of anti-psychotic compounds and found that one of the drugs improved the connectivity and communication among brain cells derived from the schizophrenic patients .',\n",
              " 'Chen believes that using living cells to learn more about the biological mechanisms of diseases like schizophrenia will help researchers develop better treatments .',\n",
              " '\" We think understanding that it maybe is not an individual neuronal problem but rather a circuit level problem will help us to thinking about what kinds of strategy to take to combat this kind of disease , \" he said .',\n",
              " 'Researchers say the method of growing neurons in a dish will aid in the study of other mental and developmental conditions , including autism and a type of chronic depression called bipolar disorder .',\n",
              " \"Chen says his group 's groundbreaking work with recreated neurons is an example of personalized medicine in which doctors will someday be able to prescribe effective treatments based on their patients ' unique biological make-up .\",\n",
              " 'An article describing the creation of brain cells to better understand schizophrenia is published in the journal Nature .',\n",
              " 'What is radiotherapy ?',\n",
              " 'It has long been known that radiation can damage human cells - and radiotherapy harnesses that power to treat cancers .',\n",
              " 'Ionizing radiation - similar to x-rays - can penetrate tissue , and alter the part of the cell which regulates its growth and reproduction .',\n",
              " 'Healthy cells can recover from this damage , while cancer cells cannot .',\n",
              " 'There are two types of radiotherapy - delivered from outside the body by a machine , and using radioactive implants placed inside the body .',\n",
              " 'Researchers are working to increase the effectiveness of radiotherapy by targeting the beam of energy more precisely , and making the cancer cells more sensitive to it .',\n",
              " 'Who gets radiotherapy ?',\n",
              " 'The principal use of radiotherapy is to tackle solid tumours found in just one location , for example skin , brain , breast or uterine cancers .',\n",
              " 'Sometimes doctors will use the treatment to shrink a tumour so that a subsequent operation will be more effective .',\n",
              " 'In some cases , for example in invasive bladder cancer , radiotherapy is considered as the first option , as an alternative to surgery that would have permanent effects on the lifestyle of the patient .',\n",
              " 'But although radiotherapy alone can cure many cancers , in other cases the radiotherapy is given after surgery over the surrounding area to \" mop up \" any remaining cells which have spread from the original cancer site .',\n",
              " 'If there is a suspicion or firm evidence that cells could have spread further afield , then chemotherapy may be the preferred option .',\n",
              " 'What form does treatment take ?',\n",
              " 'If the radiotherapy is delivered by a machine , then the patient will normally be given repeated treatments over a brief period .',\n",
              " 'Although treatment timing varies depending on the type of cancer , its location , size , and the dose chosen by the doctors , it is not unusual to be given treatments every day for a few weeks .',\n",
              " 'If the therapy involves inserting a radioactive implant near a tumour , then a brief hospital stay is normally needed .',\n",
              " 'What about side-effects ?',\n",
              " 'Although the treatment itself is painless at the time , the cumulative effect of many sessions does produce side effects .',\n",
              " 'The radiation can produce a sunburn-like effect on the skin as it passes through .',\n",
              " 'The extent of this depends on the number and intensity of treatments .',\n",
              " 'There can be hair loss in the area being treated - which is usually temporary .',\n",
              " 'The treatment can also leave the patient feeling fatigued and generally lethargic .',\n",
              " 'Are there long-term risks ?',\n",
              " \"Ionizing radiation produces changes within the genetic structure of the body 's cells , and there is a small risk that an increased radiation dose leads to changes in healthy cells which can cause cancer .\",\n",
              " 'New equipment and techniques help to reduce the risk of side effects by targeting doses more accurately on the cancer , thus lowering the dose received by critical organs and tissue around the treatment area , while allowing the malignant tissue itself to be zapped by higher doses than before .',\n",
              " 'Older radiotherapy equipment tended to target a larger area , so healthy tissue as well as cancerous tissue would be irradiated , increasing the risk of side effects .',\n",
              " 'The UK government is now investing in the latest machines .',\n",
              " \"The risks of medical radiation exposure are miniscule when compared to the risks to the patient 's health of not having the treatment .\",\n",
              " \"What 's likely to happen in the future ?\",\n",
              " 'Researchers are fine-tuning radiotherapy to improve the outcomes for patients .',\n",
              " 'The main efforts focus on delivering a more powerful radiotherapy beam accurately to smaller and smaller targets .',\n",
              " 'Some drugs seem to make cancer cells more vulnerable to radiation , which means less powerful radiotherapy , or fewer sessions , are needed .',\n",
              " 'Another field of research is looking at heating cells in a specific area to make them more sensitive to radiotherapy .',\n",
              " 'Japan earthquake : Huge relief mission launched',\n",
              " 'A mammoth relief mission is swinging into action in north-east Japan , a day after it was struck by a devastating tsunami , claiming hundreds of lives .',\n",
              " \"The disaster was triggered by an 8.9-magnitude earthquake , the country 's most powerful since records began .\",\n",
              " \"Japan 's military has mobilised thousands of troops , hundreds of planes and dozens of ships .\",\n",
              " 'The government has warned there could be a radioactive leak at a nuclear power reactor shut down by the quake .',\n",
              " 'The tremor struck in the afternoon local time on Friday at a depth of about 24km , 400km ( 250 miles ) north-east of Tokyo .',\n",
              " 'It was nearly 8,000 times stronger than the one which devastated Christchurch , New Zealand , last month , scientists said .',\n",
              " 'About 300 people are known to have died and more than 500 are missing .',\n",
              " 'Japanese media says the death toll will exceed 1,000 .',\n",
              " 'Prime Minister Naoto Kan plans to hold an emergency cabinet meeting early on Saturday , before visiting the disaster zone by helicopter .',\n",
              " \"The country 's military has mobilised thousands of troops , 300 planes and 40 ships for the relief effort .\",\n",
              " 'US President Barack Obama said a US aircraft carrier was already in Japan , and another was on the way .',\n",
              " 'The quake triggered a tsunami up to 10m ( 30ft ) , with waves of 7m battering the Japanese coast .',\n",
              " 'A muddy torrent of water swept cars and homes far inland , turning residential areas and paddy fields into a lagoon of debris-filled sea water .',\n",
              " 'One of the worst-hit areas was the port city of Sendai , in Miyagi prefecture , where up to 300 bodies have been found in one ward alone .',\n",
              " 'Japan Railways said it could not trace four trains along the north-eastern coast .',\n",
              " 'A ship carrying 100 people was also reported missing .',\n",
              " 'Swathes of Kesennuma , in Miyagi prefecture , have burned into the night , while one-third of the city was said to be under water .',\n",
              " 'Some 1,800 homes were reported to have been destroyed in the city of Minamisoma , Fukushima prefecture .',\n",
              " 'And a dam burst in north-eastern Fukushima prefecture , sweeping away homes , Kyodo news agency reported .',\n",
              " 'Meanwhile , Japanese authorities declared a state of emergency at five reactors at the Fukushima I and II plants , as cooling systems failed because of the earthquake .',\n",
              " 'They also warned there could be small radiation leaks as steam was released from the reactors , where pressure was reported to be considerably higher than normal .',\n",
              " 'Thousands of people were being evacuated around the two plants .',\n",
              " 'More than 50 aftershocks - many of them more than magnitude 6.0 - have rattled the country .',\n",
              " '\" It was the biggest earthquake I have ever felt .',\n",
              " 'I thought I would die , \" said Sayaka Umezawa , a 22-year-old student who was visiting the port of Hakodate .',\n",
              " 'In central Tokyo , a number of office workers have spent the night in their offices because the lifts stopped working .',\n",
              " 'Millions of commuters were stranded overnight , while others walked home , after train services were suspended .',\n",
              " 'At least 20 people were injured in Tokyo when the roof of a hall collapsed on to a graduation ceremony .',\n",
              " 'About four million homes in and around the city suffered power cuts .',\n",
              " 'The tsunami rolled across the Pacific at the speed of a jetliner but had weakened before it hit Hawaii and the US West Coast .',\n",
              " 'Thousands of people were ordered to evacuate coastal areas in the states of California , Oregon and Washington .',\n",
              " 'A port in Oregon is reported to have been seriously damaged by the waves .',\n",
              " 'In the immediate aftermath of the quake , a tsunami warning extended across the Pacific to North and South America , where many other coastal regions were evacuated .',\n",
              " 'But the alert was later lifted in most parts , including the Philippines , Indonesia , Australia and China .',\n",
              " 'Lessons Learned',\n",
              " 'One day , the father of a very wealthy family took his son on a trip to the country with the express purpose of showing him how poor people live .',\n",
              " 'They spent a couple of days and nights on the farm of what would be considered a very poor family .',\n",
              " 'On their return from their trip , the father asked his son , \" How was the trip ? \"',\n",
              " '\" It was great , Dad . \"',\n",
              " '\" Did you see how poor people live ? \"',\n",
              " 'The father asked .',\n",
              " '\" Oh yeah , \" said the son .',\n",
              " '\" So , tell me , what did you learn from the trip ? \"',\n",
              " 'The father asked .',\n",
              " 'The son answered : \" I saw that we have one dog and they had four .',\n",
              " 'We have a pool that reaches to the middle of our garden and they have a creek that has no end .',\n",
              " 'We have imported lanterns in our garden and they have the stars at night .',\n",
              " 'Our patio reaches to the front yard and they have the whole horizon .',\n",
              " 'We have a small piece of land to live on and they have fields that go beyond our sight .',\n",
              " 'We have servants who serve us , but they serve others .',\n",
              " 'We buy our food , but they grow theirs .',\n",
              " 'We have walls around our property to protect us , they have friends to protect them . \"',\n",
              " \"The boy 's father was speechless .\",\n",
              " 'Then his son added , \" Thanks Dad for showing me how poor we are . \"',\n",
              " 'What $ 1 buys around the world ?',\n",
              " \"At Lonely Planet , we 're big fans of the travel bargain .\",\n",
              " 'After all , the first guide we produced was Asia on the Cheap – and then Southeast Asia on a Shoestring .',\n",
              " \"Just recently we 've had articles about countries that can still be travelled on the cheap and how to cope in Copenhagen if you 're down to your last krone .\",\n",
              " \"Little surprise then that we loved Contemporary Nomad 's blog post about what $ 1 can buy you in the Philippines .\",\n",
              " 'The answer ?',\n",
              " 'A lot .',\n",
              " \"In fact , it 's a little like the world is your $ 1 shop ; by handing over a buck , you can get everything from a haircut to 45 kikiam ( fried fish ) .\",\n",
              " \"So we thought we 'd ask Lonely Planet 's Facebookers , what can you get for US$ 1 where you are ?\",\n",
              " \"Here 's just a taste of the possibilities :\",\n",
              " 'Chester , England : US$ 1 ( 63 pence ) gets me half a loaf of bread .',\n",
              " 'As for Philippines , one of the best things you can get with $ 1 is a big bag of sweets to keep in your backpack , to hand out to kids .',\n",
              " \"Vienna : a dollar would buy you a freshly baked Kornspitz ( a kind of bread roll ) , but would n't be enough for a salty pickle from a street market or a short-distance public transport ticket .\",\n",
              " \"However , with the change from that Kornspitz , you can visit the museum of applied art ( MAK ) on a Saturday since it 's free of charge .\",\n",
              " 'Tenerife , Canary Islands : it will get you a good cup of coffee in the capital , Santa Cruz , but in the tourist areas of the South you will be lucky if it gets you half a cup .',\n",
              " 'South India : it will give a unlimited servings of rice with rasam , sambhar , curd , papad , 1 piece sweet on a banana leaf .',\n",
              " 'Cebu , Philippines : $ 1 can get 30-45 minutes of a glorious foot massage .',\n",
              " 'Nepal : you can get momo ( ten units of dumpling ) and a 250ml of coke .',\n",
              " 'Croatia : a big scoop of ice-cream .',\n",
              " \"The UK : 60 pence buys you about 3/4 litre of milk , half a litre of petrol/diesel for your car , 2 cigarettes ( that 's two single ones , not a packet ) , 3 apples , 2 days supply of the Sun tabloid newspaper , a small portion of fries from McDonald 's or a can of coke from my office vending machine .\",\n",
              " 'Denmark : you can get a litre of milk , a ciabatta bun in the Godthaabsvej Bakery , a stamp for a postcard/letter with receiver in Denmark , a cucumber or maybe a chocolate bar .',\n",
              " '1 dollar = 5,5 danish kroner .',\n",
              " 'Budapest : 1 scoop of ice cream or 4 small apples 1 plain hamburger at McDonald \" s 1 postcard 1 daily newspaper 30 minutes parking in the downtown area .',\n",
              " 'Canada : Nothing !',\n",
              " 'Haha .',\n",
              " 'Blame it on Canadian taxes .',\n",
              " 'Faroe Islands , a pack of chewing gum , 2 apples at the supermarket , some candy probably , hardly anything .',\n",
              " 'Vietnam : you can buy either 1 hat , 1 or 2 magazine( s ) , 1 DVD , 3 pairs of flip sandals , 5 instant noodle packages or snacks , 1 meal in some cheap food courts .',\n",
              " 'ALOT , rite ?',\n",
              " 'In middle Italy : a litre of cheap wine or 1kg Spaghetti or 6 bottles of mineral water and just about one tablet of Ibruprofen which you might need if you drank the cheap vino !!',\n",
              " \"Chiang Mai : The question is , what ca n't you get in Chiang Mai for US$ 1 ?\",\n",
              " \"Street food does n't usually cost more than that .\",\n",
              " 'I even get a cooked to order vegetarian lunch delivered to my office everyday for that price .',\n",
              " 'Bogotá , Colombi a : A cup of coffee and 2 fresh baked cookies .',\n",
              " 'Or an arepa with some spicy home made aji salsa !',\n",
              " 'Seou l : one subway or bus ticket and a mask pack for your skin .',\n",
              " 'Egypt : you could buy a koshary plate which is an Egyptian dish which basically includes spaghetti , rice , lentil and fried onions on the top .',\n",
              " 'Another choice would be about ten Fool ( beans ) sandwiches maybe even some falafel or in other parts of Cairo just a donut .',\n",
              " 'India : 1USD = around 50 Indian Rupees which can get you a hearty meal of boiled rice , dal , vegetables , pickles , chutney and papads in a Kolkata \\'basa \" ... and it \\'s usually eat as much as you want !',\n",
              " 'Costa Rica : you can buy one papaya , one watermelon , one pineapple … and perhaps a cup of coffee of decent quality .',\n",
              " 'Los Angeles : one hour of street parking .',\n",
              " 'Paris : about 40 % of an espresso at Starbucks .',\n",
              " 'Dubai : a dollar will get you a \\'Jabal Al Noor \" shawarma .',\n",
              " 'Portugal : 1 espresso coffee .',\n",
              " 'Except if you are in the airport .',\n",
              " 'Australia : a scratchy ( lottery ticket ) with the chance of getting enough cash together for your next trip .',\n",
              " 'So if you \\'re looking to make one dollar go further , as William says on our Facebook page , \\'Indonesia , Thailand , and India are the winners \" !',\n",
              " 'Reading books to babies',\n",
              " 'Jacob loves books .',\n",
              " 'His mom knows this because when she sits down to read to him every night , he waves his arms excitedly .',\n",
              " 'His favorite page of \" Goodnight Moon \" shows a cow jumping over the moon .',\n",
              " 'He squeals and reaches for the book every time he sees it .',\n",
              " 'When she is done reading , his mom usually lets him hold the sturdy board book , which he promptly sticks into his mouth .',\n",
              " 'Jacob is only 6 months old , but he is already well on his way to becoming a reader .',\n",
              " 'Why read to my baby ?',\n",
              " 'You may wonder about the benefits of reading to your baby .',\n",
              " \"An infant wo n't understand everything you 're doing or why .\",\n",
              " \"But you would n't wait until your child could understand what you were saying before you started speaking to him or her , right ?\",\n",
              " \"And you would n't bypass lullabies until your baby could carry a tune or wait until he or she could shake a rattle before you offered any toys .\",\n",
              " \"Reading aloud to your baby is a wonderful shared activity you can continue for years to come - and it 's an important form of stimulation .\",\n",
              " 'Reading aloud :',\n",
              " '* teaches a baby about communication',\n",
              " '* introduces concepts such as stories , numbers , letters , colors , and shapes in a fun way',\n",
              " '* builds listening , memory , and vocabulary skills',\n",
              " '* gives babies information about the world around them',\n",
              " 'Believe it or not , by the time babies reach their first birthday they will have learned all the sounds needed to speak their native language .',\n",
              " 'The more stories you read aloud , the more words your child will be exposed to and the better he or she will be able to talk .',\n",
              " \"Hearing words helps to build a rich network of words in a baby 's brain .\",\n",
              " 'Kids whose parents frequently talk or read to them know more words by age 2 than children who have not been read to .',\n",
              " 'And kids who are read to during their early years are more likely to learn to read at the right time .',\n",
              " 'When reading , your child hears you using many different emotions and expressive sounds , which fosters social and emotional development .',\n",
              " 'Reading also invites your baby to look , point , touch , and answer questions - all of which promote social development and thinking skills .',\n",
              " 'Your baby improves language skills by imitating sounds , recognizing pictures , and learning words .',\n",
              " 'But perhaps the most important reason to read aloud is that it makes a connection between the things your baby loves the most - your voice and closeness to you - and books .',\n",
              " 'Spending time reading to your baby shows that reading is a skill worth learning .',\n",
              " 'Different ages , different stages',\n",
              " 'Young babies may not know what the pictures in a book mean , but they can focus on them , especially faces , bright colors , and contrasting patterns .',\n",
              " 'Read or sing lullabies and nursery rhymes to interest and soothe your infant .',\n",
              " 'Between 4 and 6 months , your baby may begin to show more interest in books .',\n",
              " 'He or she will grab and hold books , but will mouth , chew , and drop them as well .',\n",
              " 'Choose sturdy vinyl or cloth books with bright colors and repetitive or rhyming text .',\n",
              " 'Between 6 and 12 months , your child is beginning to understand that pictures represent objects , and most likely will develop preferences for certain pictures , pages , or even entire stories .',\n",
              " 'Your baby will respond while you read , grabbing for the book and making sounds , and by 12 months will turn pages ( with some help from you ) , pat or start to point to objects on a page , and repeat your sounds .',\n",
              " 'When and How to Read',\n",
              " \"Here 's a great thing about reading aloud : It does n't take special skills or equipment , just you , your baby , and some books .\",\n",
              " 'Read aloud for a few minutes at a time , but do it often .',\n",
              " \"Do n't worry about finishing entire books - focus on pages that you and your baby enjoy .\",\n",
              " 'Try to set aside time to read every day - perhaps before naptime and bedtime .',\n",
              " \"In addition to the pleasure that cuddling your baby before bed gives both of you , you 'll also be making life easier by establishing a routine .\",\n",
              " \"This will help to calm your baby and set expectations about when it 's time to sleep .\",\n",
              " \"It 's also good to read at other points in the day .\",\n",
              " 'Choose times when your baby is dry , fed , and alert .',\n",
              " \"Books also come in handy when you 're stuck waiting , so have some in the diaper bag to fill time sitting at the doctor 's office or standing in line at the grocery store .\",\n",
              " 'Here are some additional reading tips :',\n",
              " '* Cuddling while you read helps your baby feel safe , warm , and connected to you .',\n",
              " \"* Read with expression , pitching your voice higher or lower where it 's appropriate or using different voices for different characters .\",\n",
              " \"* Do n't worry about following the text exactly .\",\n",
              " 'Stop once in a while and ask questions or make comments on the pictures or text .',\n",
              " '( \" Where \\'s the kitty ?',\n",
              " 'There he is !',\n",
              " 'What a cute black kitty . \" )',\n",
              " 'Your child might not be able to respond yet , but this lays the groundwork for doing so later on .',\n",
              " '* Sing nursery rhymes , make funny animal sounds , or bounce your baby on your knee - anything that shows that reading is fun .',\n",
              " \"* Babies love - and learn from - repetition , so do n't be afraid of reading the same books over and over .\",\n",
              " 'When you do so , repeat the same emphasis each time as you would with a familiar song .',\n",
              " '* As your baby gets older , encourage him or her to touch the book or hold sturdier vinyl , cloth , or board books .',\n",
              " \"You do n't want to encourage chewing on books , but by putting them in his or her mouth , your baby is learning about them , finding out how books feel and taste - and discovering that they 're not edible !\",\n",
              " 'What to Read',\n",
              " 'Books for babies should have simple , repetitive text and clear pictures .',\n",
              " 'During the first few months of life , your child just likes to hear your voice , so you can read almost anything , especially books with a sing-song or rhyming text .',\n",
              " 'As your baby gets more interested in looking at things , choose books with simple pictures against solid backgrounds .',\n",
              " 'Once your baby begins to grab , read vinyl or cloth books with faces , bright colors , and shapes .',\n",
              " \"When your baby begins to respond to what 's inside of books , add board books with pictures of babies or familiar objects like toys .\",\n",
              " 'When your child begins to do things like sit up in the bathtub or eat finger foods , find simple stories about daily routines like bedtime or bathtime .',\n",
              " 'When talking starts , choose books that invite babies to repeat simple words or phrases .',\n",
              " 'Books with mirrors and different textures are also great for this age group , as are fold-out books that can be propped up , or books with flaps that open for a surprise .',\n",
              " 'Board books make page turning easier for infants and vinyl or cloth books can go everywhere - even the tub .',\n",
              " 'Babies of any age like photo albums with pictures of people they know and love .',\n",
              " 'And every baby should have a collection of nursery rhymes !',\n",
              " 'One of the best ways you can ensure that your little one grows up to be a reader is to have books around your house .',\n",
              " 'When your baby is old enough to crawl over to a basket of toys and pick one out , make sure some books are included in the mix .',\n",
              " 'In addition to the books you own , take advantage of those you can borrow from the library .',\n",
              " 'Many libraries have storytime just for babies , too .',\n",
              " \"Do n't forget to pick up a book for yourself while you 're there .\",\n",
              " \"Reading for pleasure is another way you can be your baby 's reading role model .\",\n",
              " 'WHO Declares H1N1 Swine Flu Pandemic Over',\n",
              " 'The World Health Organization has declared end to the H1N1 swine flu pandemic',\n",
              " 'In making the announcement WHO Director-General Dr. Margaret Chan said the new H1N1 virus largely run its course and the world is now moving into the post-pandemic period',\n",
              " 'Dr. Chan says the world is no longer in phase 6 of the influenza pandemic alert',\n",
              " 'She says the past year has been long and full of hard work',\n",
              " 'Remaining vigilant',\n",
              " 'She says the hard work against the virus will continue but she feels both tired and happy to have arrived at the end game',\n",
              " 'We also are mindful of the fact that we need to continue to maintain our vigilance and not be complacent Dr. Chan said',\n",
              " 'So there is going to be a lot of work to be done in the future .',\n",
              " 'One important things is to review lessons learned and how the world collectively can be better prepared for the next pandemic',\n",
              " 'Post-pandemic',\n",
              " 'Dr. Chan says the world has entered the post-pandemic period',\n",
              " 'But this she says does not mean the H1N1 virus has gone away .',\n",
              " 'Experience with past pandemics she says , show the H1N1 virus is likely to take on the behavior of a seasonal influenza virus and continue to circulate for some years to come',\n",
              " 'She says pandemics like the viruses cause them are unpredictable',\n",
              " 'Therefore she says continued vigilance is extremely Heighten important .',\n",
              " 'Based on available evidence and experience from past pandemics likely that the virus will continue to cause serious disease in younger age groups at least in the immediate post-pandemic period Dr. Chan said',\n",
              " 'Groups identified during the pandemic as at higher risk of severe or fatal illness will probably remain at heightened risk though hopefully the number of such cases will diminish',\n",
              " 'Still some outbreaks',\n",
              " 'The World Health Organization reports localized outbreaks of different magnitude are still occurring .',\n",
              " 'It notes H1N1 transmission is still going on in places such as New-Zealand and India',\n",
              " 'WHO praises both these countries for their quick detection and treatment of the disease and says they provide a model of how other countries should behave',\n",
              " 'Dr. Chan says the world got lucky in that the H1N1 influenza pandemic turned out to be mild and did not mutate to more lethal form',\n",
              " 'She says it also is fortunate widespread resistance to the vaccine did not develop but proved to be safe and effective',\n",
              " 'Recommendations',\n",
              " 'She says WHO recommends the vaccine continue to be given to high risk people to immunize them against virus-H1N1',\n",
              " 'The World Health Organization reports the current number of laboratory confirmed deaths from H1N1 stands at about 18,500 since the pandemic outbreak began in 2009',\n",
              " 'It says the true number of deaths is probably much higher but will not be known for several years',\n",
              " 'When a pet dies',\n",
              " \"For most kids , pets are more than just animals their families own , they 're members of the family and the best of friends .\",\n",
              " 'Unfortunately , the joy of owning a pet goes hand-in-hand with the heartbreak of losing one , whether because of old age , illness , or an accident .',\n",
              " 'And that can be very difficult .',\n",
              " 'After all , family pets often are the first to greet kids in the morning and after school .',\n",
              " 'Your pet may be the one your child looks to for comfort and companionship when ill or feeling unpopular or upset .',\n",
              " \"While it 's impossible to shelter kids from the loss of a pet , you can help them cope with it .\",\n",
              " \"And because a pet 's death might be their first time losing a loved one , the grieving process can help kids learn how to cope with other losses throughout life .\",\n",
              " 'Sharing the News and the Grief',\n",
              " 'One of the most difficult parts about losing a pet may be breaking the bad news to kids .',\n",
              " 'Try to do so one-on-one in a place where they feel safe and comfortable and not easily distracted .',\n",
              " 'As you would with any tough issue , try to gauge how much information kids need to hear based on their age , maturity level , and life experience .',\n",
              " 'If your pet is very old or has a lingering illness , consider talking to kids before the death occurs .',\n",
              " 'If you have to euthanize your pet , you may want to explain that :',\n",
              " 'the veterinarians have done everything that they can',\n",
              " 'We had a week of it and , then the whiskey gave out .',\n",
              " \"this is the kindest way to take the pet 's pain away\",\n",
              " 'the pet will die peacefully , without feeling hurt or scared',\n",
              " \"Again , a child 's age , maturity level , and questions will help determine whether to offer a clear and simple explanation for what 's going to happen .\",\n",
              " 'If so , it \\'s OK to use words like \" death \" and \" dying \" or to say something like \" The veterinarian will give our pet a shot that first puts it to sleep and then stops the heart from beating . \"',\n",
              " 'Many kids want a chance to say goodbye beforehand , and some may be old enough or emotionally mature enough to be there to comfort the pet during the process .',\n",
              " 'If you do have to euthanize your pet , be careful about saying the animal went \" to sleep \" or \" got put to sleep . \"',\n",
              " 'Young kids tend to interpret events literally , so this can conjure up scary misconceptions about sleep or surgery and anesthesia .',\n",
              " \"If the pet 's death is more sudden , calmly explain what has happened .\",\n",
              " \"Be brief , and let your child 's questions guide how much information you provide .\",\n",
              " 'Sticking to the Truth',\n",
              " 'Avoid trying to gloss over the event with a lie .',\n",
              " 'Telling a child that \" Buster ran away \" or \" Max went on a trip \" is not a good idea .',\n",
              " \"It probably wo n't alleviate the sadness about losing the pet , and if the truth does come out , your child will probably be angry that you lied .\",\n",
              " 'If asked what happens to the pet after it dies , draw on your own understanding of death , including , if relevant , the viewpoint of your faith .',\n",
              " 'And since none of us knows fully , an honest \" I do n\\'t know \" certainly can be an appropriate answer - it \\'s OK to tell kids that death is a mystery .',\n",
              " 'Helping Your Child Cope',\n",
              " 'Like anyone dealing with a loss , kids usually feel a variety of emotions besides sadness after the death of a pet .',\n",
              " \"They might experience loneliness , anger if the pet was euthanized , frustration that the pet could n't get better , or guilt about times that they were mean to or did n't care for the pet as promised .\",\n",
              " \"Help kids understand that it 's natural to feel all of those emotions , that it 's OK to not want to talk about them at first , and that you 're there when they are ready to talk .\",\n",
              " \"Do n't feel compelled to hide your own sadness about losing a pet .\",\n",
              " 'Showing how you feel and talking about it openly sets an example for kids .',\n",
              " \"You show that it 's OK to feel sad when you lose a loved one , to talk about your feelings , and to cry when you feel sad .\",\n",
              " \"And it 's comforting to kids to know that they 're not alone in feeling sad .\",\n",
              " 'Share stories about the pets you had - and lost - when you were young and how difficult it was to say goodb ye .',\n",
              " 'Moving On',\n",
              " \"After the shock of the news has faded , it 's important to help your child heal and move on .\",\n",
              " 'It can help kids to find special ways to remember a pet .',\n",
              " 'You might have a ceremony to bury your pet or just share memories of fun times you had together .',\n",
              " 'Write a prayer together or offer thoughts on what the pet meant to each family member .',\n",
              " \"Share stories of your pet 's funny moments or escapades .\",\n",
              " 'Offer lots of loving hugs .',\n",
              " 'You could do a project too , like making a scrapbook .',\n",
              " 'Keep in mind that grieving over the loss of a pet , particularly for a child , is similar to grieving over a person .',\n",
              " 'For kids , losing a pet who offered love and companionship can be much more difficult than losing a distant relative .',\n",
              " \"You might have to explain that to friends , family members , or others who do n't own pets or do n't understand that .\",\n",
              " 'Perhaps most important , talk about your pet , often and with love .',\n",
              " 'Let your child know that while the pain will eventually go away , the happy memories of the pet will always remain .',\n",
              " 'When the time is right , you might consider adopting a new pet - not as a replacement , but as a way to welcome another animal friend into your family .',\n",
              " \"Reviewed by : D'Arcy Lyness , PhD\",\n",
              " 'Date reviewed : November 2009',\n",
              " 'Originally reviewed by : Jennifer Schroff Pendley , PhD',\n",
              " 'China warns Nobel Committee not to honour dissident Liu',\n",
              " 'By Shirong Chen BBC News',\n",
              " 'China has warned the Nobel Peace Prize committee not to award the prize to well-known dissident Liu Xiaobo .',\n",
              " 'The Chinese foreign ministry said giving him the prize would be against Nobel principles .',\n",
              " 'Mr Liu is serving a long prison sentence for calling for democracy and human rights in China .',\n",
              " 'A foreign ministry spokeswoman told reporters in Beijing that Liu Xiaobo was serving a jail term because he had violated Chinese law .',\n",
              " 'Awarding him the Nobel Peace Prize would send the wrong message to the world , the spokeswoman said .',\n",
              " 'It would run contrary to the aims of its founder to promote peace between peoples , and to promote international friendship and disarmament , she added .',\n",
              " 'Mr Liu is serving an 11-year prison sentence for drafting Charter 08 , which called for multiparty democracy and respect for human rights in China .',\n",
              " 'The ruling Communist Party perceived this to be a threat against it .',\n",
              " 'More than 100 Chinese scholars , lawyers and campaigners have urged the Nobel Peace Prize committee to honour him this year .',\n",
              " 'The former Czech president , Vaclav Havel , has also voiced his support for the campaign .',\n",
              " 'Trade talks',\n",
              " 'The head of the Norwegian Nobel Institute , Geir Lundestad , said on Monday that a senior Chinese official had warned him that awarding the peace prize to Liu Xiaobo would affect relations between Oslo and Beijing .',\n",
              " 'China and Norway are now engaged in talks over a bilateral trade deal , which some say could serve as a blueprint for an agreement between China and the European Union .',\n",
              " 'Energy-rich Norway is also keen to export its offshore exploration know-how to China .',\n",
              " 'The Norwegian oil firm Statoil said last month that it was hoping to look for shale gas in China .',\n",
              " 'China was furious when the exiled Tibetan spiritual leader , the Dalai Lama , won the Nobel Peace Prize in 1989 , the year of the Tiananmen Square crackdown by Chinese authorities on protesters .',\n",
              " 'The government tried to exert pressure on the committee last year when another dissident , Hu Jia , was nominated for the prize .',\n",
              " \"The committee will announce this year 's winner in 10 days .\",\n",
              " 'FBI charges 127 alleged mobsters in north-east US',\n",
              " 'US Attorney General Eric Holder said the arrests were part of an \" ongoing fight against organised crime \"',\n",
              " \"US federal agents have charged 127 suspected mobsters in multiple investigations into New York 's organised crime families .\",\n",
              " 'The arrests were made on Thursday morning throughout New York City , New Jersey , Rhode Island and other areas in the north-east US , FBI officials said .',\n",
              " 'They were accused of a range of crimes including murder and extortion .',\n",
              " 'Attorney General Eric Holder said the arrests were the largest single-day mob crackdown in the history of the FBI .',\n",
              " '\" We are committed and determined to eradicating these criminal enterprises and bringing their members to justice , \" Mr Holder said during a news conference in Brooklyn .',\n",
              " 'In a statement , the justice department officials said illegal mafia-imposed \" taxes \" on commerce , including at US ports and small businesses , have a negative impact on the US economy .',\n",
              " 'Officials also said the groups had infiltrated labour unions and extorted union members .',\n",
              " '\" It ( the mafia ) is an ongoing threat to the economic well-being of this country , \" he said .',\n",
              " 'FBI Director Robert Mueller said : \" Some believe organised crime is a thing of the past ; unfortunately , there are still people who extort , intimidate , and victimise innocent Americans .',\n",
              " 'The costs legitimate businesses are forced to pay are ultimately borne by American consumers nationwide . \"',\n",
              " 'Officials said alleged leaders of all the five major crime families in New York were arrested , including the entire leadership of the Colombo family not already in prison .',\n",
              " 'In addition , the arrests hit the Gambino , Genovese , Lucchese , Bonanno , and DeCavalcante families .',\n",
              " 'Decades of offences',\n",
              " \"The arrests were made as the result of information obtained through wiretaps , co-operation from informants and other central intelligence , said Janice Fedarcyk , FBI 's New York division\",\n",
              " 'Former mob members , who recorded thousands of hours of conversations with mafia family bosses , also assisted in the investigation , authorities said .',\n",
              " 'Indictments released on Thursday charge the suspects with crimes that include arson , extortion , gambling , loan sharking and labour racketeering .',\n",
              " 'Mr Holder said the charges spawned from decades of offences , including murders within rivalling crime families , a killing during a botched robbery and even a double homicide after an argument in a pub .',\n",
              " 'The sweep began before dawn on Thursday with some 800 federal agents and police officers arresting a range of individuals in the US , from suspected small-time bookers to senior family leaders .',\n",
              " 'One person was also arrested in Italy in connection with the investigation .',\n",
              " 'Double-crossing',\n",
              " 'Mafia families in the US have seen a sharp decline in fortunes in the past 10 years as the result of court testimony from informants , who have begun breaking their code of silence in recent years .',\n",
              " 'Former mafia member Salvatore Vitale was sentenced to prison in October after federal officials and prosecutors praised his work in double-crossing his own crime syndicate .',\n",
              " 'Vitale , who was arrested in 2003 , gave authorities information on at least 11 murders , which helped bring down the once prominent Bonanno family in the New York area .',\n",
              " 'John \" Sonny \" Franzese , a 93-year-old member of the Colombo crime family , was also sentenced in Brooklyn on Friday to eight years in prison for extorting strip clubs and a pizzeria in the New York Metro Area .',\n",
              " 'Intel sees big profit rise thanks to server sales',\n",
              " 'Intel has posted a 48% rise in quarterly net profits , as strong sales of server microprocessors more than offset weak demand for chips used in personal computers .',\n",
              " \"The world 's largest microchip-maker made a net profit of $ 3.4 bn ( £2.1bn ) in the last three months of 2010 , up from $ 2.3bn a year earlier .\",\n",
              " 'Its revenues were also ahead of market expectations , rising 8% to $ 11.5bn .',\n",
              " 'Intel said 2010 was the best year in its history .',\n",
              " 'Sales of its microchips for data centres were up 15% in October-December , while those for PCs were flat .',\n",
              " \"For 2010 as a whole , Intel 's net profit totalled $ 11.7bn , up from $ 4.4bn in 2009 .\",\n",
              " 'RBC Capital Markets analyst Mahesh Sanganeria said Intel \\'s latest figures were \" great \" .',\n",
              " \"Earlier this week , Intel agreed to pay Nvidia $ 1.5bn to use its smaller rival 's graphics chip technology .\",\n",
              " 'Analysts said the move will enable Intel to increase its presence in hand-held computers , smartphones and tablet computers .',\n",
              " 'Lower IQ Linked To Higher Attempted Suicide Risk , Large Swedish Study',\n",
              " 'A large scale study of over 1.1 million men living in Sweden that spanned nearly a quarter of a century found a link between lower IQ measured in early adulthood and higher risk of attempted suicide later in life .',\n",
              " 'The study was the work of Dr Finn Rasmussen , a professor in the Department of Public Health Sciences at Karolinska Institute , Stockholm , Sweden , and colleagues from the UK and Australia .',\n",
              " 'They wrote a paper about it published in the 3 June online issue of the British Medical Journal , BMJ .',\n",
              " 'As well as exploring the links between early IQ scores and attempted suicide , Rasmussen and colleagues wanted to see if psychosis made a difference and also how variations in early IQ might relate to methods of attempted suicide .',\n",
              " 'Described as the largest study of its kind , they examined the medical records of nearly 1,109,500 men aged between 16 and 57 years living in Sweden .',\n",
              " 'Of these Rasmussen and colleagues found that nearly 18,000 ( 1.6 percent ) had been admitted to hospital at least once for attempting suicide during 24 years of follow up ( after having IQ tested ) .',\n",
              " 'They found that men with the lowest early adulthood IQ scores were almost nine times more likely to attempt suicide than those with the highest , and there was a stepwise increase in risk across the full IQ range , which was \" evident for attempted suicide by any means and for seven specific methods \" .',\n",
              " 'The authors wrote that while adjustment for \" childhood and adult socioeconomic status and , to a greater extent , education led to a reduction in magnitude \" , the links remained strong .',\n",
              " 'However , for men who had been diagnosed with psychosis before attempting suicide , a separate analysis showed there was no such link between IQ level and attempted suicide risk .',\n",
              " 'They concluded that \" low IQ scores in early adulthood were associated with a subsequently increased risk of attempted suicide in men free from psychosis , \" and recommended looking more closely at the underlying mechanisms to see if they reveal opportunities to intervene and reduce rates of suicide among men .',\n",
              " 'Speculating on the reasons behind the link , they suggested perhaps because people with lower IQ tend to have lower socioeconomic status and income , they could face more social and financial hardship , leading to their having more suicidal thoughts and behaviours .',\n",
              " 'They also mentioned that unhealthy lifestyle ( eg binge drinking ) has also been linked with lower IQ , and this could also affect frequency of suicidal thinking , plus other studies have also linked lower IQ with lower problem solving skills , and this could affect resilience to stress .',\n",
              " 'Another possibility is some research suggests that exposure to violence in childhood , either as a victim or a witness , can hamper IQ development as well as influence future suicide risk .',\n",
              " '\" Psychosis alters association between IQ and future risk of attempted suicide : cohort study of 1.109.475 Swedish men . \"',\n",
              " 'G David Batty , Elise Whitley , Ian J Deary , Catharine R Gale , Per Tynelius , Finn Rasmussen .',\n",
              " 'BMJ 2010 ; 340:c2506',\n",
              " 'Published online 3 June 2010',\n",
              " 'DOI:10.1136',\n",
              " 'Source : BMJ.',\n",
              " 'Written by : Catharine Paddock , PhD',\n",
              " 'Copyright : Medical News Today',\n",
              " 'Potatoes can reduce blood pressure',\n",
              " \"Just a couple of servings of potato a day can reduce blood pressure in obese or overweight people with high blood pressure , calling into question the lowly spud 's current reputation as a fattening , unhealthy food , according to new research presented at a conference in Denver , Colorado , USA , on Wednesday .\",\n",
              " '\" The potato , more than perhaps any other vegetable , has an undeserved bad reputation that has led many health-conscious people to ban them from their diet , \" said Dr Joe Vinson , a professor in the Department of Chemistry at the University of Scranton in Pennsylvania , who led the research that was presented at the 242nd National Meeting & Exposition of the American Chemical Society ( ACS ) .',\n",
              " 'But before you go out and order French fries , the preferred way of eating this most consumed of all vegetables in the US , consider this : the research was done with purple potatoes cooked in the microwave oven , with no oil or fat whatsoever .',\n",
              " 'Vinson said when you mention \" potato \" what generally comes to mind is \" fattening , high-carbs , empty calories \" .',\n",
              " 'But that is because of the way this humble vegetable is usually prepared .',\n",
              " '\" In reality , when prepared without frying and served without butter , margarine or sour cream , one potato has only 110 calories and dozens of healthful phytochemicals and vitamins , \" said Vinson , adding that he and his colleagues hope their study will help to remake the potato \\'s popular nutritional image .',\n",
              " 'For their study , Vinson and colleagues first did before and after tests of blood and urine of a group of healthy participants who ate either 6 to 8 small purple potatoes cooked in a microwave oven or the equivalent amount of starch in the form of biscuits .',\n",
              " 'The results showed that the antioxidant capacity of their blood and urine was increased by the potatoes and lowered by the biscuits .',\n",
              " 'Then they recruited 18 mostly overweight and obese patients with high blood pressure ( their average BMI was 29 ) and invited them to take part in a crossover study .',\n",
              " 'For 4 weeks , they ate either 6 to 8 purple potatoes twice a day or no potatoes in their normal diet , and then crossed over to the other regimen for another 4 weeks .',\n",
              " 'They found that eating potatoes was not accompanied by changes in body weight , blood fats ( lipids ) or glucose levels ( HbA1c ) , but resulted in lower blood pressure : the diastolic ( the lower reading of a conventional blood pressure reading such as 120_80 ) went down by a significant 4.3% , and systolic by 3.5% .',\n",
              " 'The blood pressure went down in spite of the fact 14 of the 18 participants were also on blood pressure medication .',\n",
              " 'The researchers concluded that purple potatoes are an effective agent for lowering blood pressure and thereby lower the risk of heart disease and stroke in patients with high blood pressure .',\n",
              " 'Although the participants in this study ate purple potatoes , which contain high amounts of antioxidants , such as phenolic acids , anthocyanins and carotenoids , Vinson and colleagues believe red-skin and white potatoes would confer similar benefits and are already planning a study that uses them .',\n",
              " 'Vinson said previous studies have found potatoes contain phytochemicals ( chemicals that occur naturally in plants ) that have similar effects to ACE-inhibitors , medications used to treat high blood pressure .',\n",
              " 'He said potatoes contain other phytochemicals in similar amounts as found in broccoli spinach and Brussels sprouts , and these could also be helping to lower blood pressure .',\n",
              " 'But deep frying potatoes subjects them to such high temperatures that it seems to destroy these healthy chemicals , leaving the consumer with only starch , fat and minerals .',\n",
              " 'Vinson said that just microwaving the raw potatoes seems to be the best way to preserve the antioxidants .',\n",
              " 'The United States Department of Agriculture Agricultural Research Service ( USDA-ARS ) State Cooperative Potato Research Program helped pay for the study .',\n",
              " 'Moving On From BRICs',\n",
              " 'Are the CIVETS group of countries the next big investment opportunity or nothing more than a convenient acronym ?',\n",
              " 'Ten years after Brazil , Russia , India and China were dubbed the BRICs , any early mover advantage for investing in them has long gone .',\n",
              " 'But lovers of acronyms will be relieved to learn the latest investment theme claiming to steal a march on emerging markets also has a catchy name .',\n",
              " 'The CIVETS group of countries-Colombia , Indonesia , Vietnam , Egypt , Turkey and South Africa-are being touted as the next generation of tiger economies , even if they are named after a rather more shy and retiring feline .',\n",
              " 'They all have large , young populations , with an average age of 27 .',\n",
              " 'This , or so the theory goes , means the countries that make up CIVETS will benefit from fast-rising domestic consumption .',\n",
              " 'They are also all fast-growing , relatively diverse economies , which means , unlike the BRICs , they should be less heavily dependent on external demand .',\n",
              " 'HSBC Global Asset Management launched the first fund specifically targeting the group of countries , its GIF CIVETS fund , in May .',\n",
              " 'HSBC points to rising levels of foreign direct investment across the CIVETS grouping , low levels of public debt-with the exception of Turke y-and sovereign credit ratings improving towards investment grade .',\n",
              " 'Critics point out that CIVETS countries have nothing in common beyond their youthful populations .',\n",
              " 'Furthermore , liquidity and corporate governance are patchy and political risk remains a factor , particularly in Egypt .',\n",
              " '\" This sounds like a gimmick to me , \" says Darius McDermott , investment expert at Chelsea Financial Services .',\n",
              " '\" What does Egypt have in common with Vietnam ?',\n",
              " 'At least the BRIC countries were the four biggest emerging economies so there was some rationale for grouping them together .',\n",
              " 'A general emerging markets fund would be a less risky way to get similar exposure . \"',\n",
              " 'But early numbers suggest that while Colombia , Indonesia , Vietnam , Egypt , Turkey and South Africa make strange bedfellows , CIVETS investors could prosper .',\n",
              " 'Although it was only established in 2007 , the S&P CIVETS 60 index is ahead of the S&P BRIC 40 and S&P Emerging BMI over one and three years .',\n",
              " 'While investing in acronyms is not always the most sensible approach , it seems the CIVETS might just pay off .',\n",
              " 'Colombia',\n",
              " 'Colombia is emerging as an attractive destination for investors as it works to distance itself from its troubled past .',\n",
              " 'Elected in 2010 , President Juan Manuel Santos has continued the center-right policies of former President Alvaro Uribe , prioritizing security and attracting overseas investors .',\n",
              " 'Improved security measures have led to a 90 % fall in kidnappings and a 46 % cut in the murder rate over the last decade , which has helped per capita gross domestic product to double since 2002 .',\n",
              " \"Meanwhile , Colombia 's sovereign debt was promoted to investment grade by all three ratings agencies this year .\",\n",
              " 'With a population of 46 million , Colombia has substantial oil , coal and natural gas deposits .',\n",
              " 'Other industries include textiles , coffee , nickel and emeralds .',\n",
              " 'Foreign direct investment stood at $ 6.8 billion ( €4.8 billion ) in 2010 , with the U.S. its principal partner .',\n",
              " \"HSBC Global Asset Management sees potential in Bancolombia , the country 's largest private bank , which has turned in a return on equity over 19 % for each of the last eight years .\",\n",
              " 'Indonesia',\n",
              " \"The world 's fourth-most populous nation , Indonesia 's massive domestic consumer market helped it weather the global financial crisis better than most .\",\n",
              " 'Turning in a GDP growth rate of 4.5 % in 2009 , it bounced back above the 6 % mark the following year and is predicted to stay there for the next few years at least .',\n",
              " 'Its sovereign debt rating has risen to one notch below investment grade in the last year .',\n",
              " 'With the lowest unit labor costs in the Asia-Pacific region and a government ambitious to emerge as a credible manufacturing hub it is no surprise some analysts see this country of 240 million people as the next BRIC .',\n",
              " 'But corruption remains a problem and fund managers see exposure best achieved through local subsidiaries of multinationals .',\n",
              " 'Andy Brown , investment manager at Aberdeen Asset Management holds Astra International , an auto conglomerate that is majority-owned by Jardine Matheson Group .',\n",
              " '\" We expect Astra International to benefit from the strong growth in domestic consumption , particularly through the sale of motorbikes , \" says Mr. Brown .',\n",
              " 'Vietnam',\n",
              " 'Vietnam has been one of the fastest growing economies in the world for the past 20 years , with the World Bank projecting 6 % GDP growth this year rising to 7.2 % in 2013 .',\n",
              " 'Its population of 90 million and proximity to China have led some analysts to describe it as a potential new manufacturing hub .',\n",
              " 'But while communist Vietnam has been moving away from a centrally planned economy for some years now , it only became a member of the World Trade Organization in 2007 and foreign investors still face significant obstacles .',\n",
              " '\" The reality is that investing in Vietnam is still a very laborious process , \" Mr. Brown says .',\n",
              " 'Cynics suggest Vietnam is better viewed as a holiday destination than an investment opportunity and it is only included within the CIVETS to make the acronym work .',\n",
              " \"Even HSBC 's fund only has a 1.5 % target allocation to the country .\",\n",
              " \"It currently holds Vietnam Dairy ( Vinamilk ) , which it sees as well positioned to benefit from Vietnam 's 10 % a year growth in demand for dairy products .\",\n",
              " 'Egypt',\n",
              " 'Revolution may have put the brakes on the Egyptian economy for the moment , but analysts expect it to regain its growth trajectory as soon as political stability returns .',\n",
              " \"The World Bank is predicting growth of just 1 % this year as a consequence of Egypt 's part in the Arab Spring .\",\n",
              " 'That compares to 5.2 % last year and pre-recession levels of 7 % or more .',\n",
              " 'But whenever normal business is resumed , Egypt will be in a position to capitalize on its many advantages .',\n",
              " 'These include fast growing ports on the Mediterranean and Red Sea linked by the Suez Canal and its vast untapped natural gas resources .',\n",
              " 'Some analysts describe it as \" the new Turkey \" .',\n",
              " 'As with other CIVETS countries , Egypt has a big , young populatio n -82 million strong and with a median age of 25 .',\n",
              " \"Aberdeen Asset Management sees bank NSGB , a subsidiary of Société Générale , as well positioned to take advantage of Egypt 's underdeveloped domestic consumption , importing a model it runs in Eastern Europe .\",\n",
              " '\" There is a structural under-penetration of people borrowing money in Egypt , \" Mr. Brown says .',\n",
              " 'Turkey',\n",
              " \"Located between Europe and major energy producers in the Middle East , Caspian Sea and Russia , Turkey 's growth prospects look strong .\",\n",
              " 'The World Bank expects GDP growth of 6.1 % this year , falling back to 5.3 % in 2013 .',\n",
              " 'That said , its economy contracted 4.7 % in 2009 , revealing its vulnerability to external shocks .',\n",
              " 'Turkey has relatively few natural resources of its own , but it has a diversified economy as well as major natural gas pipeline projects which make it an important energy corridor between Europe and Central Asia .',\n",
              " '\" Turkey is a dynamic economy that has trading links with the European Union but without the constraints of the euro zone or EU membership , \" says Phil Poole of HSBC Global Asset Management .',\n",
              " 'Mr. Poole rates national air carrier Turk Hava Yollari as a good investment , while Mr. Brown prefers domestic consumption plays through fast-growing retailer BIM , which has grown from 21 to over 2,600 stores in 15 years , and Anadolu Group , which owns brewer Efes Beer Group .',\n",
              " 'South Africa',\n",
              " 'Already the most developed country on the continent by a long way , South Africa has become a diversified economy , being rich in resources like gold and platinum and also attracting manufacturing investment .',\n",
              " 'Rising commodity prices , renewed demand in its automotive and chemical industries and spending on the World Cup have helped South Africa back into growth after it slipped into recession during the global economic downturn .',\n",
              " 'Developed world-standard financial , legal and accounting institutions mean corporate governance is of as high a standard in South Africa as in any other emerging market country .',\n",
              " 'They also make the country a gateway to investment into the rest of Africa .',\n",
              " 'HSBC Global Asset Management sees long-term growth potential in mining , energy and chemical firm Sasol .',\n",
              " \"South Africa 's fast-growing middle class makes domestic consumption an attractive theme , says Mr. Brown .\",\n",
              " 'He favors Massmart , the retailer Walmart bought 51 % of earlier this year .',\n",
              " 'Security contractors in Afghanistan \" fund Taliban \"',\n",
              " 'Heavy US reliance on private security in Afghanistan has helped to line the pockets of the Taliban , a US Senate report says .',\n",
              " 'The study by the Senate Armed Services Committee says this is because contractors often fail to vet local recruits and end up hiring warlords .',\n",
              " 'The report demands \" immediate and aggressive steps \" to improve the vetting and oversight process .',\n",
              " 'Some 26,000 private security personnel , mostly Afghans , operate in Afghanistan .',\n",
              " 'Nine out of 10 of them work for the US government .',\n",
              " 'Private security firms in Afghanistan provide guards for everything from diplomatic missions and aid agencies to supply convoys .',\n",
              " 'In August , Afghan President Hamid Karzai gave private security companies four months to end operations in Afghanistan .',\n",
              " '\" Mr White \"',\n",
              " '\" All too often our reliance on private security contractors in Afghanistan has empowered warlords , powerbrokers operating outside Afghan government control \" , Democratic Senator Carl Levin , chairman of the Senate committee , said .',\n",
              " '\" These contractors threaten the security of our troops and risk the success of our mission \" , he added .',\n",
              " \"The report paints a disturbing picture of how some of those hired have little training or experience in firing weapons , while other contractors are warlords with known links to the Taliban , the BBC 's Steve Kingstone in Washington says .\",\n",
              " 'The document gives several notorious examples , including a man the Americans have nicknamed Mr White - after a character in the violent film Reservoir Dogs .',\n",
              " 'He is said to have funded the Taliban and to have hosted a meeting with a senior commander responsible for a wave of roadside bombs targeting Nato troops .',\n",
              " 'The report also says that - by funding warlords with their own private militias - the US is undermining its declared aim of creating a more stable Afghanistan .',\n",
              " 'Report warns that the growth of a lucrative private security industry has drawn new recruits away from the Afghan police and army , where salaries are lower .',\n",
              " \"The study follows July 's Congressional inquiry , which said that trucking contractors paid tens of millions of dollars a year to local warlords for convoy protection .\",\n",
              " 'In recent months , US forces in Afghanistan have pledged to increase their oversight of security contractors and set up task forces to track the money spent among sub-contractors .',\n",
              " 'Baby gender blood tests \" accurate \"',\n",
              " \"Parents-to-be wanting to find out their baby 's gender can be assured that a blood test on the mother gives an accurate result , say scientists .\",\n",
              " \"The tests , which look for foetal DNA in the mother 's blood , are sold privately in many countries , including the UK.\",\n",
              " 'Yet few studies , until now , have scrutinised how well they perform .',\n",
              " 'US experts examined over 6,000 test results and found it was reliable 98 % of the time - providing it was used after the seventh week of pregnancy .',\n",
              " 'Anything earlier than this made the test unreliable , the Journal of the American Medical Association reports .',\n",
              " 'And urine-based tests appeared to be unreliable altogether .',\n",
              " 'A routine ultrasound scan of the baby can only give a gender prediction at about 12 weeks .',\n",
              " 'For couples who need to know the sex of their child for medical reasons - to see if their baby might be affected by a genetic disorder that affects only boys , for example - this wait can seem too long .',\n",
              " 'Dr Stephanie Devaney , who led the work at the National Institutes of Health in Bethesda , said the blood tests could be useful in clinical settings to aid early detection .',\n",
              " 'Some hospitals , like Great Ormond Street , already use them to help detect male babies that could have haemophilia .',\n",
              " 'But critics of the tests argue that the blood tests could also be used for family balancing - where couples will only continue with the pregnancy if , for example , the baby is a girl because they already have three boys .',\n",
              " 'The review , which looked at 57 studies representing 6,541 pregnancies , found the blood tests gave a genuine result ( sensitivity ) 95 % of the time and that this result was accurate or correct for gender ( specificity ) 98.6 % of the time .',\n",
              " 'For example , if the test was used by 100 couples , only a few of them would be left still not knowing with certainty what the sex of their unborn child was .',\n",
              " 'Professor Richard Fleming , of the Glasgow Centre for Reproductive Medicine , said it was important to have confirmation that the tests are valid .',\n",
              " '\" If you can test from seven weeks of pregnancy then that means knowing the sex a month before a scan could tell you , which is helpful . \"',\n",
              " 'He said it could help doctors check for sex-linked genetic conditions earlier .',\n",
              " 'But he said the technology was likely to be used for social reasons .',\n",
              " 'Dr Gillian Lockwood , medical director of Midland Fertility Services , agreed , saying : \" In the UK we would not normally approve of someone who decided to terminate because it was a \\'blue \\' pregnancy rather than a \\'pink \\' one .',\n",
              " '\" Sex selection for social reasons is illegal in the UK.',\n",
              " 'But there \\'s the danger that this is part of a slippery slope . \"',\n",
              " '1 . Chelsea fail to close gap after draw with Spurs',\n",
              " 'LONDON ( Reuters ) - Chelsea missed an opportunity to close the gap on fourth-placed Tottenham Hotspur as the lunchtime derby in the Premier League ended 0-0 at Stamford Bridge on Saturday .',\n",
              " 'Tottenham remain five points above Chelsea in the race for a top-four spot although they wasted the best opportunities in a fixture they have not won since 1990 .',\n",
              " 'A draw moved them level on 55 points with third-placed Arsenal who were at home to Aston Villa later .',\n",
              " 'Manager Harry Redknapp was upbeat even though his side hit the bar through Gareth Bale and wasted several excellent chances .',\n",
              " '\" It was a big point for us and it keeps them five points behind us ,\"',\n",
              " 'Redknapp told Sky Sports .',\n",
              " '\" We had some great chances and their keeper made some great saves .',\n",
              " 'I thought we edged it today .',\n",
              " 'We have n\\'t been playing badly and the confidence has never gone . \"',\n",
              " 'His counterpart Roberto Di Matteo argued that Chelsea could have been awarded a couple of penalties , but admitted his side had lacked a real goal threat .',\n",
              " '\" There was a clear penalty shout for us when ( Benoit Assou ) Ekotto pulled down Ramires at the far post \" .',\n",
              " '\" But we did n\\'t create enough chances or clear chances to get the goal we needed .',\n",
              " 'It wo n\\'t be easy to get into top four but we \\'ll try until the end . \"',\n",
              " '2 . Novak Djokovic beats Rafael Nadal in Australian Open final',\n",
              " 'By David Ornstein',\n",
              " 'BBC Sport',\n",
              " \"Novak Djokovic cemented his place at the top of men 's tennis by outlasting Rafael Nadal in a five-set epic to retain his Australian Open title .\",\n",
              " 'The world number one edged a gripping battle with the second seed in five hours 53 minutes to win his fifth Grand Slam .',\n",
              " 'It was the longest final in Grand Slam history , finishing at 01.37 local time .',\n",
              " 'Djokovic , who also beat the Spaniard in their previous six meetings , has now triumphed at the last three majors .',\n",
              " 'But this might be the sweetest of them all for so many reasons .',\n",
              " \"His semi-final against Britain 's Andy Murray was played a day later than Nadal 's with Roger Federer , and lasted four hours 50 minutes .\",\n",
              " 'The Serbian also fought back from break down in the final set as Nadal did everything he could to reverse the balance on their recent rivalry .',\n",
              " 'Djokovic fell to the floor after planting the winning forehand , tore his shirt off and celebrated with his team in the stands .',\n",
              " 'Djokovic , who will hold all four Grand Slam trophies if he wins the French Open in June , said .',\n",
              " '\" Rafa is one of best players ever and one of the most respected guys on tour \"',\n",
              " '\" Unfortunately there could n\\'t be two winners and I hope we have many more matches like this . \"',\n",
              " 'Nadal knew he needed to play more aggressively to halt his losing sequence against Djokovic and the plan initially worked as he opened with two service holds and then broke for 3-2 .',\n",
              " 'He was attacking Djokovic with ferocious pace and accuracy and , although the top seed pulled level at 4-4 , Nadal upped the ante when it mattered .',\n",
              " 'A huge off-forehand helped him break for 6-5 , and he served out the first set with a roar of delight .',\n",
              " \"But Djokovic gathered himself to register break points in Nadal 's first two service games of the second set , striking for 3-1 with a forehand volley to the baseline .\",\n",
              " \"Djokovic 's service statistics were vastly improved and although a rare double-fault made it 5-4 , Nadal returned the favour in the following game to level the contest .\",\n",
              " 'The momentum had shifted and Djokovic was unwilling to let go .',\n",
              " 'A poor Nadal forehand putting Djokovic 3-1 ahead in set three .',\n",
              " 'Djokovic dropped only two points on serve and broke again in game eight with a crushing forehand to lead for the first time .',\n",
              " 'Tension was palpable in a 88-minute fourth set as the crowd feasted on the latest thrilling encounter between two greats of the sport .',\n",
              " 'Neither man showed any vulnerability until game eight , when Nadal faced 0-40 but brilliantly saved all three break points to level at 4-4 .',\n",
              " 'He was suddenly buzzing and twice successfully served to stay in the set before overturning a 5-3 deficit to edge the tie-break',\n",
              " 'Nadal dropped to his knees with joy and it was he who made the first move in the decider , going 4-2 in front when Djokovic fired long .',\n",
              " 'However , Nadal then missed a routine backhand at at 30-15 in game seven , throwing the momentum away and helping Djokovic hit back .',\n",
              " 'The right-hander could not take an opportunity in game nine but made no mistake in game 11 when Nadal netted a backhand .',\n",
              " 'He finally brought proceedings to a close by wrong-footing Nadal - but only after saving the 26th break point of the match .',\n",
              " '\" Congratulations to Novak and his team , they deserve it , they are doing something fantastic ,\" stated Nadal .',\n",
              " '\" I \\'ve had a fantastic two weeks .',\n",
              " 'Thanks to my team for their support - without them it would be impossible for me to be here . \"',\n",
              " '3 . Football Association set to appoint new technical director',\n",
              " 'The Football Association plans to appoint a permanent technical director for the first time in a decade .',\n",
              " \"An experienced manager has been targeted to run the new national football centre at St George 's Park .\",\n",
              " 'Howard Wilkinson was the only other previous permanent incumbent .',\n",
              " 'General secretary Alex Horne said the position was part of the FA \\'s drive to improve \" the technical ability and knowledge of our players and coaches \" .',\n",
              " 'Since Wilkinson quit the post in 2002 to manage Sunderland , only Les Reed has performed the function on a temporary basis before the governing body parted ways with him two years later .',\n",
              " 'The new permanent technical director will report to director of football development , Trevor Brooking , and any candidate will have to possess a UEFA Pro Licence or equivalent , the FA announced on Tuesday .',\n",
              " \"The £100 million St George 's Park centre near Burton-upon-Trent is due to open in the summer and is at the heart of the FA 's drive to raise the standard of football at both elite and grassroots level .\",\n",
              " \"The complex is intended to be the training base for all England teams and act as the focal point for the FA 's coaching and player development work .\",\n",
              " 'It will contain the latest sports science and medical facilities , as well as 12 training pitches .',\n",
              " 'The successful candidate will also work with Premier League and Football League representatives on the new EPPP .',\n",
              " 'The EPPP contains 25 proposals to improve the chances of domestic talent breaking through into first-team football and was revealed by Brooking in January 2011 .',\n",
              " 'Manchester United reports £110.9m operating profit',\n",
              " 'Manchester United has reported a record annual operating profit of £110.9m .',\n",
              " 'Revenue rose to £334.1m for the year to the end of June 2011 , also a record , up £45m on the previous year .',\n",
              " ...]"
            ]
          },
          "metadata": {
            "tags": []
          },
          "execution_count": 67
        }
      ]
    },
    {
      "cell_type": "code",
      "metadata": {
        "id": "cVQY7SYFNeP8",
        "colab_type": "code",
        "colab": {
          "base_uri": "https://localhost:8080/",
          "height": 204
        },
        "outputId": "3ac34258-1e6e-4645-cee9-baba291914b7"
      },
      "source": [
        "sentiment_df.head()"
      ],
      "execution_count": 16,
      "outputs": [
        {
          "output_type": "execute_result",
          "data": {
            "text/html": [
              "<div>\n",
              "<style scoped>\n",
              "    .dataframe tbody tr th:only-of-type {\n",
              "        vertical-align: middle;\n",
              "    }\n",
              "\n",
              "    .dataframe tbody tr th {\n",
              "        vertical-align: top;\n",
              "    }\n",
              "\n",
              "    .dataframe thead th {\n",
              "        text-align: right;\n",
              "    }\n",
              "</style>\n",
              "<table border=\"1\" class=\"dataframe\">\n",
              "  <thead>\n",
              "    <tr style=\"text-align: right;\">\n",
              "      <th></th>\n",
              "      <th>English_text</th>\n",
              "      <th>Sentiment</th>\n",
              "    </tr>\n",
              "  </thead>\n",
              "  <tbody>\n",
              "    <tr>\n",
              "      <th>1</th>\n",
              "      <td>Dominique Strauss-Kahn DNA \" linked to maid \"</td>\n",
              "      <td>[{'label': 'POSITIVE', 'score': 0.6252788}]</td>\n",
              "    </tr>\n",
              "    <tr>\n",
              "      <th>2</th>\n",
              "      <td>Dominique Strauss-Kahn is being held under hou...</td>\n",
              "      <td>[{'label': 'NEGATIVE', 'score': 0.9738129}]</td>\n",
              "    </tr>\n",
              "    <tr>\n",
              "      <th>3</th>\n",
              "      <td>DNA found on the clothes of a New York hotel m...</td>\n",
              "      <td>[{'label': 'NEGATIVE', 'score': 0.98521155}]</td>\n",
              "    </tr>\n",
              "    <tr>\n",
              "      <th>4</th>\n",
              "      <td>These unconfirmed reports cited sources close ...</td>\n",
              "      <td>[{'label': 'NEGATIVE', 'score': 0.8924382}]</td>\n",
              "    </tr>\n",
              "    <tr>\n",
              "      <th>5</th>\n",
              "      <td>More tests from the room where the alleged att...</td>\n",
              "      <td>[{'label': 'NEGATIVE', 'score': 0.99367356}]</td>\n",
              "    </tr>\n",
              "  </tbody>\n",
              "</table>\n",
              "</div>"
            ],
            "text/plain": [
              "                                        English_text                                     Sentiment\n",
              "1      Dominique Strauss-Kahn DNA \" linked to maid \"   [{'label': 'POSITIVE', 'score': 0.6252788}]\n",
              "2  Dominique Strauss-Kahn is being held under hou...   [{'label': 'NEGATIVE', 'score': 0.9738129}]\n",
              "3  DNA found on the clothes of a New York hotel m...  [{'label': 'NEGATIVE', 'score': 0.98521155}]\n",
              "4  These unconfirmed reports cited sources close ...   [{'label': 'NEGATIVE', 'score': 0.8924382}]\n",
              "5  More tests from the room where the alleged att...  [{'label': 'NEGATIVE', 'score': 0.99367356}]"
            ]
          },
          "metadata": {
            "tags": []
          },
          "execution_count": 16
        }
      ]
    },
    {
      "cell_type": "markdown",
      "metadata": {
        "id": "IDwN2KkpMhNl",
        "colab_type": "text"
      },
      "source": [
        "### Named Entity Recognition\n",
        "For performance sake, I will only investigate the first 100 english sentences"
      ]
    },
    {
      "cell_type": "code",
      "metadata": {
        "id": "aMOC8A5vMuWd",
        "colab_type": "code",
        "colab": {}
      },
      "source": [
        "speech_tagging = pipeline('ner', model= 'bert-base-cased')"
      ],
      "execution_count": 0,
      "outputs": []
    },
    {
      "cell_type": "code",
      "metadata": {
        "id": "9vRX8XP1Rbz-",
        "colab_type": "code",
        "colab": {}
      },
      "source": [
        "tag = ([speech_tagging(sentence) for sentence in english_sentences[:100]])"
      ],
      "execution_count": 0,
      "outputs": []
    },
    {
      "cell_type": "code",
      "metadata": {
        "id": "sWZjHr-PSvSf",
        "colab_type": "code",
        "colab": {
          "base_uri": "https://localhost:8080/",
          "height": 289
        },
        "outputId": "6f1c0249-f374-4f3e-8ac7-b835c0e26e24"
      },
      "source": [
        "print('The English text: {}'.format(english_sentences[0]))\n",
        "print('\\nNamed Entity recognized from the text:\\n')\n",
        "tag[0]"
      ],
      "execution_count": 20,
      "outputs": [
        {
          "output_type": "stream",
          "text": [
            "The English text: Dominique Strauss-Kahn DNA \" linked to maid \"\n",
            "\n",
            "Named Entity recognized from the text:\n",
            "\n"
          ],
          "name": "stdout"
        },
        {
          "output_type": "execute_result",
          "data": {
            "text/plain": [
              "[{'entity': 'LABEL_0', 'score': 0.5934121608734131, 'word': '[CLS]'},\n",
              " {'entity': 'LABEL_0', 'score': 0.5186386108398438, 'word': 'Dominique'},\n",
              " {'entity': 'LABEL_0', 'score': 0.684639036655426, 'word': 'Strauss'},\n",
              " {'entity': 'LABEL_1', 'score': 0.5115693211555481, 'word': '-'},\n",
              " {'entity': 'LABEL_0', 'score': 0.5856021642684937, 'word': 'Kahn'},\n",
              " {'entity': 'LABEL_0', 'score': 0.555425763130188, 'word': 'DNA'},\n",
              " {'entity': 'LABEL_1', 'score': 0.5249403715133667, 'word': '\"'},\n",
              " {'entity': 'LABEL_1', 'score': 0.5365234017372131, 'word': 'linked'},\n",
              " {'entity': 'LABEL_1', 'score': 0.5083389282226562, 'word': 'to'},\n",
              " {'entity': 'LABEL_0', 'score': 0.5742794871330261, 'word': 'maid'},\n",
              " {'entity': 'LABEL_0', 'score': 0.539033055305481, 'word': '\"'},\n",
              " {'entity': 'LABEL_1', 'score': 0.5839194655418396, 'word': '[SEP]'}]"
            ]
          },
          "metadata": {
            "tags": []
          },
          "execution_count": 20
        }
      ]
    },
    {
      "cell_type": "code",
      "metadata": {
        "id": "kcKJyukNSg8B",
        "colab_type": "code",
        "colab": {}
      },
      "source": [
        "tag_df = pd.DataFrame({'English_text':english_sentences[:100], 'Named Entity': tag}, index = range(1,101))"
      ],
      "execution_count": 0,
      "outputs": []
    },
    {
      "cell_type": "code",
      "metadata": {
        "id": "BVccUaJtSnPm",
        "colab_type": "code",
        "colab": {
          "base_uri": "https://localhost:8080/",
          "height": 204
        },
        "outputId": "1b6c04be-3e77-45bd-f241-95aa71ded972"
      },
      "source": [
        "tag_df.head()"
      ],
      "execution_count": 22,
      "outputs": [
        {
          "output_type": "execute_result",
          "data": {
            "text/html": [
              "<div>\n",
              "<style scoped>\n",
              "    .dataframe tbody tr th:only-of-type {\n",
              "        vertical-align: middle;\n",
              "    }\n",
              "\n",
              "    .dataframe tbody tr th {\n",
              "        vertical-align: top;\n",
              "    }\n",
              "\n",
              "    .dataframe thead th {\n",
              "        text-align: right;\n",
              "    }\n",
              "</style>\n",
              "<table border=\"1\" class=\"dataframe\">\n",
              "  <thead>\n",
              "    <tr style=\"text-align: right;\">\n",
              "      <th></th>\n",
              "      <th>English_text</th>\n",
              "      <th>Named Entity</th>\n",
              "    </tr>\n",
              "  </thead>\n",
              "  <tbody>\n",
              "    <tr>\n",
              "      <th>1</th>\n",
              "      <td>Dominique Strauss-Kahn DNA \" linked to maid \"</td>\n",
              "      <td>[{'word': '[CLS]', 'score': 0.5934121608734131...</td>\n",
              "    </tr>\n",
              "    <tr>\n",
              "      <th>2</th>\n",
              "      <td>Dominique Strauss-Kahn is being held under hou...</td>\n",
              "      <td>[{'word': '[CLS]', 'score': 0.6303530335426331...</td>\n",
              "    </tr>\n",
              "    <tr>\n",
              "      <th>3</th>\n",
              "      <td>DNA found on the clothes of a New York hotel m...</td>\n",
              "      <td>[{'word': '[CLS]', 'score': 0.6918258666992188...</td>\n",
              "    </tr>\n",
              "    <tr>\n",
              "      <th>4</th>\n",
              "      <td>These unconfirmed reports cited sources close ...</td>\n",
              "      <td>[{'word': '[CLS]', 'score': 0.6406530737876892...</td>\n",
              "    </tr>\n",
              "    <tr>\n",
              "      <th>5</th>\n",
              "      <td>More tests from the room where the alleged att...</td>\n",
              "      <td>[{'word': '[CLS]', 'score': 0.6268342137336731...</td>\n",
              "    </tr>\n",
              "  </tbody>\n",
              "</table>\n",
              "</div>"
            ],
            "text/plain": [
              "                                        English_text                                       Named Entity\n",
              "1      Dominique Strauss-Kahn DNA \" linked to maid \"  [{'word': '[CLS]', 'score': 0.5934121608734131...\n",
              "2  Dominique Strauss-Kahn is being held under hou...  [{'word': '[CLS]', 'score': 0.6303530335426331...\n",
              "3  DNA found on the clothes of a New York hotel m...  [{'word': '[CLS]', 'score': 0.6918258666992188...\n",
              "4  These unconfirmed reports cited sources close ...  [{'word': '[CLS]', 'score': 0.6406530737876892...\n",
              "5  More tests from the room where the alleged att...  [{'word': '[CLS]', 'score': 0.6268342137336731..."
            ]
          },
          "metadata": {
            "tags": []
          },
          "execution_count": 22
        }
      ]
    },
    {
      "cell_type": "markdown",
      "metadata": {
        "id": "fjaOok4tyq4A",
        "colab_type": "text"
      },
      "source": [
        "### Preprocess"
      ]
    },
    {
      "cell_type": "code",
      "metadata": {
        "id": "KYxgqFfAyq4B",
        "colab_type": "code",
        "colab": {
          "base_uri": "https://localhost:8080/",
          "height": 34
        },
        "outputId": "37724f09-7b2e-40b1-cc65-897363f3a3f3"
      },
      "source": [
        "import tensorflow as tf\n",
        "from tensorflow import keras\n",
        "from keras.preprocessing.text import Tokenizer\n",
        "from keras.preprocessing.sequence import pad_sequences"
      ],
      "execution_count": 23,
      "outputs": [
        {
          "output_type": "stream",
          "text": [
            "Using TensorFlow backend.\n"
          ],
          "name": "stderr"
        }
      ]
    },
    {
      "cell_type": "code",
      "metadata": {
        "id": "uEGZhiBfyq4F",
        "colab_type": "code",
        "colab": {}
      },
      "source": [
        "def tokenize(x):\n",
        "    x_tk = Tokenizer()\n",
        "    x_tk.fit_on_texts(x)\n",
        "    \n",
        "    return x_tk.texts_to_sequences(x), x_tk"
      ],
      "execution_count": 0,
      "outputs": []
    },
    {
      "cell_type": "code",
      "metadata": {
        "id": "8bkFyRVwyq4J",
        "colab_type": "code",
        "colab": {}
      },
      "source": [
        "def pad(x, length = None):\n",
        "\n",
        "    if length is None:\n",
        "        length = max([len(sentence) for sentence in x])\n",
        "    \n",
        "    return pad_sequences(x, maxlen = length, padding = 'post')"
      ],
      "execution_count": 0,
      "outputs": []
    },
    {
      "cell_type": "code",
      "metadata": {
        "id": "JdTBmrN6yq4N",
        "colab_type": "code",
        "colab": {}
      },
      "source": [
        "def preprocess(x, y):\n",
        "    preprocess_x, x_tk = tokenize(x)\n",
        "    preprocess_y, y_tk = tokenize(y)\n",
        "\n",
        "    preprocess_x = pad(preprocess_x)\n",
        "    preprocess_y = pad(preprocess_y)\n",
        "\n",
        "    # Keras's sparse_categorical_crossentropy function requires the labels to be in 3 dimensions\n",
        "    preprocess_y = preprocess_y.reshape(*preprocess_y.shape, 1)\n",
        "\n",
        "    return preprocess_x, preprocess_y, x_tk, y_tk"
      ],
      "execution_count": 0,
      "outputs": []
    },
    {
      "cell_type": "code",
      "metadata": {
        "id": "zc-0gsYEyq4Q",
        "colab_type": "code",
        "colab": {}
      },
      "source": [
        "preproc_english_sentences, preproc_vietnamese_sentences, english_tokenizer, vietnamese_tokenizer =\\\n",
        "    preprocess(english_sentences, vietnamese_sentences)\n",
        "    \n",
        "max_english_sequence_length = preproc_english_sentences.shape[1]\n",
        "max_vietnamese_sequence_length = preproc_vietnamese_sentences.shape[1]\n",
        "english_vocab_size = len(english_tokenizer.word_index)\n",
        "vietnamese_vocab_size = len(vietnamese_tokenizer.word_index)"
      ],
      "execution_count": 0,
      "outputs": []
    },
    {
      "cell_type": "code",
      "metadata": {
        "id": "3z6As-Gdyq4V",
        "colab_type": "code",
        "colab": {
          "base_uri": "https://localhost:8080/",
          "height": 85
        },
        "outputId": "ca6b8a8a-e130-4b7f-f174-1e114e22416c"
      },
      "source": [
        "print(max_english_sequence_length)\n",
        "print(max_vietnamese_sequence_length)\n",
        "print(english_vocab_size)\n",
        "print(vietnamese_vocab_size)"
      ],
      "execution_count": 28,
      "outputs": [
        {
          "output_type": "stream",
          "text": [
            "128\n",
            "170\n",
            "30745\n",
            "13955\n"
          ],
          "name": "stdout"
        }
      ]
    },
    {
      "cell_type": "markdown",
      "metadata": {
        "id": "UpknhFKayq4Z",
        "colab_type": "text"
      },
      "source": [
        "### Machine Translation"
      ]
    },
    {
      "cell_type": "code",
      "metadata": {
        "id": "EyF_JCp4yq4f",
        "colab_type": "code",
        "colab": {}
      },
      "source": [
        "from tensorflow.python.keras.models import Model\n",
        "from tensorflow.python.keras.layers import GRU, Input, Dense, TimeDistributed, Activation, RepeatVector, Bidirectional\n",
        "from tensorflow.python.keras.layers.embeddings import Embedding\n",
        "from tensorflow.python.keras.optimizers import Adam\n",
        "from tensorflow.python.keras.losses import sparse_categorical_crossentropy\n",
        "tf.compat.v1.disable_eager_execution()\n"
      ],
      "execution_count": 0,
      "outputs": []
    },
    {
      "cell_type": "code",
      "metadata": {
        "id": "cpj6IKkIyq4i",
        "colab_type": "code",
        "colab": {}
      },
      "source": [
        "# Convert word ids to text\n",
        "def logits_to_text(logits, tokenizer):\n",
        "    index_to_words = {id: word for word, id in tokenizer.word_index.items()}\n",
        "    index_to_words[0] = '<PAD>'\n",
        "\n",
        "    return ' '.join([index_to_words[prediction] for prediction in np.argmax(logits, 1)])"
      ],
      "execution_count": 0,
      "outputs": []
    },
    {
      "cell_type": "code",
      "metadata": {
        "id": "ArBNt1EMyq4l",
        "colab_type": "code",
        "colab": {}
      },
      "source": [
        "def model(input_shape, output_sequence_length, english_vocab_size, vietnamese_vocab_size):\n",
        "    \"\"\"\n",
        "    Build and train a model that incorporates embedding, and bidirectional RNN on x and y\n",
        "    input_shape: Tuple of input shape\n",
        "    output_sequence_length: Length of output sequence\n",
        "    english_vocab_size: Number of unique English words in the dataset\n",
        "    french_vocab_size: Number of unique French words in the dataset\n",
        "    \"\"\"\n",
        "    embedding_size = 64\n",
        "    gru_dim = 128\n",
        "    learning_rate = 0.01\n",
        "    \n",
        "    input_seq = Input(shape = input_shape[1:])\n",
        "    embedding = Embedding(input_dim = english_vocab_size,\n",
        "                         output_dim = embedding_size,\n",
        "                         input_length = output_sequence_length)(input_seq)\n",
        "    birnn = Bidirectional(GRU(gru_dim, return_sequences= True))(embedding)\n",
        "    logits = TimeDistributed(Dense(units = vietnamese_vocab_size))(birnn)\n",
        "    model = Model(input_seq, Activation('softmax')(logits))\n",
        "    model.compile(loss = sparse_categorical_crossentropy,\n",
        "                 optimizer = Adam(lr = learning_rate),\n",
        "                 metrics = ['accuracy'])\n",
        "    return model\n",
        "\n"
      ],
      "execution_count": 0,
      "outputs": []
    },
    {
      "cell_type": "code",
      "metadata": {
        "id": "oTnm3mJcehlH",
        "colab_type": "code",
        "colab": {
          "base_uri": "https://localhost:8080/",
          "height": 544
        },
        "outputId": "eab1517e-e11f-461d-c7ab-1ab89b651d81"
      },
      "source": [
        "from tensorflow.python.client import device_lib\n",
        "print(device_lib.list_local_devices())\n"
      ],
      "execution_count": 34,
      "outputs": [
        {
          "output_type": "stream",
          "text": [
            "[name: \"/device:CPU:0\"\n",
            "device_type: \"CPU\"\n",
            "memory_limit: 268435456\n",
            "locality {\n",
            "}\n",
            "incarnation: 1411228472727408957\n",
            ", name: \"/device:XLA_CPU:0\"\n",
            "device_type: \"XLA_CPU\"\n",
            "memory_limit: 17179869184\n",
            "locality {\n",
            "}\n",
            "incarnation: 14764367242000809935\n",
            "physical_device_desc: \"device: XLA_CPU device\"\n",
            ", name: \"/device:XLA_GPU:0\"\n",
            "device_type: \"XLA_GPU\"\n",
            "memory_limit: 17179869184\n",
            "locality {\n",
            "}\n",
            "incarnation: 10246933403474899074\n",
            "physical_device_desc: \"device: XLA_GPU device\"\n",
            ", name: \"/device:GPU:0\"\n",
            "device_type: \"GPU\"\n",
            "memory_limit: 15505902797\n",
            "locality {\n",
            "  bus_id: 1\n",
            "  links {\n",
            "  }\n",
            "}\n",
            "incarnation: 13607807847511005210\n",
            "physical_device_desc: \"device: 0, name: Tesla P100-PCIE-16GB, pci bus id: 0000:00:04.0, compute capability: 6.0\"\n",
            "]\n"
          ],
          "name": "stdout"
        }
      ]
    },
    {
      "cell_type": "code",
      "metadata": {
        "id": "D1RLFOHZZCfV",
        "colab_type": "code",
        "colab": {}
      },
      "source": [
        "x = pad(preproc_english_sentences, max_vietnamese_sequence_length)\n",
        "x = x.reshape((-1, preproc_vietnamese_sentences.shape[-2])) \n"
      ],
      "execution_count": 0,
      "outputs": []
    },
    {
      "cell_type": "code",
      "metadata": {
        "id": "4vZPbV0kZTZk",
        "colab_type": "code",
        "colab": {
          "base_uri": "https://localhost:8080/",
          "height": 221
        },
        "outputId": "d4b7be41-67c9-49fc-90c4-b884ef95fa14"
      },
      "source": [
        "translation_model = model(\n",
        "    x.shape,\n",
        "    max_vietnamese_sequence_length,\n",
        "    english_vocab_size,\n",
        "    vietnamese_vocab_size)\n",
        "\n",
        "translation_model.fit(x, preproc_vietnamese_sentences, batch_size= 128, epochs= 5, validation_split=0.2)"
      ],
      "execution_count": 38,
      "outputs": [
        {
          "output_type": "stream",
          "text": [
            "Train on 36246 samples, validate on 9062 samples\n",
            "Epoch 1/5\n",
            "36246/36246 [==============================] - 227s 6ms/sample - loss: 1.2464 - accuracy: 0.8512 - val_loss: nan - val_accuracy: 0.8598\n",
            "Epoch 2/5\n",
            "36246/36246 [==============================] - 225s 6ms/sample - loss: 1.0562 - accuracy: 0.8581 - val_loss: nan - val_accuracy: 0.8622\n",
            "Epoch 3/5\n",
            "36246/36246 [==============================] - 224s 6ms/sample - loss: 0.9877 - accuracy: 0.8617 - val_loss: nan - val_accuracy: 0.8655\n",
            "Epoch 4/5\n",
            "36246/36246 [==============================] - 223s 6ms/sample - loss: 0.9176 - accuracy: 0.8649 - val_loss: nan - val_accuracy: 0.8669\n",
            "Epoch 5/5\n",
            "36246/36246 [==============================] - 223s 6ms/sample - loss: 0.8670 - accuracy: 0.8669 - val_loss: nan - val_accuracy: 0.8669\n"
          ],
          "name": "stdout"
        },
        {
          "output_type": "execute_result",
          "data": {
            "text/plain": [
              "<tensorflow.python.keras.callbacks.History at 0x7f297c61bc18>"
            ]
          },
          "metadata": {
            "tags": []
          },
          "execution_count": 38
        }
      ]
    },
    {
      "cell_type": "code",
      "metadata": {
        "id": "1rbJ8wv_ZqD3",
        "colab_type": "code",
        "colab": {
          "base_uri": "https://localhost:8080/",
          "height": 71
        },
        "outputId": "ca54e6ab-1977-4e5a-9ee5-859b67c6bedb"
      },
      "source": [
        "y_id_to_word = {value: key for key, value in vietnamese_tokenizer.word_index.items()}\n",
        "y_id_to_word[0] = '<PAD>'\n",
        "\n",
        "sentence = 'eye and ear'\n",
        "sentence = [english_tokenizer.word_index[word] for word in sentence.split()]\n",
        "sentence = pad_sequences([sentence], maxlen=x.shape[-1], padding='post')\n",
        "sentences = np.array([sentence[0], x[0]])\n",
        "predictions = translation_model.predict(sentences, len(sentences))\n",
        "\n",
        "print('Sample 1:')\n",
        "print(' '.join([y_id_to_word[np.argmax(x)] for x in predictions[0]]))"
      ],
      "execution_count": 81,
      "outputs": [
        {
          "output_type": "stream",
          "text": [
            "Sample 1:\n",
            "mắt và tai <PAD> <PAD> <PAD> <PAD> <PAD> <PAD> <PAD> <PAD> <PAD> <PAD> <PAD> <PAD> <PAD> <PAD> <PAD> <PAD> <PAD> <PAD> <PAD> <PAD> <PAD> <PAD> <PAD> <PAD> <PAD> <PAD> <PAD> <PAD> <PAD> <PAD> <PAD> <PAD> <PAD> <PAD> <PAD> <PAD> <PAD> <PAD> <PAD> <PAD> <PAD> <PAD> <PAD> <PAD> <PAD> <PAD> <PAD> <PAD> <PAD> <PAD> <PAD> <PAD> <PAD> <PAD> <PAD> <PAD> <PAD> <PAD> <PAD> <PAD> <PAD> <PAD> <PAD> <PAD> <PAD> <PAD> <PAD> <PAD> <PAD> <PAD> <PAD> <PAD> <PAD> <PAD> <PAD> <PAD> <PAD> <PAD> <PAD> <PAD> <PAD> <PAD> <PAD> <PAD> <PAD> <PAD> <PAD> <PAD> <PAD> <PAD> <PAD> <PAD> <PAD> <PAD> <PAD> <PAD> <PAD> <PAD> <PAD> <PAD> <PAD> <PAD> <PAD> <PAD> <PAD> <PAD> <PAD> <PAD> <PAD> <PAD> <PAD> <PAD> <PAD> <PAD> <PAD> <PAD> <PAD> <PAD> <PAD> <PAD> <PAD> <PAD> <PAD> <PAD> <PAD> <PAD> <PAD> <PAD> <PAD> <PAD> <PAD> <PAD> <PAD> <PAD> <PAD> <PAD> <PAD> <PAD> <PAD> <PAD> <PAD> <PAD> <PAD> <PAD> <PAD> <PAD> <PAD> <PAD> <PAD> <PAD> <PAD> <PAD> <PAD> <PAD> <PAD> <PAD> <PAD> <PAD> <PAD> <PAD> <PAD> <PAD> <PAD> <PAD> <PAD> <PAD> <PAD>\n"
          ],
          "name": "stdout"
        }
      ]
    },
    {
      "cell_type": "code",
      "metadata": {
        "id": "zdmVzxnQlS8L",
        "colab_type": "code",
        "colab": {}
      },
      "source": [
        ""
      ],
      "execution_count": 0,
      "outputs": []
    }
  ]
}